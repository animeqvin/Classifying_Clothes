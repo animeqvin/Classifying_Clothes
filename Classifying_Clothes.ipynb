{
  "cells": [
    {
      "cell_type": "markdown",
      "metadata": {
        "id": "view-in-github",
        "colab_type": "text"
      },
      "source": [
        "<a href=\"https://colab.research.google.com/github/animeqvin/Classifying_Clothes/blob/main/Classifying_Clothes.ipynb\" target=\"_parent\"><img src=\"https://colab.research.google.com/assets/colab-badge.svg\" alt=\"Open In Colab\"/></a>"
      ]
    },
    {
      "cell_type": "code",
      "execution_count": 1,
      "metadata": {
        "colab": {
          "base_uri": "https://localhost:8080/"
        },
        "id": "WLU9aU2lQ6Ak",
        "outputId": "517b008b-6d51-48d8-8123-8358b5413692"
      },
      "outputs": [
        {
          "output_type": "stream",
          "name": "stdout",
          "text": [
            "2.6.0+cu124\n",
            "0.21.0+cu124\n"
          ]
        }
      ],
      "source": [
        "import torch\n",
        "from torch import nn\n",
        "import torchvision\n",
        "from torchvision import datasets\n",
        "from torchvision import transforms\n",
        "from torchvision.transforms import ToTensor\n",
        "import matplotlib.pyplot as plt\n",
        "print(torch.__version__)\n",
        "print(torchvision.__version__)"
      ]
    },
    {
      "cell_type": "code",
      "execution_count": 2,
      "metadata": {
        "id": "jDvDZhfdV9c8",
        "colab": {
          "base_uri": "https://localhost:8080/"
        },
        "outputId": "42f2b796-2662-4250-870e-fbc77dc06dda"
      },
      "outputs": [
        {
          "output_type": "stream",
          "name": "stderr",
          "text": [
            "100%|██████████| 26.4M/26.4M [00:02<00:00, 11.0MB/s]\n",
            "100%|██████████| 29.5k/29.5k [00:00<00:00, 173kB/s]\n",
            "100%|██████████| 4.42M/4.42M [00:01<00:00, 3.24MB/s]\n",
            "100%|██████████| 5.15k/5.15k [00:00<00:00, 12.4MB/s]\n"
          ]
        }
      ],
      "source": [
        "# Setup training data\n",
        "train_data = datasets.FashionMNIST(\n",
        "    root=\"data\", # where to download data to?\n",
        "    train=True, # get training data\n",
        "    download=True, # download data if it doesn't exist on disk\n",
        "    transform=ToTensor(), # images come as PIL format, we want to turn into Torch tensors\n",
        "    target_transform=None # you can transform labels as well\n",
        ")\n",
        "\n",
        "# Setup testing data\n",
        "test_data = datasets.FashionMNIST(\n",
        "    root=\"data\",\n",
        "    train=False, # get test data\n",
        "    download=True,\n",
        "    transform=ToTensor()\n",
        ")"
      ]
    },
    {
      "cell_type": "code",
      "execution_count": 3,
      "metadata": {
        "colab": {
          "base_uri": "https://localhost:8080/"
        },
        "id": "twhgRkhPX027",
        "outputId": "65e8aefa-e3e4-42e7-8d87-2d87db2f1a54"
      },
      "outputs": [
        {
          "output_type": "execute_result",
          "data": {
            "text/plain": [
              "(60000, 10000)"
            ]
          },
          "metadata": {},
          "execution_count": 3
        }
      ],
      "source": [
        "len(train_data), len(test_data)"
      ]
    },
    {
      "cell_type": "code",
      "execution_count": 4,
      "metadata": {
        "colab": {
          "base_uri": "https://localhost:8080/"
        },
        "id": "3-Xs6Fc0YXOc",
        "outputId": "2f363c8a-b3b6-4e88-8750-0b336ca0f0e3"
      },
      "outputs": [
        {
          "output_type": "execute_result",
          "data": {
            "text/plain": [
              "(tensor([[[0.0000, 0.0000, 0.0000, 0.0000, 0.0000, 0.0000, 0.0000, 0.0000,\n",
              "           0.0000, 0.0000, 0.0000, 0.0000, 0.0000, 0.0000, 0.0000, 0.0000,\n",
              "           0.0000, 0.0000, 0.0000, 0.0000, 0.0000, 0.0000, 0.0000, 0.0000,\n",
              "           0.0000, 0.0000, 0.0000, 0.0000],\n",
              "          [0.0000, 0.0000, 0.0000, 0.0000, 0.0000, 0.0000, 0.0000, 0.0000,\n",
              "           0.0000, 0.0000, 0.0000, 0.0000, 0.0000, 0.0000, 0.0000, 0.0000,\n",
              "           0.0000, 0.0000, 0.0000, 0.0000, 0.0000, 0.0000, 0.0000, 0.0000,\n",
              "           0.0000, 0.0000, 0.0000, 0.0000],\n",
              "          [0.0000, 0.0000, 0.0000, 0.0000, 0.0000, 0.0000, 0.0000, 0.0000,\n",
              "           0.0000, 0.0000, 0.0000, 0.0000, 0.0000, 0.0000, 0.0000, 0.0000,\n",
              "           0.0000, 0.0000, 0.0000, 0.0000, 0.0000, 0.0000, 0.0000, 0.0000,\n",
              "           0.0000, 0.0000, 0.0000, 0.0000],\n",
              "          [0.0000, 0.0000, 0.0000, 0.0000, 0.0000, 0.0000, 0.0000, 0.0000,\n",
              "           0.0000, 0.0000, 0.0000, 0.0000, 0.0039, 0.0000, 0.0000, 0.0510,\n",
              "           0.2863, 0.0000, 0.0000, 0.0039, 0.0157, 0.0000, 0.0000, 0.0000,\n",
              "           0.0000, 0.0039, 0.0039, 0.0000],\n",
              "          [0.0000, 0.0000, 0.0000, 0.0000, 0.0000, 0.0000, 0.0000, 0.0000,\n",
              "           0.0000, 0.0000, 0.0000, 0.0000, 0.0118, 0.0000, 0.1412, 0.5333,\n",
              "           0.4980, 0.2431, 0.2118, 0.0000, 0.0000, 0.0000, 0.0039, 0.0118,\n",
              "           0.0157, 0.0000, 0.0000, 0.0118],\n",
              "          [0.0000, 0.0000, 0.0000, 0.0000, 0.0000, 0.0000, 0.0000, 0.0000,\n",
              "           0.0000, 0.0000, 0.0000, 0.0000, 0.0235, 0.0000, 0.4000, 0.8000,\n",
              "           0.6902, 0.5255, 0.5647, 0.4824, 0.0902, 0.0000, 0.0000, 0.0000,\n",
              "           0.0000, 0.0471, 0.0392, 0.0000],\n",
              "          [0.0000, 0.0000, 0.0000, 0.0000, 0.0000, 0.0000, 0.0000, 0.0000,\n",
              "           0.0000, 0.0000, 0.0000, 0.0000, 0.0000, 0.0000, 0.6078, 0.9255,\n",
              "           0.8118, 0.6980, 0.4196, 0.6118, 0.6314, 0.4275, 0.2510, 0.0902,\n",
              "           0.3020, 0.5098, 0.2824, 0.0588],\n",
              "          [0.0000, 0.0000, 0.0000, 0.0000, 0.0000, 0.0000, 0.0000, 0.0000,\n",
              "           0.0000, 0.0000, 0.0000, 0.0039, 0.0000, 0.2706, 0.8118, 0.8745,\n",
              "           0.8549, 0.8471, 0.8471, 0.6392, 0.4980, 0.4745, 0.4784, 0.5725,\n",
              "           0.5529, 0.3451, 0.6745, 0.2588],\n",
              "          [0.0000, 0.0000, 0.0000, 0.0000, 0.0000, 0.0000, 0.0000, 0.0000,\n",
              "           0.0000, 0.0039, 0.0039, 0.0039, 0.0000, 0.7843, 0.9098, 0.9098,\n",
              "           0.9137, 0.8980, 0.8745, 0.8745, 0.8431, 0.8353, 0.6431, 0.4980,\n",
              "           0.4824, 0.7686, 0.8980, 0.0000],\n",
              "          [0.0000, 0.0000, 0.0000, 0.0000, 0.0000, 0.0000, 0.0000, 0.0000,\n",
              "           0.0000, 0.0000, 0.0000, 0.0000, 0.0000, 0.7176, 0.8824, 0.8471,\n",
              "           0.8745, 0.8941, 0.9216, 0.8902, 0.8784, 0.8706, 0.8784, 0.8667,\n",
              "           0.8745, 0.9608, 0.6784, 0.0000],\n",
              "          [0.0000, 0.0000, 0.0000, 0.0000, 0.0000, 0.0000, 0.0000, 0.0000,\n",
              "           0.0000, 0.0000, 0.0000, 0.0000, 0.0000, 0.7569, 0.8941, 0.8549,\n",
              "           0.8353, 0.7765, 0.7059, 0.8314, 0.8235, 0.8275, 0.8353, 0.8745,\n",
              "           0.8627, 0.9529, 0.7922, 0.0000],\n",
              "          [0.0000, 0.0000, 0.0000, 0.0000, 0.0000, 0.0000, 0.0000, 0.0000,\n",
              "           0.0000, 0.0039, 0.0118, 0.0000, 0.0471, 0.8588, 0.8627, 0.8314,\n",
              "           0.8549, 0.7529, 0.6627, 0.8902, 0.8157, 0.8549, 0.8784, 0.8314,\n",
              "           0.8863, 0.7725, 0.8196, 0.2039],\n",
              "          [0.0000, 0.0000, 0.0000, 0.0000, 0.0000, 0.0000, 0.0000, 0.0000,\n",
              "           0.0000, 0.0000, 0.0235, 0.0000, 0.3882, 0.9569, 0.8706, 0.8627,\n",
              "           0.8549, 0.7961, 0.7765, 0.8667, 0.8431, 0.8353, 0.8706, 0.8627,\n",
              "           0.9608, 0.4667, 0.6549, 0.2196],\n",
              "          [0.0000, 0.0000, 0.0000, 0.0000, 0.0000, 0.0000, 0.0000, 0.0000,\n",
              "           0.0000, 0.0157, 0.0000, 0.0000, 0.2157, 0.9255, 0.8941, 0.9020,\n",
              "           0.8941, 0.9412, 0.9098, 0.8353, 0.8549, 0.8745, 0.9176, 0.8510,\n",
              "           0.8510, 0.8196, 0.3608, 0.0000],\n",
              "          [0.0000, 0.0000, 0.0039, 0.0157, 0.0235, 0.0275, 0.0078, 0.0000,\n",
              "           0.0000, 0.0000, 0.0000, 0.0000, 0.9294, 0.8863, 0.8510, 0.8745,\n",
              "           0.8706, 0.8588, 0.8706, 0.8667, 0.8471, 0.8745, 0.8980, 0.8431,\n",
              "           0.8549, 1.0000, 0.3020, 0.0000],\n",
              "          [0.0000, 0.0118, 0.0000, 0.0000, 0.0000, 0.0000, 0.0000, 0.0000,\n",
              "           0.0000, 0.2431, 0.5686, 0.8000, 0.8941, 0.8118, 0.8353, 0.8667,\n",
              "           0.8549, 0.8157, 0.8275, 0.8549, 0.8784, 0.8745, 0.8588, 0.8431,\n",
              "           0.8784, 0.9569, 0.6235, 0.0000],\n",
              "          [0.0000, 0.0000, 0.0000, 0.0000, 0.0706, 0.1725, 0.3216, 0.4196,\n",
              "           0.7412, 0.8941, 0.8627, 0.8706, 0.8510, 0.8863, 0.7843, 0.8039,\n",
              "           0.8275, 0.9020, 0.8784, 0.9176, 0.6902, 0.7373, 0.9804, 0.9725,\n",
              "           0.9137, 0.9333, 0.8431, 0.0000],\n",
              "          [0.0000, 0.2235, 0.7333, 0.8157, 0.8784, 0.8667, 0.8784, 0.8157,\n",
              "           0.8000, 0.8392, 0.8157, 0.8196, 0.7843, 0.6235, 0.9608, 0.7569,\n",
              "           0.8078, 0.8745, 1.0000, 1.0000, 0.8667, 0.9176, 0.8667, 0.8275,\n",
              "           0.8627, 0.9098, 0.9647, 0.0000],\n",
              "          [0.0118, 0.7922, 0.8941, 0.8784, 0.8667, 0.8275, 0.8275, 0.8392,\n",
              "           0.8039, 0.8039, 0.8039, 0.8627, 0.9412, 0.3137, 0.5882, 1.0000,\n",
              "           0.8980, 0.8667, 0.7373, 0.6039, 0.7490, 0.8235, 0.8000, 0.8196,\n",
              "           0.8706, 0.8941, 0.8824, 0.0000],\n",
              "          [0.3843, 0.9137, 0.7765, 0.8235, 0.8706, 0.8980, 0.8980, 0.9176,\n",
              "           0.9765, 0.8627, 0.7608, 0.8431, 0.8510, 0.9451, 0.2549, 0.2863,\n",
              "           0.4157, 0.4588, 0.6588, 0.8588, 0.8667, 0.8431, 0.8510, 0.8745,\n",
              "           0.8745, 0.8784, 0.8980, 0.1137],\n",
              "          [0.2941, 0.8000, 0.8314, 0.8000, 0.7569, 0.8039, 0.8275, 0.8824,\n",
              "           0.8471, 0.7255, 0.7725, 0.8078, 0.7765, 0.8353, 0.9412, 0.7647,\n",
              "           0.8902, 0.9608, 0.9373, 0.8745, 0.8549, 0.8314, 0.8196, 0.8706,\n",
              "           0.8627, 0.8667, 0.9020, 0.2627],\n",
              "          [0.1882, 0.7961, 0.7176, 0.7608, 0.8353, 0.7725, 0.7255, 0.7451,\n",
              "           0.7608, 0.7529, 0.7922, 0.8392, 0.8588, 0.8667, 0.8627, 0.9255,\n",
              "           0.8824, 0.8471, 0.7804, 0.8078, 0.7294, 0.7098, 0.6941, 0.6745,\n",
              "           0.7098, 0.8039, 0.8078, 0.4510],\n",
              "          [0.0000, 0.4784, 0.8588, 0.7569, 0.7020, 0.6706, 0.7176, 0.7686,\n",
              "           0.8000, 0.8235, 0.8353, 0.8118, 0.8275, 0.8235, 0.7843, 0.7686,\n",
              "           0.7608, 0.7490, 0.7647, 0.7490, 0.7765, 0.7529, 0.6902, 0.6118,\n",
              "           0.6549, 0.6941, 0.8235, 0.3608],\n",
              "          [0.0000, 0.0000, 0.2902, 0.7412, 0.8314, 0.7490, 0.6863, 0.6745,\n",
              "           0.6863, 0.7098, 0.7255, 0.7373, 0.7412, 0.7373, 0.7569, 0.7765,\n",
              "           0.8000, 0.8196, 0.8235, 0.8235, 0.8275, 0.7373, 0.7373, 0.7608,\n",
              "           0.7529, 0.8471, 0.6667, 0.0000],\n",
              "          [0.0078, 0.0000, 0.0000, 0.0000, 0.2588, 0.7843, 0.8706, 0.9294,\n",
              "           0.9373, 0.9490, 0.9647, 0.9529, 0.9569, 0.8667, 0.8627, 0.7569,\n",
              "           0.7490, 0.7020, 0.7137, 0.7137, 0.7098, 0.6902, 0.6510, 0.6588,\n",
              "           0.3882, 0.2275, 0.0000, 0.0000],\n",
              "          [0.0000, 0.0000, 0.0000, 0.0000, 0.0000, 0.0000, 0.0000, 0.1569,\n",
              "           0.2392, 0.1725, 0.2824, 0.1608, 0.1373, 0.0000, 0.0000, 0.0000,\n",
              "           0.0000, 0.0000, 0.0000, 0.0000, 0.0000, 0.0000, 0.0000, 0.0000,\n",
              "           0.0000, 0.0000, 0.0000, 0.0000],\n",
              "          [0.0000, 0.0000, 0.0000, 0.0000, 0.0000, 0.0000, 0.0000, 0.0000,\n",
              "           0.0000, 0.0000, 0.0000, 0.0000, 0.0000, 0.0000, 0.0000, 0.0000,\n",
              "           0.0000, 0.0000, 0.0000, 0.0000, 0.0000, 0.0000, 0.0000, 0.0000,\n",
              "           0.0000, 0.0000, 0.0000, 0.0000],\n",
              "          [0.0000, 0.0000, 0.0000, 0.0000, 0.0000, 0.0000, 0.0000, 0.0000,\n",
              "           0.0000, 0.0000, 0.0000, 0.0000, 0.0000, 0.0000, 0.0000, 0.0000,\n",
              "           0.0000, 0.0000, 0.0000, 0.0000, 0.0000, 0.0000, 0.0000, 0.0000,\n",
              "           0.0000, 0.0000, 0.0000, 0.0000]]]),\n",
              " 9)"
            ]
          },
          "metadata": {},
          "execution_count": 4
        }
      ],
      "source": [
        "image, label=train_data[0]\n",
        "image, label\n"
      ]
    },
    {
      "cell_type": "code",
      "execution_count": 5,
      "metadata": {
        "colab": {
          "base_uri": "https://localhost:8080/"
        },
        "id": "nz4K-N8PYjMs",
        "outputId": "2f4a0f54-53ed-48f7-9456-73f15ea13ba1"
      },
      "outputs": [
        {
          "output_type": "execute_result",
          "data": {
            "text/plain": [
              "['T-shirt/top',\n",
              " 'Trouser',\n",
              " 'Pullover',\n",
              " 'Dress',\n",
              " 'Coat',\n",
              " 'Sandal',\n",
              " 'Shirt',\n",
              " 'Sneaker',\n",
              " 'Bag',\n",
              " 'Ankle boot']"
            ]
          },
          "metadata": {},
          "execution_count": 5
        }
      ],
      "source": [
        "class_names=train_data.classes\n",
        "class_names"
      ]
    },
    {
      "cell_type": "code",
      "execution_count": 6,
      "metadata": {
        "colab": {
          "base_uri": "https://localhost:8080/"
        },
        "id": "FdsSuuIuY7Us",
        "outputId": "8be4fbb6-8ed8-438c-9c6d-4cc19e4912e8"
      },
      "outputs": [
        {
          "output_type": "execute_result",
          "data": {
            "text/plain": [
              "{'T-shirt/top': 0,\n",
              " 'Trouser': 1,\n",
              " 'Pullover': 2,\n",
              " 'Dress': 3,\n",
              " 'Coat': 4,\n",
              " 'Sandal': 5,\n",
              " 'Shirt': 6,\n",
              " 'Sneaker': 7,\n",
              " 'Bag': 8,\n",
              " 'Ankle boot': 9}"
            ]
          },
          "metadata": {},
          "execution_count": 6
        }
      ],
      "source": [
        "class_to_idx=train_data.class_to_idx\n",
        "class_to_idx"
      ]
    },
    {
      "cell_type": "code",
      "execution_count": 7,
      "metadata": {
        "colab": {
          "base_uri": "https://localhost:8080/",
          "height": 487
        },
        "id": "MrQd_1slZNB2",
        "outputId": "7e032000-f6f8-4c32-82ee-10f8826ee505"
      },
      "outputs": [
        {
          "output_type": "stream",
          "name": "stdout",
          "text": [
            "image shape: torch.Size([1, 28, 28])\n"
          ]
        },
        {
          "output_type": "execute_result",
          "data": {
            "text/plain": [
              "Text(0.5, 1.0, '9')"
            ]
          },
          "metadata": {},
          "execution_count": 7
        },
        {
          "output_type": "display_data",
          "data": {
            "text/plain": [
              "<Figure size 640x480 with 1 Axes>"
            ],
            "image/png": "[encoded data removed]"
          },
          "metadata": {}
        }
      ],
      "source": [
        "image, label=train_data[0]\n",
        "print(f\"image shape: {image.shape}\")\n",
        "plt.imshow(image.squeeze())\n",
        "plt.title(label)"
      ]
    },
    {
      "cell_type": "code",
      "execution_count": 8,
      "metadata": {
        "colab": {
          "base_uri": "https://localhost:8080/",
          "height": 452
        },
        "id": "qv1Zj13RbTIP",
        "outputId": "a71f153a-cb94-41d5-9a9d-639e2cf7a8c6"
      },
      "outputs": [
        {
          "output_type": "display_data",
          "data": {
            "text/plain": [
              "<Figure size 640x480 with 1 Axes>"
            ],
            "image/png": "[encoded data removed]"
          },
          "metadata": {}
        }
      ],
      "source": [
        "plt.imshow(image.squeeze(), cmap=\"gray\")\n",
        "plt.title(class_names[label]);\n",
        "plt.axis=(False);\n"
      ]
    },
    {
      "cell_type": "code",
      "execution_count": 9,
      "metadata": {
        "colab": {
          "base_uri": "https://localhost:8080/",
          "height": 776
        },
        "id": "xzHdr-JIbnO1",
        "outputId": "483dfa13-2f34-4e92-f0b2-bd954e7dced5"
      },
      "outputs": [
        {
          "output_type": "display_data",
          "data": {
            "text/plain": [
              "<Figure size 900x900 with 16 Axes>"
            ],
            "image/png": "[encoded data removed]"
          },
          "metadata": {}
        }
      ],
      "source": [
        "# Plot more images\n",
        "torch.manual_seed(42)\n",
        "fig = plt.figure(figsize=(9, 9))\n",
        "rows, cols = 4, 4\n",
        "for i in range(1, rows * cols + 1):\n",
        "    random_idx = torch.randint(0, len(train_data), size=[1]).item()\n",
        "    img, label = train_data[random_idx]\n",
        "    fig.add_subplot(rows, cols, i)\n",
        "    plt.imshow(img.squeeze(), cmap=\"gray\")\n",
        "    plt.title(class_names[label])\n",
        "    plt.axis=False;"
      ]
    },
    {
      "cell_type": "code",
      "execution_count": 10,
      "metadata": {
        "colab": {
          "base_uri": "https://localhost:8080/"
        },
        "id": "TkslVW9XdLyS",
        "outputId": "5e30b07a-d36d-4e2f-88f5-12b113d53053"
      },
      "outputs": [
        {
          "output_type": "stream",
          "name": "stdout",
          "text": [
            "Dataloaders: (<torch.utils.data.dataloader.DataLoader object at 0x7fb0525a11d0>, <torch.utils.data.dataloader.DataLoader object at 0x7fb05256add0>)\n",
            "Length of train dataloader: 1875 batches of 32\n",
            "Length of test dataloader: 313 batches of 32\n"
          ]
        }
      ],
      "source": [
        "from torch.utils.data import DataLoader\n",
        "\n",
        "# Setup the batch size hyperparameter\n",
        "BATCH_SIZE = 32\n",
        "\n",
        "# Turn datasets into iterables (batches)\n",
        "train_dataloader = DataLoader(train_data, # dataset to turn into iterable\n",
        "    batch_size=BATCH_SIZE, # how many samples per batch?\n",
        "    shuffle=True # shuffle data every epoch?\n",
        ")\n",
        "\n",
        "test_dataloader = DataLoader(test_data,\n",
        "    batch_size=BATCH_SIZE,\n",
        "    shuffle=False # don't necessarily have to shuffle the testing data\n",
        ")\n",
        "\n",
        "# Let's check out what we've created\n",
        "print(f\"Dataloaders: {train_dataloader, test_dataloader}\")\n",
        "print(f\"Length of train dataloader: {len(train_dataloader)} batches of {BATCH_SIZE}\")\n",
        "print(f\"Length of test dataloader: {len(test_dataloader)} batches of {BATCH_SIZE}\")"
      ]
    },
    {
      "cell_type": "code",
      "execution_count": 11,
      "metadata": {
        "colab": {
          "base_uri": "https://localhost:8080/"
        },
        "id": "zmn-ac4ViYhT",
        "outputId": "46717877-e84e-46a8-babd-a543830f7dab"
      },
      "outputs": [
        {
          "output_type": "execute_result",
          "data": {
            "text/plain": [
              "(torch.Size([32, 1, 28, 28]), torch.Size([32]))"
            ]
          },
          "metadata": {},
          "execution_count": 11
        }
      ],
      "source": [
        "# Check out what's inside the training dataloader\n",
        "train_features_batch, train_labels_batch = next(iter(train_dataloader))\n",
        "train_features_batch.shape, train_labels_batch.shape"
      ]
    },
    {
      "cell_type": "code",
      "execution_count": 12,
      "metadata": {
        "colab": {
          "base_uri": "https://localhost:8080/",
          "height": 487
        },
        "id": "7ybqSl-nltKp",
        "outputId": "62936d9f-8fe3-4213-82d4-e2cc4fb12657"
      },
      "outputs": [
        {
          "output_type": "stream",
          "name": "stdout",
          "text": [
            "Image size: torch.Size([1, 28, 28])\n",
            "Label: 6, label size: torch.Size([])\n"
          ]
        },
        {
          "output_type": "display_data",
          "data": {
            "text/plain": [
              "<Figure size 640x480 with 1 Axes>"
            ],
            "image/png": "[encoded data removed]"
          },
          "metadata": {}
        }
      ],
      "source": [
        "# Show a sample\n",
        "torch.manual_seed(42)\n",
        "random_idx = torch.randint(0, len(train_features_batch), size=[1]).item()\n",
        "img, label = train_features_batch[random_idx], train_labels_batch[random_idx]\n",
        "plt.imshow(img.squeeze(), cmap=\"gray\")\n",
        "plt.title(class_names[label])\n",
        "plt.axis=\"Off\";\n",
        "print(f\"Image size: {img.shape}\")\n",
        "print(f\"Label: {label}, label size: {label.shape}\")"
      ]
    },
    {
      "cell_type": "code",
      "execution_count": 13,
      "metadata": {
        "colab": {
          "base_uri": "https://localhost:8080/"
        },
        "id": "Rl12vJtJnYXT",
        "outputId": "195ec97a-598f-4cdd-abbc-cb6b77ad5481"
      },
      "outputs": [
        {
          "output_type": "stream",
          "name": "stdout",
          "text": [
            "Shape before flattening: torch.Size([1, 28, 28]) -> [color_channels, height, width]\n",
            "Shape after flattening: torch.Size([1, 784]) -> [color_channels, height*width]\n"
          ]
        }
      ],
      "source": [
        "# Create a flatten layer\n",
        "flatten_model = nn.Flatten() # all nn modules function as a model (can do a forward pass)\n",
        "\n",
        "# Get a single sample\n",
        "x = train_features_batch[0]\n",
        "\n",
        "# Flatten the sample\n",
        "output = flatten_model(x) # perform forward pass\n",
        "\n",
        "# Print out what happened\n",
        "print(f\"Shape before flattening: {x.shape} -> [color_channels, height, width]\")\n",
        "print(f\"Shape after flattening: {output.shape} -> [color_channels, height*width]\")\n",
        "\n",
        "# Try uncommenting below and see what happens\n",
        "#print(x)\n",
        "#print(output)"
      ]
    },
    {
      "cell_type": "code",
      "execution_count": 14,
      "metadata": {
        "id": "HrCXfvDwoJX1"
      },
      "outputs": [],
      "source": [
        "from torch import nn\n",
        "class FashionMNISTModelV0(nn.Module):\n",
        "    def __init__(self, input_shape: int, hidden_units: int, output_shape: int):\n",
        "        super().__init__()\n",
        "        self.layer_stack = nn.Sequential(\n",
        "            nn.Flatten(), # neural networks like their inputs in vector form\n",
        "            nn.Linear(in_features=input_shape, out_features=hidden_units), # in_features = number of features in a data sample (784 pixels)\n",
        "            nn.Linear(in_features=hidden_units, out_features=output_shape)\n",
        "        )\n",
        "\n",
        "    def forward(self, x):\n",
        "        return self.layer_stack(x)"
      ]
    },
    {
      "cell_type": "code",
      "execution_count": 15,
      "metadata": {
        "id": "mqDV8mzNrVUB",
        "colab": {
          "base_uri": "https://localhost:8080/"
        },
        "outputId": "24454efe-9b38-4933-83b7-f2ced3c78e61"
      },
      "outputs": [
        {
          "output_type": "execute_result",
          "data": {
            "text/plain": [
              "FashionMNISTModelV0(\n",
              "  (layer_stack): Sequential(\n",
              "    (0): Flatten(start_dim=1, end_dim=-1)\n",
              "    (1): Linear(in_features=784, out_features=10, bias=True)\n",
              "    (2): Linear(in_features=10, out_features=10, bias=True)\n",
              "  )\n",
              ")"
            ]
          },
          "metadata": {},
          "execution_count": 15
        }
      ],
      "source": [
        "torch.manual_seed(42)\n",
        "\n",
        "# Need to setup model with input parameters\n",
        "model_0 = FashionMNISTModelV0(input_shape=784, # one for every pixel (28x28)\n",
        "    hidden_units=10, # how many units in the hiden layer\n",
        "    output_shape=len(class_names) # one for every class\n",
        ")\n",
        "model_0.to(\"cpu\") # keep model on CPU to begin with"
      ]
    },
    {
      "cell_type": "code",
      "execution_count": 16,
      "metadata": {
        "colab": {
          "base_uri": "https://localhost:8080/"
        },
        "id": "a9j_N4edr7kN",
        "outputId": "d78ca592-d716-4944-fcef-f22c91c00633"
      },
      "outputs": [
        {
          "output_type": "execute_result",
          "data": {
            "text/plain": [
              "tensor([[-0.0315,  0.3171,  0.0531, -0.2525,  0.5959,  0.2112,  0.3233,  0.2694,\n",
              "         -0.1004,  0.0157]], grad_fn=<AddmmBackward0>)"
            ]
          },
          "metadata": {},
          "execution_count": 16
        }
      ],
      "source": [
        "dummy_x=torch.rand([1,1,28,28])\n",
        "model_0(dummy_x)"
      ]
    },
    {
      "cell_type": "code",
      "execution_count": 17,
      "metadata": {
        "colab": {
          "base_uri": "https://localhost:8080/"
        },
        "id": "VWWoBWKCsV-j",
        "outputId": "3a913664-3a8b-49fd-e1c3-c783d23219c8"
      },
      "outputs": [
        {
          "output_type": "stream",
          "name": "stdout",
          "text": [
            "Downloading helper_functions.py\n"
          ]
        }
      ],
      "source": [
        "import requests\n",
        "from pathlib import Path\n",
        "\n",
        "# Download helper functions from Learn PyTorch repo (if not already downloaded)\n",
        "if Path(\"helper_functions.py\").is_file():\n",
        "  print(\"helper_functions.py already exists, skipping download\")\n",
        "else:\n",
        "  print(\"Downloading helper_functions.py\")\n",
        "  # Note: you need the \"raw\" GitHub URL for this to work\n",
        "  request = requests.get(\"https://raw.githubusercontent.com/mrdbourke/pytorch-deep-learning/main/helper_functions.py\")\n",
        "  with open(\"helper_functions.py\", \"wb\") as f:\n",
        "    f.write(request.content)"
      ]
    },
    {
      "cell_type": "code",
      "execution_count": 18,
      "metadata": {
        "id": "SVkmJV-CyFTC"
      },
      "outputs": [],
      "source": [
        "# Import accuracy metric\n",
        "from helper_functions import accuracy_fn # Note: could also use torchmetrics.Accuracy(task = 'multiclass', num_classes=len(class_names)).to(device)\n",
        "\n",
        "# Setup loss function and optimizer\n",
        "loss_fn = nn.CrossEntropyLoss() # this is also called \"criterion\"/\"cost function\" in some places\n",
        "optimizer = torch.optim.SGD(params=model_0.parameters(), lr=0.1)"
      ]
    },
    {
      "cell_type": "code",
      "execution_count": 19,
      "metadata": {
        "id": "gg3D9Ft51rfM"
      },
      "outputs": [],
      "source": [
        "from timeit import default_timer as timer\n",
        "def print_train_time(start: float, end: float, device: torch.device = None):\n",
        "    \"\"\"Prints difference between start and end time.\n",
        "\n",
        "    Args:\n",
        "        start (float): Start time of computation (preferred in timeit format).\n",
        "        end (float): End time of computation.\n",
        "        device ([type], optional): Device that compute is running on. Defaults to None.\n",
        "\n",
        "    Returns:\n",
        "        float: time between start and end in seconds (higher is longer).\n",
        "    \"\"\"\n",
        "    total_time = end - start\n",
        "    print(f\"Train time on {device}: {total_time:.3f} seconds\")\n",
        "    return total_time"
      ]
    },
    {
      "cell_type": "code",
      "execution_count": 20,
      "metadata": {
        "colab": {
          "base_uri": "https://localhost:8080/"
        },
        "id": "bwL5QD_u2_6V",
        "outputId": "eea0bda0-965d-442b-8091-ecc391913398"
      },
      "outputs": [
        {
          "output_type": "stream",
          "name": "stdout",
          "text": [
            "Train time on cpu: 0.000 seconds\n"
          ]
        },
        {
          "output_type": "execute_result",
          "data": {
            "text/plain": [
              "2.7289999991353397e-05"
            ]
          },
          "metadata": {},
          "execution_count": 20
        }
      ],
      "source": [
        "start_time=timer()\n",
        "end_time=timer()\n",
        "print_train_time(start=start_time,\n",
        "                 end=end_time,\n",
        "                 device=\"cpu\")"
      ]
    },
    {
      "cell_type": "code",
      "execution_count": 21,
      "metadata": {
        "colab": {
          "base_uri": "https://localhost:8080/",
          "height": 275,
          "referenced_widgets": [
            "6c928c5661b34c209ca74e4068cff91b",
            "4399fc022ebf49abb031182c5ca669ab",
            "b53b72e377b24a15b02f4f8606372e5d",
            "7c3fccc60d3540b2b7b2bfc9b613db85",
            "a2d00deecf444899944a5b78cc32286f",
            "b4bdce707b2548849c71434e711acb89",
            "a05fbe8b516c4faab57a677abb5ff6e6",
            "85905479de3e442b8587c50b0e8f445e",
            "e73426da5231499e84d25d96050e2c65",
            "7ef3c74fb0a54d63ad0c77b3552b6b9d",
            "87b31e97c7094270a9f062efbc7ac64e"
          ]
        },
        "id": "BE9efBMJ3Riq",
        "outputId": "768ae7c1-d708-44a5-b7c1-408913ff5b39"
      },
      "outputs": [
        {
          "output_type": "display_data",
          "data": {
            "text/plain": [
              "  0%|          | 0/3 [00:00<?, ?it/s]"
            ],
            "application/vnd.jupyter.widget-view+json": {
              "version_major": 2,
              "version_minor": 0,
              "model_id": "6c928c5661b34c209ca74e4068cff91b"
            }
          },
          "metadata": {}
        },
        {
          "output_type": "stream",
          "name": "stdout",
          "text": [
            "Epoch: 0\n",
            "-------\n",
            "\n",
            "Train loss: 0.5904 | test loss 0.5095 | test acc 25678.12\n",
            "Epoch: 1\n",
            "-------\n",
            "\n",
            "Train loss: 0.4763 | test loss 0.4799 | test acc 26040.62\n",
            "Epoch: 2\n",
            "-------\n",
            "\n",
            "Train loss: 0.4550 | test loss 0.4766 | test acc 26112.50\n",
            "Train time on cpu: 24.996 seconds\n"
          ]
        }
      ],
      "source": [
        "from tqdm.auto import tqdm\n",
        "\n",
        "# Set the seed and start the timer\n",
        "torch.manual_seed(42)\n",
        "train_time_start_on_cpu = timer()\n",
        "\n",
        "# Set the number of epochs (we'll keep this small for faster training times)\n",
        "epochs = 3\n",
        "\n",
        "# Create training and testing loop\n",
        "for epoch in tqdm(range(epochs)):\n",
        "    print(f\"Epoch: {epoch}\\n-------\")\n",
        "    ### Training\n",
        "    train_loss = 0\n",
        "    # Add a loop to loop through training batches\n",
        "    for batch, (x, y) in enumerate(train_dataloader):\n",
        "        model_0.train()\n",
        "        # 1. Forward pass\n",
        "        y_pred = model_0(x)\n",
        "\n",
        "        # 2. Calculate loss (per batch)\n",
        "        loss = loss_fn(y_pred, y)\n",
        "        train_loss += loss # accumulatively add up the loss per epoch\n",
        "\n",
        "        # 3. Optimizer zero grad\n",
        "        optimizer.zero_grad()\n",
        "\n",
        "        # 4. Loss backward\n",
        "        loss.backward()\n",
        "\n",
        "        # 5. Optimizer step\n",
        "        optimizer.step()\n",
        "    if batch%400==0:\n",
        "     print(f\"looked at{batch*len(x)}/{len(train_dataloader.dataset)} samples\")\n",
        "    train_loss /= len(train_dataloader)\n",
        "    test_loss, test_acc=0,0\n",
        "    model_0.eval()\n",
        "    with torch.inference_mode():\n",
        "     for x, y in test_dataloader:\n",
        "       test_pred=model_0(x)\n",
        "       test_loss += loss_fn(test_pred, y)\n",
        "       test_acc += accuracy_fn(y_true=y, y_pred=test_pred.argmax(dim=1))\n",
        "     test_loss/=len(test_dataloader)\n",
        "     print(f\"\\nTrain loss: {train_loss:.4f} | test loss {test_loss:.4f} | test acc {test_acc:.2f}\")\n",
        "train_time_end_on_cpu=timer()\n",
        "total_train_time_model_0=print_train_time(start=train_time_start_on_cpu,\n",
        "                                              end=train_time_end_on_cpu,\n",
        "                                              device=str(next(model_0.parameters()).device))\n"
      ]
    },
    {
      "cell_type": "code",
      "execution_count": 22,
      "metadata": {
        "colab": {
          "base_uri": "https://localhost:8080/",
          "height": 35
        },
        "id": "fD1ToZMni2sv",
        "outputId": "237a2d5d-aade-4862-e8d5-31922182b0ce"
      },
      "outputs": [
        {
          "output_type": "execute_result",
          "data": {
            "text/plain": [
              "'cpu'"
            ],
            "application/vnd.google.colaboratory.intrinsic+json": {
              "type": "string"
            }
          },
          "metadata": {},
          "execution_count": 22
        }
      ],
      "source": [
        "str(next(model_0.parameters()).device)"
      ]
    },
    {
      "cell_type": "code",
      "execution_count": 23,
      "metadata": {
        "id": "p4QzT1lNjRtK",
        "colab": {
          "base_uri": "https://localhost:8080/"
        },
        "outputId": "2078aabb-4872-457c-9111-443d63377abf"
      },
      "outputs": [
        {
          "output_type": "execute_result",
          "data": {
            "text/plain": [
              "{'model_name': 'FashionMNISTModelV0',\n",
              " 'model_loss': 0.47663888335227966,\n",
              " 'model_acc': 83.42651757188499}"
            ]
          },
          "metadata": {},
          "execution_count": 23
        }
      ],
      "source": [
        "torch.manual_seed(42)\n",
        "def eval_model(model: torch.nn.Module,\n",
        "               data_loader: torch.utils.data.DataLoader,\n",
        "               loss_fn: torch.nn.Module,\n",
        "               accuracy_fn):\n",
        "    \"\"\"Returns a dictionary containing the results of model predicting on data_loader.\n",
        "\n",
        "    Args:\n",
        "        model (torch.nn.Module): A PyTorch model capable of making predictions on data_loader.\n",
        "        data_loader (torch.utils.data.DataLoader): The target dataset to predict on.\n",
        "        loss_fn (torch.nn.Module): The loss function of model.\n",
        "        accuracy_fn: An accuracy function to compare the models predictions to the truth labels.\n",
        "\n",
        "    Returns:\n",
        "        (dict): Results of model making predictions on data_loader.\n",
        "    \"\"\"\n",
        "    loss, acc = 0, 0\n",
        "    model.eval()\n",
        "    with torch.inference_mode():\n",
        "        for X, y in data_loader:\n",
        "            # Make predictions with the model\n",
        "            y_pred = model(X)\n",
        "\n",
        "            # Accumulate the loss and accuracy values per batch\n",
        "            loss += loss_fn(y_pred, y)\n",
        "            acc += accuracy_fn(y_true=y,\n",
        "                                y_pred=y_pred.argmax(dim=1)) # For accuracy, need the prediction labels (logits -> pred_prob -> pred_labels)\n",
        "\n",
        "        # Scale loss and acc to find the average loss/acc per batch\n",
        "        loss /= len(data_loader)\n",
        "        acc /= len(data_loader)\n",
        "\n",
        "    return {\"model_name\": model.__class__.__name__, # only works when model was created with a class\n",
        "            \"model_loss\": loss.item(),\n",
        "            \"model_acc\": acc}\n",
        "\n",
        "# Calculate model 0 results on test dataset\n",
        "model_0_results = eval_model(model=model_0, data_loader=test_dataloader,\n",
        "    loss_fn=loss_fn, accuracy_fn=accuracy_fn\n",
        ")\n",
        "model_0_results"
      ]
    },
    {
      "cell_type": "code",
      "execution_count": 24,
      "metadata": {
        "id": "1NkZOv7Gna8O",
        "colab": {
          "base_uri": "https://localhost:8080/",
          "height": 35
        },
        "outputId": "d2367272-f9b3-40f9-d225-ebc0bd4df364"
      },
      "outputs": [
        {
          "output_type": "execute_result",
          "data": {
            "text/plain": [
              "'cuda'"
            ],
            "application/vnd.google.colaboratory.intrinsic+json": {
              "type": "string"
            }
          },
          "metadata": {},
          "execution_count": 24
        }
      ],
      "source": [
        "# Setup device agnostic code\n",
        "import torch\n",
        "device = \"cuda\" if torch.cuda.is_available() else \"cpu\"\n",
        "device"
      ]
    },
    {
      "cell_type": "code",
      "source": [
        "# Create a model with non-linear and linear layers\n",
        "class FashionMNISTModelV1(nn.Module):\n",
        "    def __init__(self, input_shape: int, hidden_units: int, output_shape: int):\n",
        "        super().__init__()\n",
        "        self.layer_stack = nn.Sequential(\n",
        "            nn.Flatten(), # flatten inputs into single vector\n",
        "            nn.Linear(in_features=input_shape, out_features=hidden_units),\n",
        "            nn.ReLU(),\n",
        "            nn.Linear(in_features=hidden_units, out_features=output_shape),\n",
        "            nn.ReLU()\n",
        "        )\n",
        "\n",
        "    def forward(self, x: torch.Tensor):\n",
        "        return self.layer_stack(x)"
      ],
      "metadata": {
        "id": "tmoQI8n0MFqV"
      },
      "execution_count": 25,
      "outputs": []
    },
    {
      "cell_type": "code",
      "source": [
        "torch.manual_seed(42)\n",
        "model_1 = FashionMNISTModelV1(input_shape=784, # number of input features\n",
        "    hidden_units=10,\n",
        "    output_shape=len(class_names) # number of output classes desired\n",
        ").to(device) # send model to GPU if it's available\n",
        "next(model_1.parameters()).device # check model device"
      ],
      "metadata": {
        "colab": {
          "base_uri": "https://localhost:8080/"
        },
        "id": "efZg8TLHOpVk",
        "outputId": "cdcc27f2-6838-45e7-c151-7fc7be35c55c"
      },
      "execution_count": 26,
      "outputs": [
        {
          "output_type": "execute_result",
          "data": {
            "text/plain": [
              "device(type='cuda', index=0)"
            ]
          },
          "metadata": {},
          "execution_count": 26
        }
      ]
    },
    {
      "cell_type": "code",
      "source": [
        "from helper_functions import accuracy_fn\n",
        "loss_fn = nn.CrossEntropyLoss()\n",
        "optimizer = torch.optim.SGD(params=model_1.parameters(),\n",
        "                            lr=0.1)"
      ],
      "metadata": {
        "id": "vTnUZUiHOqBl"
      },
      "execution_count": 27,
      "outputs": []
    },
    {
      "cell_type": "code",
      "source": [
        "def train_step(model: torch.nn.Module,\n",
        "               data_loader: torch.utils.data.DataLoader,\n",
        "               loss_fn: torch.nn.Module,\n",
        "               optimizer: torch.optim.Optimizer,\n",
        "               accuracy_fn,\n",
        "               device: torch.device = device):\n",
        "    train_loss, train_acc = 0, 0\n",
        "    model.to(device)\n",
        "    for batch, (X, y) in enumerate(data_loader):\n",
        "        # Send data to GPU\n",
        "        X, y = X.to(device), y.to(device)\n",
        "\n",
        "        # 1. Forward pass\n",
        "        y_pred = model(X)\n",
        "\n",
        "        # 2. Calculate loss\n",
        "        loss = loss_fn(y_pred, y)\n",
        "        train_loss += loss\n",
        "        train_acc += accuracy_fn(y_true=y,\n",
        "                                 y_pred=y_pred.argmax(dim=1)) # Go from logits -> pred labels\n",
        "\n",
        "        # 3. Optimizer zero grad\n",
        "        optimizer.zero_grad()\n",
        "\n",
        "        # 4. Loss backward\n",
        "        loss.backward()\n",
        "\n",
        "        # 5. Optimizer step\n",
        "        optimizer.step()\n",
        "\n",
        "    # Calculate loss and accuracy per epoch and print out what's happening\n",
        "    train_loss /= len(data_loader)\n",
        "    train_acc /= len(data_loader)\n",
        "    print(f\"Train loss: {train_loss:.5f} | Train accuracy: {train_acc:.2f}%\")\n",
        "\n",
        "def test_step(data_loader: torch.utils.data.DataLoader,\n",
        "              model: torch.nn.Module,\n",
        "              loss_fn: torch.nn.Module,\n",
        "              accuracy_fn,\n",
        "              device: torch.device = device):\n",
        "    test_loss, test_acc = 0, 0\n",
        "    model.to(device)\n",
        "    model.eval() # put model in eval mode\n",
        "    # Turn on inference context manager\n",
        "    with torch.inference_mode():\n",
        "        for X, y in data_loader:\n",
        "            # Send data to GPU\n",
        "            X, y = X.to(device), y.to(device)\n",
        "\n",
        "            # 1. Forward pass\n",
        "            test_pred = model(X)\n",
        "\n",
        "            # 2. Calculate loss and accuracy\n",
        "            test_loss += loss_fn(test_pred, y)\n",
        "            test_acc += accuracy_fn(y_true=y,\n",
        "                y_pred=test_pred.argmax(dim=1) # Go from logits -> pred labels\n",
        "            )\n",
        "\n",
        "        # Adjust metrics and print out\n",
        "        test_loss /= len(data_loader)\n",
        "        test_acc /= len(data_loader)\n",
        "        print(f\"Test loss: {test_loss:.5f} | Test accuracy: {test_acc:.2f}%\\n\")"
      ],
      "metadata": {
        "id": "mrIwINEGhrfC"
      },
      "execution_count": 28,
      "outputs": []
    },
    {
      "cell_type": "code",
      "source": [
        "torch.manual_seed(42)\n",
        "\n",
        "# Measure time\n",
        "from timeit import default_timer as timer\n",
        "train_time_start_on_gpu = timer()\n",
        "\n",
        "epochs = 3\n",
        "for epoch in tqdm(range(epochs)):\n",
        "    print(f\"Epoch: {epoch}\\n---------\")\n",
        "    train_step(data_loader=train_dataloader,\n",
        "        model=model_1,\n",
        "        loss_fn=loss_fn,\n",
        "        optimizer=optimizer,\n",
        "        accuracy_fn=accuracy_fn\n",
        "    )\n",
        "    test_step(data_loader=test_dataloader,\n",
        "        model=model_1,\n",
        "        loss_fn=loss_fn,\n",
        "        accuracy_fn=accuracy_fn\n",
        "    )\n",
        "\n",
        "train_time_end_on_gpu = timer()\n",
        "total_train_time_model_1 = print_train_time(start=train_time_start_on_gpu,\n",
        "                                            end=train_time_end_on_gpu,\n",
        "                                            device=device)"
      ],
      "metadata": {
        "id": "VyxiYQvmkPaP",
        "colab": {
          "base_uri": "https://localhost:8080/",
          "height": 327,
          "referenced_widgets": [
            "fa62db9663ef4357b346105a0a27613f",
            "bd7cd54f341841c2877f3d46955152db",
            "371ea289b16c43d3bec9e666516cc23e",
            "4e90a1b4a8ae4825a3f69b0758ffc67f",
            "605be519a1e64d2c8f1f42ae09ae4a80",
            "63d710a46e1c4d11b6c0f626499640d5",
            "258a67ace77842298bc12fdc9b08678a",
            "9596b1ee506b4d33a2b3514730545f0c",
            "2a69fe4803374e1aadd61489764535ca",
            "9431c60199af46b3a6ce54bc2c83d4b1",
            "e92b641c1f2d46cb9875df4a296a1240"
          ]
        },
        "outputId": "50b447b8-71a2-4b3e-e99d-7b822b3821b7"
      },
      "execution_count": 29,
      "outputs": [
        {
          "output_type": "display_data",
          "data": {
            "text/plain": [
              "  0%|          | 0/3 [00:00<?, ?it/s]"
            ],
            "application/vnd.jupyter.widget-view+json": {
              "version_major": 2,
              "version_minor": 0,
              "model_id": "fa62db9663ef4357b346105a0a27613f"
            }
          },
          "metadata": {}
        },
        {
          "output_type": "stream",
          "name": "stdout",
          "text": [
            "Epoch: 0\n",
            "---------\n",
            "Train loss: 1.09199 | Train accuracy: 61.34%\n",
            "Test loss: 0.95636 | Test accuracy: 65.00%\n",
            "\n",
            "Epoch: 1\n",
            "---------\n",
            "Train loss: 0.78101 | Train accuracy: 71.93%\n",
            "Test loss: 0.72227 | Test accuracy: 73.91%\n",
            "\n",
            "Epoch: 2\n",
            "---------\n",
            "Train loss: 0.67027 | Train accuracy: 75.94%\n",
            "Test loss: 0.68500 | Test accuracy: 75.02%\n",
            "\n",
            "Train time on cuda: 27.885 seconds\n"
          ]
        }
      ]
    },
    {
      "cell_type": "code",
      "source": [
        "# Move values to device\n",
        "torch.manual_seed(42)\n",
        "def eval_model(model: torch.nn.Module,\n",
        "               data_loader: torch.utils.data.DataLoader,\n",
        "               loss_fn: torch.nn.Module,\n",
        "               accuracy_fn,\n",
        "               device: torch.device = device):\n",
        "    \"\"\"Evaluates a given model on a given dataset.\n",
        "\n",
        "    Args:\n",
        "        model (torch.nn.Module): A PyTorch model capable of making predictions on data_loader.\n",
        "        data_loader (torch.utils.data.DataLoader): The target dataset to predict on.\n",
        "        loss_fn (torch.nn.Module): The loss function of model.\n",
        "        accuracy_fn: An accuracy function to compare the models predictions to the truth labels.\n",
        "        device (str, optional): Target device to compute on. Defaults to device.\n",
        "\n",
        "    Returns:\n",
        "        (dict): Results of model making predictions on data_loader.\n",
        "    \"\"\"\n",
        "    loss, acc = 0, 0\n",
        "    model.eval()\n",
        "    with torch.inference_mode():\n",
        "        for X, y in data_loader:\n",
        "            # Send data to the target device\n",
        "            X, y = X.to(device), y.to(device)\n",
        "            y_pred = model(X)\n",
        "            loss += loss_fn(y_pred, y)\n",
        "            acc += accuracy_fn(y_true=y, y_pred=y_pred.argmax(dim=1))\n",
        "\n",
        "        # Scale loss and acc\n",
        "        loss /= len(data_loader)\n",
        "        acc /= len(data_loader)\n",
        "    return {\"model_name\": model.__class__.__name__, # only works when model was created with a class\n",
        "            \"model_loss\": loss.item(),\n",
        "            \"model_acc\": acc}\n",
        "\n",
        "# Calculate model 1 results with device-agnostic code\n",
        "model_1_results = eval_model(model=model_1, data_loader=test_dataloader,\n",
        "    loss_fn=loss_fn, accuracy_fn=accuracy_fn,\n",
        "    device=device\n",
        ")\n",
        "model_1_results"
      ],
      "metadata": {
        "colab": {
          "base_uri": "https://localhost:8080/"
        },
        "id": "6J_jSU9xpH46",
        "outputId": "4619cf6e-f38c-4a32-8078-48f6808af341"
      },
      "execution_count": 30,
      "outputs": [
        {
          "output_type": "execute_result",
          "data": {
            "text/plain": [
              "{'model_name': 'FashionMNISTModelV1',\n",
              " 'model_loss': 0.6850008964538574,\n",
              " 'model_acc': 75.01996805111821}"
            ]
          },
          "metadata": {},
          "execution_count": 30
        }
      ]
    },
    {
      "cell_type": "code",
      "source": [
        "model_0_results"
      ],
      "metadata": {
        "id": "01qx4N_-qtTt",
        "colab": {
          "base_uri": "https://localhost:8080/"
        },
        "outputId": "ca0059ad-3904-4ddd-c3fa-aa32440c6d0e"
      },
      "execution_count": 31,
      "outputs": [
        {
          "output_type": "execute_result",
          "data": {
            "text/plain": [
              "{'model_name': 'FashionMNISTModelV0',\n",
              " 'model_loss': 0.47663888335227966,\n",
              " 'model_acc': 83.42651757188499}"
            ]
          },
          "metadata": {},
          "execution_count": 31
        }
      ]
    },
    {
      "cell_type": "code",
      "source": [
        "total_train_time_model_0"
      ],
      "metadata": {
        "id": "vx9iOV69FNwl",
        "colab": {
          "base_uri": "https://localhost:8080/"
        },
        "outputId": "5874cb58-5126-4485-8c82-9123fbd20383"
      },
      "execution_count": 32,
      "outputs": [
        {
          "output_type": "execute_result",
          "data": {
            "text/plain": [
              "24.996053566"
            ]
          },
          "metadata": {},
          "execution_count": 32
        }
      ]
    },
    {
      "cell_type": "code",
      "source": [
        "# Create a convolutional neural network\n",
        "class FashionMNISTModelV2(nn.Module):\n",
        "    \"\"\"\n",
        "    Model architecture copying TinyVGG from:\n",
        "    https://poloclub.github.io/cnn-explainer/\n",
        "    \"\"\"\n",
        "    def __init__(self, input_shape: int, hidden_units: int, output_shape: int):\n",
        "        super().__init__()\n",
        "        self.block_1 = nn.Sequential(\n",
        "            nn.Conv2d(in_channels=input_shape,\n",
        "                      out_channels=hidden_units,\n",
        "                      kernel_size=3, # how big is the square that's going over the image?\n",
        "                      stride=1, # default\n",
        "                      padding=1),# options = \"valid\" (no padding) or \"same\" (output has same shape as input) or int for specific number\n",
        "            nn.ReLU(),\n",
        "            nn.Conv2d(in_channels=hidden_units,\n",
        "                      out_channels=hidden_units,\n",
        "                      kernel_size=3,\n",
        "                      stride=1,\n",
        "                      padding=1),\n",
        "            nn.ReLU(),\n",
        "            nn.MaxPool2d(kernel_size=2,\n",
        "                         stride=2) # default stride value is same as kernel_size\n",
        "        )\n",
        "        self.block_2 = nn.Sequential(\n",
        "            nn.Conv2d(hidden_units, hidden_units, 3, padding=1),\n",
        "            nn.ReLU(),\n",
        "            nn.Conv2d(hidden_units, hidden_units, 3, padding=1),\n",
        "            nn.ReLU(),\n",
        "            nn.MaxPool2d(2)\n",
        "        )\n",
        "        self.classifier = nn.Sequential(\n",
        "            nn.Flatten(),\n",
        "            # Where did this in_features shape come from?\n",
        "            # It's because each layer of our network compresses and changes the shape of our inputs data.\n",
        "            nn.Linear(in_features=hidden_units*7*7,\n",
        "                      out_features=output_shape)\n",
        "        )\n",
        "\n",
        "    def forward(self, x: torch.Tensor):\n",
        "        x = self.block_1(x)\n",
        "        # print(x.shape)\n",
        "        x = self.block_2(x)\n",
        "        # print(x.shape)\n",
        "        x = self.classifier(x)\n",
        "        # print(x.shape)\n",
        "        return x\n",
        "\n",
        "torch.manual_seed(42)\n",
        "model_2 = FashionMNISTModelV2(input_shape=1,\n",
        "    hidden_units=10,\n",
        "    output_shape=len(class_names)).to(device)\n",
        "model_2\n"
      ],
      "metadata": {
        "id": "L-3K9na4LMhX",
        "colab": {
          "base_uri": "https://localhost:8080/"
        },
        "outputId": "cee0612c-ad78-4bdb-a8d7-1455c24ec86e"
      },
      "execution_count": 33,
      "outputs": [
        {
          "output_type": "execute_result",
          "data": {
            "text/plain": [
              "FashionMNISTModelV2(\n",
              "  (block_1): Sequential(\n",
              "    (0): Conv2d(1, 10, kernel_size=(3, 3), stride=(1, 1), padding=(1, 1))\n",
              "    (1): ReLU()\n",
              "    (2): Conv2d(10, 10, kernel_size=(3, 3), stride=(1, 1), padding=(1, 1))\n",
              "    (3): ReLU()\n",
              "    (4): MaxPool2d(kernel_size=2, stride=2, padding=0, dilation=1, ceil_mode=False)\n",
              "  )\n",
              "  (block_2): Sequential(\n",
              "    (0): Conv2d(10, 10, kernel_size=(3, 3), stride=(1, 1), padding=(1, 1))\n",
              "    (1): ReLU()\n",
              "    (2): Conv2d(10, 10, kernel_size=(3, 3), stride=(1, 1), padding=(1, 1))\n",
              "    (3): ReLU()\n",
              "    (4): MaxPool2d(kernel_size=2, stride=2, padding=0, dilation=1, ceil_mode=False)\n",
              "  )\n",
              "  (classifier): Sequential(\n",
              "    (0): Flatten(start_dim=1, end_dim=-1)\n",
              "    (1): Linear(in_features=490, out_features=10, bias=True)\n",
              "  )\n",
              ")"
            ]
          },
          "metadata": {},
          "execution_count": 33
        }
      ]
    },
    {
      "cell_type": "code",
      "source": [
        "torch.manual_seed(42)\n",
        "model_2= FashionMNISTModelV2(input_shape=1,\n",
        "                        hidden_units=10,\n",
        "                        output_shape=len(class_names)).to(device)\n",
        "model_2"
      ],
      "metadata": {
        "id": "AkcIifCeYW5i",
        "colab": {
          "base_uri": "https://localhost:8080/"
        },
        "outputId": "587b5f6c-d369-4974-d00b-dd00097c0677"
      },
      "execution_count": 34,
      "outputs": [
        {
          "output_type": "execute_result",
          "data": {
            "text/plain": [
              "FashionMNISTModelV2(\n",
              "  (block_1): Sequential(\n",
              "    (0): Conv2d(1, 10, kernel_size=(3, 3), stride=(1, 1), padding=(1, 1))\n",
              "    (1): ReLU()\n",
              "    (2): Conv2d(10, 10, kernel_size=(3, 3), stride=(1, 1), padding=(1, 1))\n",
              "    (3): ReLU()\n",
              "    (4): MaxPool2d(kernel_size=2, stride=2, padding=0, dilation=1, ceil_mode=False)\n",
              "  )\n",
              "  (block_2): Sequential(\n",
              "    (0): Conv2d(10, 10, kernel_size=(3, 3), stride=(1, 1), padding=(1, 1))\n",
              "    (1): ReLU()\n",
              "    (2): Conv2d(10, 10, kernel_size=(3, 3), stride=(1, 1), padding=(1, 1))\n",
              "    (3): ReLU()\n",
              "    (4): MaxPool2d(kernel_size=2, stride=2, padding=0, dilation=1, ceil_mode=False)\n",
              "  )\n",
              "  (classifier): Sequential(\n",
              "    (0): Flatten(start_dim=1, end_dim=-1)\n",
              "    (1): Linear(in_features=490, out_features=10, bias=True)\n",
              "  )\n",
              ")"
            ]
          },
          "metadata": {},
          "execution_count": 34
        }
      ]
    },
    {
      "cell_type": "code",
      "source": [
        "plt.imshow(image.squeeze(), cmap=\"gray\" )"
      ],
      "metadata": {
        "id": "oiuvtUBn0Av8",
        "colab": {
          "base_uri": "https://localhost:8080/",
          "height": 447
        },
        "outputId": "015a84ed-50d2-42ca-c8b0-1f099bba0122"
      },
      "execution_count": 35,
      "outputs": [
        {
          "output_type": "execute_result",
          "data": {
            "text/plain": [
              "<matplotlib.image.AxesImage at 0x7fb052144810>"
            ]
          },
          "metadata": {},
          "execution_count": 35
        },
        {
          "output_type": "display_data",
          "data": {
            "text/plain": [
              "<Figure size 640x480 with 1 Axes>"
            ],
            "image/png": "[encoded data removed]"
          },
          "metadata": {}
        }
      ]
    },
    {
      "cell_type": "code",
      "source": [
        "rand_image_tensor=torch.randn(size=(1, 28,28))\n",
        "rand_image_tensor.shape"
      ],
      "metadata": {
        "id": "peTiFP9NnaJU",
        "colab": {
          "base_uri": "https://localhost:8080/"
        },
        "outputId": "384b8399-9f15-455c-e9c3-1e1121a8b85a"
      },
      "execution_count": 36,
      "outputs": [
        {
          "output_type": "execute_result",
          "data": {
            "text/plain": [
              "torch.Size([1, 28, 28])"
            ]
          },
          "metadata": {},
          "execution_count": 36
        }
      ]
    },
    {
      "cell_type": "code",
      "source": [
        "model_2(rand_image_tensor.unsqueeze(dim=0).to(device))"
      ],
      "metadata": {
        "id": "lgXVUwsQ1UGh",
        "colab": {
          "base_uri": "https://localhost:8080/"
        },
        "outputId": "c805a7be-3265-4195-b989-483581ea8be6"
      },
      "execution_count": 37,
      "outputs": [
        {
          "output_type": "execute_result",
          "data": {
            "text/plain": [
              "tensor([[ 0.0366, -0.0940,  0.0686, -0.0485,  0.0068,  0.0290,  0.0132,  0.0084,\n",
              "         -0.0030, -0.0185]], device='cuda:0', grad_fn=<AddmmBackward0>)"
            ]
          },
          "metadata": {},
          "execution_count": 37
        }
      ]
    },
    {
      "cell_type": "code",
      "source": [
        "torch.manual_seed(42)\n",
        "\n",
        "# Create sample batch of random numbers with same size as image batch\n",
        "images = torch.randn(size=(32, 3, 64, 64)) # [batch_size, color_channels, height, width]\n",
        "test_image = images[0] # get a single image for testing\n",
        "print(f\"Image batch shape: {images.shape} -> [batch_size, color_channels, height, width]\")\n",
        "print(f\"Single image shape: {test_image.shape} -> [color_channels, height, width]\")\n",
        "print(f\"Single image pixel values:\\n{test_image}\")"
      ],
      "metadata": {
        "id": "I9Wiyu55oZqO",
        "colab": {
          "base_uri": "https://localhost:8080/"
        },
        "outputId": "a680253f-44a3-43f7-ba67-1a7e659a19c7"
      },
      "execution_count": 38,
      "outputs": [
        {
          "output_type": "stream",
          "name": "stdout",
          "text": [
            "Image batch shape: torch.Size([32, 3, 64, 64]) -> [batch_size, color_channels, height, width]\n",
            "Single image shape: torch.Size([3, 64, 64]) -> [color_channels, height, width]\n",
            "Single image pixel values:\n",
            "tensor([[[ 1.9269,  1.4873,  0.9007,  ...,  1.8446, -1.1845,  1.3835],\n",
            "         [ 1.4451,  0.8564,  2.2181,  ...,  0.3399,  0.7200,  0.4114],\n",
            "         [ 1.9312,  1.0119, -1.4364,  ..., -0.5558,  0.7043,  0.7099],\n",
            "         ...,\n",
            "         [-0.5610, -0.4830,  0.4770,  ..., -0.2713, -0.9537, -0.6737],\n",
            "         [ 0.3076, -0.1277,  0.0366,  ..., -2.0060,  0.2824, -0.8111],\n",
            "         [-1.5486,  0.0485, -0.7712,  ..., -0.1403,  0.9416, -0.0118]],\n",
            "\n",
            "        [[-0.5197,  1.8524,  1.8365,  ...,  0.8935, -1.5114, -0.8515],\n",
            "         [ 2.0818,  1.0677, -1.4277,  ...,  1.6612, -2.6223, -0.4319],\n",
            "         [-0.1010, -0.4388, -1.9775,  ...,  0.2106,  0.2536, -0.7318],\n",
            "         ...,\n",
            "         [ 0.2779,  0.7342, -0.3736,  ..., -0.4601,  0.1815,  0.1850],\n",
            "         [ 0.7205, -0.2833,  0.0937,  ..., -0.1002, -2.3609,  2.2465],\n",
            "         [-1.3242, -0.1973,  0.2920,  ...,  0.5409,  0.6940,  1.8563]],\n",
            "\n",
            "        [[-0.7978,  1.0261,  1.1465,  ...,  1.2134,  0.9354, -0.0780],\n",
            "         [-1.4647, -1.9571,  0.1017,  ..., -1.9986, -0.7409,  0.7011],\n",
            "         [-1.3938,  0.8466, -1.7191,  ..., -1.1867,  0.1320,  0.3407],\n",
            "         ...,\n",
            "         [ 0.8206, -0.3745,  1.2499,  ..., -0.0676,  0.0385,  0.6335],\n",
            "         [-0.5589, -0.3393,  0.2347,  ...,  2.1181,  2.4569,  1.3083],\n",
            "         [-0.4092,  1.5199,  0.2401,  ..., -0.2558,  0.7870,  0.9924]]])\n"
          ]
        }
      ]
    },
    {
      "cell_type": "code",
      "source": [
        "torch.manual_seed(42)\n",
        "\n",
        "# Create a convolutional layer with same dimensions as TinyVGG\n",
        "# (try changing any of the parameters and see what happens)\n",
        "conv_layer = nn.Conv2d(in_channels=3,\n",
        "                       out_channels=10,\n",
        "                       kernel_size=3,\n",
        "                       stride=1,\n",
        "                       padding=0) # also try using \"valid\" or \"same\" here\n",
        "\n",
        "# Pass the data through the convolutional layer\n",
        "conv_layer(test_image) # Note: If running PyTorch <1.11.0, this will error because of shape issues (nn.Conv.2d() expects a 4d tensor as input)"
      ],
      "metadata": {
        "id": "gdawfJ42pZIg",
        "colab": {
          "base_uri": "https://localhost:8080/"
        },
        "outputId": "dda5ce9a-68e7-4fe5-bb1f-6550fa7e26ab"
      },
      "execution_count": 39,
      "outputs": [
        {
          "output_type": "execute_result",
          "data": {
            "text/plain": [
              "tensor([[[ 1.5396,  0.0516,  0.6454,  ..., -0.3673,  0.8711,  0.4256],\n",
              "         [ 0.3662,  1.0114, -0.5997,  ...,  0.8983,  0.2809, -0.2741],\n",
              "         [ 1.2664, -1.4054,  0.3727,  ..., -0.3409,  1.2191, -0.0463],\n",
              "         ...,\n",
              "         [-0.1541,  0.5132, -0.3624,  ..., -0.2360, -0.4609, -0.0035],\n",
              "         [ 0.2981, -0.2432,  1.5012,  ..., -0.6289, -0.7283, -0.5767],\n",
              "         [-0.0386, -0.0781, -0.0388,  ...,  0.2842,  0.4228, -0.1802]],\n",
              "\n",
              "        [[-0.2840, -0.0319, -0.4455,  ..., -0.7956,  1.5599, -1.2449],\n",
              "         [ 0.2753, -0.1262, -0.6541,  ..., -0.2211,  0.1999, -0.8856],\n",
              "         [-0.5404, -1.5489,  0.0249,  ..., -0.5932, -1.0913, -0.3849],\n",
              "         ...,\n",
              "         [ 0.3870, -0.4064, -0.8236,  ...,  0.1734, -0.4330, -0.4951],\n",
              "         [-0.1984, -0.6386,  1.0263,  ..., -0.9401, -0.0585, -0.7833],\n",
              "         [-0.6306, -0.2052, -0.3694,  ..., -1.3248,  0.2456, -0.7134]],\n",
              "\n",
              "        [[ 0.4414,  0.5100,  0.4846,  ..., -0.8484,  0.2638,  1.1258],\n",
              "         [ 0.8117,  0.3191, -0.0157,  ...,  1.2686,  0.2319,  0.5003],\n",
              "         [ 0.3212,  0.0485, -0.2581,  ...,  0.2258,  0.2587, -0.8804],\n",
              "         ...,\n",
              "         [-0.1144, -0.1869,  0.0160,  ..., -0.8346,  0.0974,  0.8421],\n",
              "         [ 0.2941,  0.4417,  0.5866,  ..., -0.1224,  0.4814, -0.4799],\n",
              "         [ 0.6059, -0.0415, -0.2028,  ...,  0.1170,  0.2521, -0.4372]],\n",
              "\n",
              "        ...,\n",
              "\n",
              "        [[-0.2560, -0.0477,  0.6380,  ...,  0.6436,  0.7553, -0.7055],\n",
              "         [ 1.5595, -0.2209, -0.9486,  ..., -0.4876,  0.7754,  0.0750],\n",
              "         [-0.0797,  0.2471,  1.1300,  ...,  0.1505,  0.2354,  0.9576],\n",
              "         ...,\n",
              "         [ 1.1065,  0.6839,  1.2183,  ...,  0.3015, -0.1910, -0.1902],\n",
              "         [-0.3486, -0.7173, -0.3582,  ...,  0.4917,  0.7219,  0.1513],\n",
              "         [ 0.0119,  0.1017,  0.7839,  ..., -0.3752, -0.8127, -0.1257]],\n",
              "\n",
              "        [[ 0.3841,  1.1322,  0.1620,  ...,  0.7010,  0.0109,  0.6058],\n",
              "         [ 0.1664,  0.1873,  1.5924,  ...,  0.3733,  0.9096, -0.5399],\n",
              "         [ 0.4094, -0.0861, -0.7935,  ..., -0.1285, -0.9932, -0.3013],\n",
              "         ...,\n",
              "         [ 0.2688, -0.5630, -1.1902,  ...,  0.4493,  0.5404, -0.0103],\n",
              "         [ 0.0535,  0.4411,  0.5313,  ...,  0.0148, -1.0056,  0.3759],\n",
              "         [ 0.3031, -0.1590, -0.1316,  ..., -0.5384, -0.4271, -0.4876]],\n",
              "\n",
              "        [[-1.1865, -0.7280, -1.2331,  ..., -0.9013, -0.0542, -1.5949],\n",
              "         [-0.6345, -0.5920,  0.5326,  ..., -1.0395, -0.7963, -0.0647],\n",
              "         [-0.1132,  0.5166,  0.2569,  ...,  0.5595, -1.6881,  0.9485],\n",
              "         ...,\n",
              "         [-0.0254, -0.2669,  0.1927,  ..., -0.2917,  0.1088, -0.4807],\n",
              "         [-0.2609, -0.2328,  0.1404,  ..., -0.1325, -0.8436, -0.7524],\n",
              "         [-1.1399, -0.1751, -0.8705,  ...,  0.1589,  0.3377,  0.3493]]],\n",
              "       grad_fn=<SqueezeBackward1>)"
            ]
          },
          "metadata": {},
          "execution_count": 39
        }
      ]
    },
    {
      "cell_type": "code",
      "source": [
        "# Add extra dimension to test image\n",
        "test_image.unsqueeze(dim=0).shape\n",
        "# Pass test image with extra dimension through conv_layer\n",
        "conv_layer(test_image.unsqueeze(dim=0)).shape\n",
        "torch.manual_seed(42)\n",
        "# Create a new conv_layer with different values (try setting these to whatever you like)\n",
        "conv_layer_2 = nn.Conv2d(in_channels=3, # same number of color channels as our input image\n",
        "                         out_channels=10,\n",
        "                         kernel_size=(5, 5), # kernel is usually a square so a tuple also works\n",
        "                         stride=2,\n",
        "                         padding=0)\n",
        "\n",
        "# Pass single image through new conv_layer_2 (this calls nn.Conv2d()'s forward() method on the input)\n",
        "conv_layer_2(test_image.unsqueeze(dim=0)).shape"
      ],
      "metadata": {
        "colab": {
          "base_uri": "https://localhost:8080/"
        },
        "id": "pkXeQJY45107",
        "outputId": "48e988e6-4392-4755-f2b9-f3cfe032ccd0"
      },
      "execution_count": 40,
      "outputs": [
        {
          "output_type": "execute_result",
          "data": {
            "text/plain": [
              "torch.Size([1, 10, 30, 30])"
            ]
          },
          "metadata": {},
          "execution_count": 40
        }
      ]
    },
    {
      "cell_type": "code",
      "source": [
        "print(f\"test image org shape: {test_image.shape}\")\n",
        "print(f\"test image unsqueezed shape: {test_image.unsqueeze(0).shape}\")\n",
        "max_pool_layer=nn.MaxPool2d(kernel_size=2)\n",
        "test_image_through_conv=conv_layer(test_image.unsqueeze(dim=0))\n",
        "print(f\"test image after going through conv_layer: {test_image_through_conv.shape}\")\n",
        "test_image_through_conv_and_max_pool=max_pool_layer(test_image_through_conv)\n",
        "print(f\"shapeee: {test_image_through_conv_and_max_pool.shape} \")\n",
        "# Check out the conv_layer_2 internal parameters\n",
        "print(conv_layer_2.state_dict())"
      ],
      "metadata": {
        "id": "bIoF9EnAqo_1",
        "colab": {
          "base_uri": "https://localhost:8080/"
        },
        "outputId": "e011266b-ede7-49c1-afed-0ac358c0f72a"
      },
      "execution_count": 41,
      "outputs": [
        {
          "output_type": "stream",
          "name": "stdout",
          "text": [
            "test image org shape: torch.Size([3, 64, 64])\n",
            "test image unsqueezed shape: torch.Size([1, 3, 64, 64])\n",
            "test image after going through conv_layer: torch.Size([1, 10, 62, 62])\n",
            "shapeee: torch.Size([1, 10, 31, 31]) \n",
            "OrderedDict([('weight', tensor([[[[ 0.0883,  0.0958, -0.0271,  0.1061, -0.0253],\n",
            "          [ 0.0233, -0.0562,  0.0678,  0.1018, -0.0847],\n",
            "          [ 0.1004,  0.0216,  0.0853,  0.0156,  0.0557],\n",
            "          [-0.0163,  0.0890,  0.0171, -0.0539,  0.0294],\n",
            "          [-0.0532, -0.0135, -0.0469,  0.0766, -0.0911]],\n",
            "\n",
            "         [[-0.0532, -0.0326, -0.0694,  0.0109, -0.1140],\n",
            "          [ 0.1043, -0.0981,  0.0891,  0.0192, -0.0375],\n",
            "          [ 0.0714,  0.0180,  0.0933,  0.0126, -0.0364],\n",
            "          [ 0.0310, -0.0313,  0.0486,  0.1031,  0.0667],\n",
            "          [-0.0505,  0.0667,  0.0207,  0.0586, -0.0704]],\n",
            "\n",
            "         [[-0.1143, -0.0446, -0.0886,  0.0947,  0.0333],\n",
            "          [ 0.0478,  0.0365, -0.0020,  0.0904, -0.0820],\n",
            "          [ 0.0073, -0.0788,  0.0356, -0.0398,  0.0354],\n",
            "          [-0.0241,  0.0958, -0.0684, -0.0689, -0.0689],\n",
            "          [ 0.1039,  0.0385,  0.1111, -0.0953, -0.1145]]],\n",
            "\n",
            "\n",
            "        [[[-0.0903, -0.0777,  0.0468,  0.0413,  0.0959],\n",
            "          [-0.0596, -0.0787,  0.0613, -0.0467,  0.0701],\n",
            "          [-0.0274,  0.0661, -0.0897, -0.0583,  0.0352],\n",
            "          [ 0.0244, -0.0294,  0.0688,  0.0785, -0.0837],\n",
            "          [-0.0616,  0.1057, -0.0390, -0.0409, -0.1117]],\n",
            "\n",
            "         [[-0.0661,  0.0288, -0.0152, -0.0838,  0.0027],\n",
            "          [-0.0789, -0.0980, -0.0636, -0.1011, -0.0735],\n",
            "          [ 0.1154,  0.0218,  0.0356, -0.1077, -0.0758],\n",
            "          [-0.0384,  0.0181, -0.1016, -0.0498, -0.0691],\n",
            "          [ 0.0003, -0.0430, -0.0080, -0.0782, -0.0793]],\n",
            "\n",
            "         [[-0.0674, -0.0395, -0.0911,  0.0968, -0.0229],\n",
            "          [ 0.0994,  0.0360, -0.0978,  0.0799, -0.0318],\n",
            "          [-0.0443, -0.0958, -0.1148,  0.0330, -0.0252],\n",
            "          [ 0.0450, -0.0948,  0.0857, -0.0848, -0.0199],\n",
            "          [ 0.0241,  0.0596,  0.0932,  0.1052, -0.0916]]],\n",
            "\n",
            "\n",
            "        [[[ 0.0291, -0.0497, -0.0127, -0.0864,  0.1052],\n",
            "          [-0.0847,  0.0617,  0.0406,  0.0375, -0.0624],\n",
            "          [ 0.1050,  0.0254,  0.0149, -0.1018,  0.0485],\n",
            "          [-0.0173, -0.0529,  0.0992,  0.0257, -0.0639],\n",
            "          [-0.0584, -0.0055,  0.0645, -0.0295, -0.0659]],\n",
            "\n",
            "         [[-0.0395, -0.0863,  0.0412,  0.0894, -0.1087],\n",
            "          [ 0.0268,  0.0597,  0.0209, -0.0411,  0.0603],\n",
            "          [ 0.0607,  0.0432, -0.0203, -0.0306,  0.0124],\n",
            "          [-0.0204, -0.0344,  0.0738,  0.0992, -0.0114],\n",
            "          [-0.0259,  0.0017, -0.0069,  0.0278,  0.0324]],\n",
            "\n",
            "         [[-0.1049, -0.0426,  0.0972,  0.0450, -0.0057],\n",
            "          [-0.0696, -0.0706, -0.1034, -0.0376,  0.0390],\n",
            "          [ 0.0736,  0.0533, -0.1021, -0.0694, -0.0182],\n",
            "          [ 0.1117,  0.0167, -0.0299,  0.0478, -0.0440],\n",
            "          [-0.0747,  0.0843, -0.0525, -0.0231, -0.1149]]],\n",
            "\n",
            "\n",
            "        [[[ 0.0773,  0.0875,  0.0421, -0.0805, -0.1140],\n",
            "          [-0.0938,  0.0861,  0.0554,  0.0972,  0.0605],\n",
            "          [ 0.0292, -0.0011, -0.0878, -0.0989, -0.1080],\n",
            "          [ 0.0473, -0.0567, -0.0232, -0.0665, -0.0210],\n",
            "          [-0.0813, -0.0754,  0.0383, -0.0343,  0.0713]],\n",
            "\n",
            "         [[-0.0370, -0.0847, -0.0204, -0.0560, -0.0353],\n",
            "          [-0.1099,  0.0646, -0.0804,  0.0580,  0.0524],\n",
            "          [ 0.0825, -0.0886,  0.0830, -0.0546,  0.0428],\n",
            "          [ 0.1084, -0.0163, -0.0009, -0.0266, -0.0964],\n",
            "          [ 0.0554, -0.1146,  0.0717,  0.0864,  0.1092]],\n",
            "\n",
            "         [[-0.0272, -0.0949,  0.0260,  0.0638, -0.1149],\n",
            "          [-0.0262, -0.0692, -0.0101, -0.0568, -0.0472],\n",
            "          [-0.0367, -0.1097,  0.0947,  0.0968, -0.0181],\n",
            "          [-0.0131, -0.0471, -0.1043, -0.1124,  0.0429],\n",
            "          [-0.0634, -0.0742, -0.0090, -0.0385, -0.0374]]],\n",
            "\n",
            "\n",
            "        [[[ 0.0037, -0.0245, -0.0398, -0.0553, -0.0940],\n",
            "          [ 0.0968, -0.0462,  0.0306, -0.0401,  0.0094],\n",
            "          [ 0.1077,  0.0532, -0.1001,  0.0458,  0.1096],\n",
            "          [ 0.0304,  0.0774,  0.1138, -0.0177,  0.0240],\n",
            "          [-0.0803, -0.0238,  0.0855,  0.0592, -0.0731]],\n",
            "\n",
            "         [[-0.0926, -0.0789, -0.1140, -0.0891, -0.0286],\n",
            "          [ 0.0779,  0.0193, -0.0878, -0.0926,  0.0574],\n",
            "          [-0.0859, -0.0142,  0.0554, -0.0534, -0.0126],\n",
            "          [-0.0101, -0.0273, -0.0585, -0.1029, -0.0933],\n",
            "          [-0.0618,  0.1115, -0.0558, -0.0775,  0.0280]],\n",
            "\n",
            "         [[ 0.0318,  0.0633,  0.0878,  0.0643, -0.1145],\n",
            "          [ 0.0102,  0.0699, -0.0107, -0.0680,  0.1101],\n",
            "          [-0.0432, -0.0657, -0.1041,  0.0052,  0.0512],\n",
            "          [ 0.0256,  0.0228, -0.0876, -0.1078,  0.0020],\n",
            "          [ 0.1053,  0.0666, -0.0672, -0.0150, -0.0851]]],\n",
            "\n",
            "\n",
            "        [[[-0.0557,  0.0209,  0.0629,  0.0957, -0.1060],\n",
            "          [ 0.0772, -0.0814,  0.0432,  0.0977,  0.0016],\n",
            "          [ 0.1051, -0.0984, -0.0441,  0.0673, -0.0252],\n",
            "          [-0.0236, -0.0481,  0.0796,  0.0566,  0.0370],\n",
            "          [-0.0649, -0.0937,  0.0125,  0.0342, -0.0533]],\n",
            "\n",
            "         [[-0.0323,  0.0780,  0.0092,  0.0052, -0.0284],\n",
            "          [-0.1046, -0.1086, -0.0552, -0.0587,  0.0360],\n",
            "          [-0.0336, -0.0452,  0.1101,  0.0402,  0.0823],\n",
            "          [-0.0559, -0.0472,  0.0424, -0.0769, -0.0755],\n",
            "          [-0.0056, -0.0422, -0.0866,  0.0685,  0.0929]],\n",
            "\n",
            "         [[ 0.0187, -0.0201, -0.1070, -0.0421,  0.0294],\n",
            "          [ 0.0544, -0.0146, -0.0457,  0.0643, -0.0920],\n",
            "          [ 0.0730, -0.0448,  0.0018, -0.0228,  0.0140],\n",
            "          [-0.0349,  0.0840, -0.0030,  0.0901,  0.1110],\n",
            "          [-0.0563, -0.0842,  0.0926,  0.0905, -0.0882]]],\n",
            "\n",
            "\n",
            "        [[[-0.0089, -0.1139, -0.0945,  0.0223,  0.0307],\n",
            "          [ 0.0245, -0.0314,  0.1065,  0.0165, -0.0681],\n",
            "          [-0.0065,  0.0277,  0.0404, -0.0816,  0.0433],\n",
            "          [-0.0590, -0.0959, -0.0631,  0.1114,  0.0987],\n",
            "          [ 0.1034,  0.0678,  0.0872, -0.0155, -0.0635]],\n",
            "\n",
            "         [[ 0.0577, -0.0598, -0.0779, -0.0369,  0.0242],\n",
            "          [ 0.0594, -0.0448, -0.0680,  0.0156, -0.0681],\n",
            "          [-0.0752,  0.0602, -0.0194,  0.1055,  0.1123],\n",
            "          [ 0.0345,  0.0397,  0.0266,  0.0018, -0.0084],\n",
            "          [ 0.0016,  0.0431,  0.1074, -0.0299, -0.0488]],\n",
            "\n",
            "         [[-0.0280, -0.0558,  0.0196,  0.0862,  0.0903],\n",
            "          [ 0.0530, -0.0850, -0.0620, -0.0254, -0.0213],\n",
            "          [ 0.0095, -0.1060,  0.0359, -0.0881, -0.0731],\n",
            "          [-0.0960,  0.1006, -0.1093,  0.0871, -0.0039],\n",
            "          [-0.0134,  0.0722, -0.0107,  0.0724,  0.0835]]],\n",
            "\n",
            "\n",
            "        [[[-0.1003,  0.0444,  0.0218,  0.0248,  0.0169],\n",
            "          [ 0.0316, -0.0555, -0.0148,  0.1097,  0.0776],\n",
            "          [-0.0043, -0.1086,  0.0051, -0.0786,  0.0939],\n",
            "          [-0.0701, -0.0083, -0.0256,  0.0205,  0.1087],\n",
            "          [ 0.0110,  0.0669,  0.0896,  0.0932, -0.0399]],\n",
            "\n",
            "         [[-0.0258,  0.0556, -0.0315,  0.0541, -0.0252],\n",
            "          [-0.0783,  0.0470,  0.0177,  0.0515,  0.1147],\n",
            "          [ 0.0788,  0.1095,  0.0062, -0.0993, -0.0810],\n",
            "          [-0.0717, -0.1018, -0.0579, -0.1063, -0.1065],\n",
            "          [-0.0690, -0.1138, -0.0709,  0.0440,  0.0963]],\n",
            "\n",
            "         [[-0.0343, -0.0336,  0.0617, -0.0570, -0.0546],\n",
            "          [ 0.0711, -0.1006,  0.0141,  0.1020,  0.0198],\n",
            "          [ 0.0314, -0.0672, -0.0016,  0.0063,  0.0283],\n",
            "          [ 0.0449,  0.1003, -0.0881,  0.0035, -0.0577],\n",
            "          [-0.0913, -0.0092, -0.1016,  0.0806,  0.0134]]],\n",
            "\n",
            "\n",
            "        [[[-0.0622,  0.0603, -0.1093, -0.0447, -0.0225],\n",
            "          [-0.0981, -0.0734, -0.0188,  0.0876,  0.1115],\n",
            "          [ 0.0735, -0.0689, -0.0755,  0.1008,  0.0408],\n",
            "          [ 0.0031,  0.0156, -0.0928, -0.0386,  0.1112],\n",
            "          [-0.0285, -0.0058, -0.0959, -0.0646, -0.0024]],\n",
            "\n",
            "         [[-0.0717, -0.0143,  0.0470, -0.1130,  0.0343],\n",
            "          [-0.0763, -0.0564,  0.0443,  0.0918, -0.0316],\n",
            "          [-0.0474, -0.1044, -0.0595, -0.1011, -0.0264],\n",
            "          [ 0.0236, -0.1082,  0.1008,  0.0724, -0.1130],\n",
            "          [-0.0552,  0.0377, -0.0237, -0.0126, -0.0521]],\n",
            "\n",
            "         [[ 0.0927, -0.0645,  0.0958,  0.0075,  0.0232],\n",
            "          [ 0.0901, -0.0190, -0.0657, -0.0187,  0.0937],\n",
            "          [-0.0857,  0.0262, -0.1135,  0.0605,  0.0427],\n",
            "          [ 0.0049,  0.0496,  0.0001,  0.0639, -0.0914],\n",
            "          [-0.0170,  0.0512,  0.1150,  0.0588, -0.0840]]],\n",
            "\n",
            "\n",
            "        [[[ 0.0888, -0.0257, -0.0247, -0.1050, -0.0182],\n",
            "          [ 0.0817,  0.0161, -0.0673,  0.0355, -0.0370],\n",
            "          [ 0.1054, -0.1002, -0.0365, -0.1115, -0.0455],\n",
            "          [ 0.0364,  0.1112,  0.0194,  0.1132,  0.0226],\n",
            "          [ 0.0667,  0.0926,  0.0965, -0.0646,  0.1062]],\n",
            "\n",
            "         [[ 0.0699, -0.0540, -0.0551, -0.0969,  0.0290],\n",
            "          [-0.0936,  0.0488,  0.0365, -0.1003,  0.0315],\n",
            "          [-0.0094,  0.0527,  0.0663, -0.1148,  0.1059],\n",
            "          [ 0.0968,  0.0459, -0.1055, -0.0412, -0.0335],\n",
            "          [-0.0297,  0.0651,  0.0420,  0.0915, -0.0432]],\n",
            "\n",
            "         [[ 0.0389,  0.0411, -0.0961, -0.1120, -0.0599],\n",
            "          [ 0.0790, -0.1087, -0.1005,  0.0647,  0.0623],\n",
            "          [ 0.0950, -0.0872, -0.0845,  0.0592,  0.1004],\n",
            "          [ 0.0691,  0.0181,  0.0381,  0.1096, -0.0745],\n",
            "          [-0.0524,  0.0808, -0.0790, -0.0637,  0.0843]]]])), ('bias', tensor([ 0.0364,  0.0373, -0.0489, -0.0016,  0.1057, -0.0693,  0.0009,  0.0549,\n",
            "        -0.0797,  0.1121]))])\n"
          ]
        }
      ]
    },
    {
      "cell_type": "code",
      "source": [
        "# Get shapes of weight and bias tensors within conv_layer_2\n",
        "print(f\"conv_layer_2 weight shape: \\n{conv_layer_2.weight.shape} -> [out_channels=10, in_channels=3, kernel_size=5, kernel_size=5]\")\n",
        "print(f\"\\nconv_layer_2 bias shape: \\n{conv_layer_2.bias.shape} -> [out_channels=10]\")"
      ],
      "metadata": {
        "colab": {
          "base_uri": "https://localhost:8080/"
        },
        "id": "G8_IANYf5_1G",
        "outputId": "64600a64-08b3-4bbc-fea0-e30f2c62d8aa"
      },
      "execution_count": 42,
      "outputs": [
        {
          "output_type": "stream",
          "name": "stdout",
          "text": [
            "conv_layer_2 weight shape: \n",
            "torch.Size([10, 3, 5, 5]) -> [out_channels=10, in_channels=3, kernel_size=5, kernel_size=5]\n",
            "\n",
            "conv_layer_2 bias shape: \n",
            "torch.Size([10]) -> [out_channels=10]\n"
          ]
        }
      ]
    },
    {
      "cell_type": "code",
      "source": [
        "# Print out original image shape without and with unsqueezed dimension\n",
        "print(f\"Test image original shape: {test_image.shape}\")\n",
        "print(f\"Test image with unsqueezed dimension: {test_image.unsqueeze(dim=0).shape}\")\n",
        "\n",
        "# Create a sample nn.MaxPoo2d() layer\n",
        "max_pool_layer = nn.MaxPool2d(kernel_size=2)\n",
        "\n",
        "# Pass data through just the conv_layer\n",
        "test_image_through_conv = conv_layer(test_image.unsqueeze(dim=0))\n",
        "print(f\"Shape after going through conv_layer(): {test_image_through_conv.shape}\")\n",
        "\n",
        "# Pass data through the max pool layer\n",
        "test_image_through_conv_and_max_pool = max_pool_layer(test_image_through_conv)\n",
        "print(f\"Shape after going through conv_layer() and max_pool_layer(): {test_image_through_conv_and_max_pool.shape}\")"
      ],
      "metadata": {
        "id": "0TtAX_XBsYLT",
        "colab": {
          "base_uri": "https://localhost:8080/"
        },
        "outputId": "c623c03d-b7db-48d1-b759-9251b2d6d9a3"
      },
      "execution_count": 43,
      "outputs": [
        {
          "output_type": "stream",
          "name": "stdout",
          "text": [
            "Test image original shape: torch.Size([3, 64, 64])\n",
            "Test image with unsqueezed dimension: torch.Size([1, 3, 64, 64])\n",
            "Shape after going through conv_layer(): torch.Size([1, 10, 62, 62])\n",
            "Shape after going through conv_layer() and max_pool_layer(): torch.Size([1, 10, 31, 31])\n"
          ]
        }
      ]
    },
    {
      "cell_type": "code",
      "source": [
        "torch.manual_seed(42)\n",
        "# Create a random tensor with a similiar number of dimensions to our images\n",
        "random_tensor = torch.randn(size=(1, 1, 2, 2))\n",
        "print(f\"Random tensor:\\n{random_tensor}\")\n",
        "print(f\"Random tensor shape: {random_tensor.shape}\")\n",
        "\n",
        "# Create a max pool layer\n",
        "max_pool_layer = nn.MaxPool2d(kernel_size=2) # see what happens when you change the kernel_size value\n",
        "\n",
        "# Pass the random tensor through the max pool layer\n",
        "max_pool_tensor = max_pool_layer(random_tensor)\n",
        "print(f\"\\nMax pool tensor:\\n{max_pool_tensor} <- this is the maximum value from random_tensor\")\n",
        "print(f\"Max pool tensor shape: {max_pool_tensor.shape}\")"
      ],
      "metadata": {
        "colab": {
          "base_uri": "https://localhost:8080/"
        },
        "id": "jktBMrGH6H1B",
        "outputId": "e58e499c-99e8-4090-ab51-cfeb6465120c"
      },
      "execution_count": 44,
      "outputs": [
        {
          "output_type": "stream",
          "name": "stdout",
          "text": [
            "Random tensor:\n",
            "tensor([[[[0.3367, 0.1288],\n",
            "          [0.2345, 0.2303]]]])\n",
            "Random tensor shape: torch.Size([1, 1, 2, 2])\n",
            "\n",
            "Max pool tensor:\n",
            "tensor([[[[0.3367]]]]) <- this is the maximum value from random_tensor\n",
            "Max pool tensor shape: torch.Size([1, 1, 1, 1])\n"
          ]
        }
      ]
    },
    {
      "cell_type": "code",
      "source": [
        "# Setup loss and optimizer\n",
        "loss_fn = nn.CrossEntropyLoss()\n",
        "optimizer = torch.optim.SGD(params=model_2.parameters(),\n",
        "                             lr=0.1)"
      ],
      "metadata": {
        "id": "hH2yPuWw6L4z"
      },
      "execution_count": 45,
      "outputs": []
    },
    {
      "cell_type": "code",
      "source": [
        "torch.manual_seed(42)\n",
        "\n",
        "# Measure time\n",
        "from timeit import default_timer as timer\n",
        "train_time_start_model_2 = timer()\n",
        "\n",
        "# Train and test model\n",
        "epochs = 3\n",
        "for epoch in tqdm(range(epochs)):\n",
        "    print(f\"Epoch: {epoch}\\n---------\")\n",
        "    train_step(data_loader=train_dataloader,\n",
        "        model=model_2,\n",
        "        loss_fn=loss_fn,\n",
        "        optimizer=optimizer,\n",
        "        accuracy_fn=accuracy_fn,\n",
        "        device=device\n",
        "    )\n",
        "    test_step(data_loader=test_dataloader,\n",
        "        model=model_2,\n",
        "        loss_fn=loss_fn,\n",
        "        accuracy_fn=accuracy_fn,\n",
        "        device=device\n",
        "    )\n",
        "\n",
        "train_time_end_model_2 = timer()\n",
        "total_train_time_model_2 = print_train_time(start=train_time_start_model_2,\n",
        "                                           end=train_time_end_model_2,\n",
        "                                           device=device)"
      ],
      "metadata": {
        "id": "dAehWY6T_k_n",
        "colab": {
          "base_uri": "https://localhost:8080/",
          "height": 327,
          "referenced_widgets": [
            "6b70e7bb5f56463dbdd490c70cd4b2df",
            "96ef9dc2f99a4272be0324c98eb2a029",
            "cdf3a166e7b44951850e32c54bd2599b",
            "f1ceea5141f343799c3bfc9ae75cd465",
            "60080b9c11be4c99bb544a1ec4c79cbe",
            "7fecc06e59944f7186ac88de53e1d47b",
            "8dbbfc628fbf401194e0b63a91a48d82",
            "529070e7d4074f34bf39d456e30f158b",
            "eb31f77ff24d4c7bbac81fb4147d0502",
            "a5bca570fc99431e994937ab1bd292ee",
            "cec5b05295eb45b78903a6a75c4ed667"
          ]
        },
        "outputId": "b54ef3eb-8923-48c5-c760-30e49b728cd4"
      },
      "execution_count": 46,
      "outputs": [
        {
          "output_type": "display_data",
          "data": {
            "text/plain": [
              "  0%|          | 0/3 [00:00<?, ?it/s]"
            ],
            "application/vnd.jupyter.widget-view+json": {
              "version_major": 2,
              "version_minor": 0,
              "model_id": "6b70e7bb5f56463dbdd490c70cd4b2df"
            }
          },
          "metadata": {}
        },
        {
          "output_type": "stream",
          "name": "stdout",
          "text": [
            "Epoch: 0\n",
            "---------\n",
            "Train loss: 0.59428 | Train accuracy: 78.45%\n",
            "Test loss: 0.38922 | Test accuracy: 86.25%\n",
            "\n",
            "Epoch: 1\n",
            "---------\n",
            "Train loss: 0.36309 | Train accuracy: 86.94%\n",
            "Test loss: 0.34753 | Test accuracy: 87.21%\n",
            "\n",
            "Epoch: 2\n",
            "---------\n",
            "Train loss: 0.32324 | Train accuracy: 88.36%\n",
            "Test loss: 0.32392 | Test accuracy: 88.21%\n",
            "\n",
            "Train time on cuda: 34.744 seconds\n"
          ]
        }
      ]
    },
    {
      "cell_type": "code",
      "source": [
        "# Get model_2 results\n",
        "model_2_results = eval_model(\n",
        "    model=model_2,\n",
        "    data_loader=test_dataloader,\n",
        "    loss_fn=loss_fn,\n",
        "    accuracy_fn=accuracy_fn\n",
        ")\n",
        "model_2_results"
      ],
      "metadata": {
        "colab": {
          "base_uri": "https://localhost:8080/"
        },
        "id": "CQodukz06fDM",
        "outputId": "129c62fb-67e1-4c46-c6ec-26ddb1ee1b5e"
      },
      "execution_count": 47,
      "outputs": [
        {
          "output_type": "execute_result",
          "data": {
            "text/plain": [
              "{'model_name': 'FashionMNISTModelV2',\n",
              " 'model_loss': 0.3239152431488037,\n",
              " 'model_acc': 88.20886581469648}"
            ]
          },
          "metadata": {},
          "execution_count": 47
        }
      ]
    },
    {
      "cell_type": "code",
      "source": [
        "import pandas as pd\n",
        "compare_results = pd.DataFrame([model_0_results, model_1_results, model_2_results])\n",
        "compare_results\n"
      ],
      "metadata": {
        "id": "mbV1tF5bBcbz",
        "colab": {
          "base_uri": "https://localhost:8080/",
          "height": 143
        },
        "outputId": "0ea7e4b8-29e4-4372-c1f2-791ad03faf1f"
      },
      "execution_count": 48,
      "outputs": [
        {
          "output_type": "execute_result",
          "data": {
            "text/plain": [
              "            model_name  model_loss  model_acc\n",
              "0  FashionMNISTModelV0    0.476639  83.426518\n",
              "1  FashionMNISTModelV1    0.685001  75.019968\n",
              "2  FashionMNISTModelV2    0.323915  88.208866"
            ],
            "text/html": [
              "\n",
              "  <div id=\"df-dadb73d3-98cf-406e-a34e-a4a7e2505c39\" class=\"colab-df-container\">\n",
              "    <div>\n",
              "<style scoped>\n",
              "    .dataframe tbody tr th:only-of-type {\n",
              "        vertical-align: middle;\n",
              "    }\n",
              "\n",
              "    .dataframe tbody tr th {\n",
              "        vertical-align: top;\n",
              "    }\n",
              "\n",
              "    .dataframe thead th {\n",
              "        text-align: right;\n",
              "    }\n",
              "</style>\n",
              "<table border=\"1\" class=\"dataframe\">\n",
              "  <thead>\n",
              "    <tr style=\"text-align: right;\">\n",
              "      <th></th>\n",
              "      <th>model_name</th>\n",
              "      <th>model_loss</th>\n",
              "      <th>model_acc</th>\n",
              "    </tr>\n",
              "  </thead>\n",
              "  <tbody>\n",
              "    <tr>\n",
              "      <th>0</th>\n",
              "      <td>FashionMNISTModelV0</td>\n",
              "      <td>0.476639</td>\n",
              "      <td>83.426518</td>\n",
              "    </tr>\n",
              "    <tr>\n",
              "      <th>1</th>\n",
              "      <td>FashionMNISTModelV1</td>\n",
              "      <td>0.685001</td>\n",
              "      <td>75.019968</td>\n",
              "    </tr>\n",
              "    <tr>\n",
              "      <th>2</th>\n",
              "      <td>FashionMNISTModelV2</td>\n",
              "      <td>0.323915</td>\n",
              "      <td>88.208866</td>\n",
              "    </tr>\n",
              "  </tbody>\n",
              "</table>\n",
              "</div>\n",
              "    <div class=\"colab-df-buttons\">\n",
              "\n",
              "  <div class=\"colab-df-container\">\n",
              "    <button class=\"colab-df-convert\" onclick=\"convertToInteractive('df-dadb73d3-98cf-406e-a34e-a4a7e2505c39')\"\n",
              "            title=\"Convert this dataframe to an interactive table.\"\n",
              "            style=\"display:none;\">\n",
              "\n",
              "  <svg xmlns=\"http://www.w3.org/2000/svg\" height=\"24px\" viewBox=\"0 -960 960 960\">\n",
              "    <path d=\"M120-120v-720h720v720H120Zm60-500h600v-160H180v160Zm220 220h160v-160H400v160Zm0 220h160v-160H400v160ZM180-400h160v-160H180v160Zm440 0h160v-160H620v160ZM180-180h160v-160H180v160Zm440 0h160v-160H620v160Z\"/>\n",
              "  </svg>\n",
              "    </button>\n",
              "\n",
              "  <style>\n",
              "    .colab-df-container {\n",
              "      display:flex;\n",
              "      gap: 12px;\n",
              "    }\n",
              "\n",
              "    .colab-df-convert {\n",
              "      background-color: #E8F0FE;\n",
              "      border: none;\n",
              "      border-radius: 50%;\n",
              "      cursor: pointer;\n",
              "      display: none;\n",
              "      fill: #1967D2;\n",
              "      height: 32px;\n",
              "      padding: 0 0 0 0;\n",
              "      width: 32px;\n",
              "    }\n",
              "\n",
              "    .colab-df-convert:hover {\n",
              "      background-color: #E2EBFA;\n",
              "      box-shadow: 0px 1px 2px rgba(60, 64, 67, 0.3), 0px 1px 3px 1px rgba(60, 64, 67, 0.15);\n",
              "      fill: #174EA6;\n",
              "    }\n",
              "\n",
              "    .colab-df-buttons div {\n",
              "      margin-bottom: 4px;\n",
              "    }\n",
              "\n",
              "    [theme=dark] .colab-df-convert {\n",
              "      background-color: #3B4455;\n",
              "      fill: #D2E3FC;\n",
              "    }\n",
              "\n",
              "    [theme=dark] .colab-df-convert:hover {\n",
              "      background-color: #434B5C;\n",
              "      box-shadow: 0px 1px 3px 1px rgba(0, 0, 0, 0.15);\n",
              "      filter: drop-shadow(0px 1px 2px rgba(0, 0, 0, 0.3));\n",
              "      fill: #FFFFFF;\n",
              "    }\n",
              "  </style>\n",
              "\n",
              "    <script>\n",
              "      const buttonEl =\n",
              "        document.querySelector('#df-dadb73d3-98cf-406e-a34e-a4a7e2505c39 button.colab-df-convert');\n",
              "      buttonEl.style.display =\n",
              "        google.colab.kernel.accessAllowed ? 'block' : 'none';\n",
              "\n",
              "      async function convertToInteractive(key) {\n",
              "        const element = document.querySelector('#df-dadb73d3-98cf-406e-a34e-a4a7e2505c39');\n",
              "        const dataTable =\n",
              "          await google.colab.kernel.invokeFunction('convertToInteractive',\n",
              "                                                    [key], {});\n",
              "        if (!dataTable) return;\n",
              "\n",
              "        const docLinkHtml = 'Like what you see? Visit the ' +\n",
              "          '<a target=\"_blank\" href=https://colab.research.google.com/notebooks/data_table.ipynb>data table notebook</a>'\n",
              "          + ' to learn more about interactive tables.';\n",
              "        element.innerHTML = '';\n",
              "        dataTable['output_type'] = 'display_data';\n",
              "        await google.colab.output.renderOutput(dataTable, element);\n",
              "        const docLink = document.createElement('div');\n",
              "        docLink.innerHTML = docLinkHtml;\n",
              "        element.appendChild(docLink);\n",
              "      }\n",
              "    </script>\n",
              "  </div>\n",
              "\n",
              "\n",
              "<div id=\"df-21361f2c-7eeb-48a7-bfb9-09dbf8f141c9\">\n",
              "  <button class=\"colab-df-quickchart\" onclick=\"quickchart('df-21361f2c-7eeb-48a7-bfb9-09dbf8f141c9')\"\n",
              "            title=\"Suggest charts\"\n",
              "            style=\"display:none;\">\n",
              "\n",
              "<svg xmlns=\"http://www.w3.org/2000/svg\" height=\"24px\"viewBox=\"0 0 24 24\"\n",
              "     width=\"24px\">\n",
              "    <g>\n",
              "        <path d=\"M19 3H5c-1.1 0-2 .9-2 2v14c0 1.1.9 2 2 2h14c1.1 0 2-.9 2-2V5c0-1.1-.9-2-2-2zM9 17H7v-7h2v7zm4 0h-2V7h2v10zm4 0h-2v-4h2v4z\"/>\n",
              "    </g>\n",
              "</svg>\n",
              "  </button>\n",
              "\n",
              "<style>\n",
              "  .colab-df-quickchart {\n",
              "      --bg-color: #E8F0FE;\n",
              "      --fill-color: #1967D2;\n",
              "      --hover-bg-color: #E2EBFA;\n",
              "      --hover-fill-color: #174EA6;\n",
              "      --disabled-fill-color: #AAA;\n",
              "      --disabled-bg-color: #DDD;\n",
              "  }\n",
              "\n",
              "  [theme=dark] .colab-df-quickchart {\n",
              "      --bg-color: #3B4455;\n",
              "      --fill-color: #D2E3FC;\n",
              "      --hover-bg-color: #434B5C;\n",
              "      --hover-fill-color: #FFFFFF;\n",
              "      --disabled-bg-color: #3B4455;\n",
              "      --disabled-fill-color: #666;\n",
              "  }\n",
              "\n",
              "  .colab-df-quickchart {\n",
              "    background-color: var(--bg-color);\n",
              "    border: none;\n",
              "    border-radius: 50%;\n",
              "    cursor: pointer;\n",
              "    display: none;\n",
              "    fill: var(--fill-color);\n",
              "    height: 32px;\n",
              "    padding: 0;\n",
              "    width: 32px;\n",
              "  }\n",
              "\n",
              "  .colab-df-quickchart:hover {\n",
              "    background-color: var(--hover-bg-color);\n",
              "    box-shadow: 0 1px 2px rgba(60, 64, 67, 0.3), 0 1px 3px 1px rgba(60, 64, 67, 0.15);\n",
              "    fill: var(--button-hover-fill-color);\n",
              "  }\n",
              "\n",
              "  .colab-df-quickchart-complete:disabled,\n",
              "  .colab-df-quickchart-complete:disabled:hover {\n",
              "    background-color: var(--disabled-bg-color);\n",
              "    fill: var(--disabled-fill-color);\n",
              "    box-shadow: none;\n",
              "  }\n",
              "\n",
              "  .colab-df-spinner {\n",
              "    border: 2px solid var(--fill-color);\n",
              "    border-color: transparent;\n",
              "    border-bottom-color: var(--fill-color);\n",
              "    animation:\n",
              "      spin 1s steps(1) infinite;\n",
              "  }\n",
              "\n",
              "  @keyframes spin {\n",
              "    0% {\n",
              "      border-color: transparent;\n",
              "      border-bottom-color: var(--fill-color);\n",
              "      border-left-color: var(--fill-color);\n",
              "    }\n",
              "    20% {\n",
              "      border-color: transparent;\n",
              "      border-left-color: var(--fill-color);\n",
              "      border-top-color: var(--fill-color);\n",
              "    }\n",
              "    30% {\n",
              "      border-color: transparent;\n",
              "      border-left-color: var(--fill-color);\n",
              "      border-top-color: var(--fill-color);\n",
              "      border-right-color: var(--fill-color);\n",
              "    }\n",
              "    40% {\n",
              "      border-color: transparent;\n",
              "      border-right-color: var(--fill-color);\n",
              "      border-top-color: var(--fill-color);\n",
              "    }\n",
              "    60% {\n",
              "      border-color: transparent;\n",
              "      border-right-color: var(--fill-color);\n",
              "    }\n",
              "    80% {\n",
              "      border-color: transparent;\n",
              "      border-right-color: var(--fill-color);\n",
              "      border-bottom-color: var(--fill-color);\n",
              "    }\n",
              "    90% {\n",
              "      border-color: transparent;\n",
              "      border-bottom-color: var(--fill-color);\n",
              "    }\n",
              "  }\n",
              "</style>\n",
              "\n",
              "  <script>\n",
              "    async function quickchart(key) {\n",
              "      const quickchartButtonEl =\n",
              "        document.querySelector('#' + key + ' button');\n",
              "      quickchartButtonEl.disabled = true;  // To prevent multiple clicks.\n",
              "      quickchartButtonEl.classList.add('colab-df-spinner');\n",
              "      try {\n",
              "        const charts = await google.colab.kernel.invokeFunction(\n",
              "            'suggestCharts', [key], {});\n",
              "      } catch (error) {\n",
              "        console.error('Error during call to suggestCharts:', error);\n",
              "      }\n",
              "      quickchartButtonEl.classList.remove('colab-df-spinner');\n",
              "      quickchartButtonEl.classList.add('colab-df-quickchart-complete');\n",
              "    }\n",
              "    (() => {\n",
              "      let quickchartButtonEl =\n",
              "        document.querySelector('#df-21361f2c-7eeb-48a7-bfb9-09dbf8f141c9 button');\n",
              "      quickchartButtonEl.style.display =\n",
              "        google.colab.kernel.accessAllowed ? 'block' : 'none';\n",
              "    })();\n",
              "  </script>\n",
              "</div>\n",
              "\n",
              "  <div id=\"id_95b537c7-2105-49f7-90ee-7723acf8dcb8\">\n",
              "    <style>\n",
              "      .colab-df-generate {\n",
              "        background-color: #E8F0FE;\n",
              "        border: none;\n",
              "        border-radius: 50%;\n",
              "        cursor: pointer;\n",
              "        display: none;\n",
              "        fill: #1967D2;\n",
              "        height: 32px;\n",
              "        padding: 0 0 0 0;\n",
              "        width: 32px;\n",
              "      }\n",
              "\n",
              "      .colab-df-generate:hover {\n",
              "        background-color: #E2EBFA;\n",
              "        box-shadow: 0px 1px 2px rgba(60, 64, 67, 0.3), 0px 1px 3px 1px rgba(60, 64, 67, 0.15);\n",
              "        fill: #174EA6;\n",
              "      }\n",
              "\n",
              "      [theme=dark] .colab-df-generate {\n",
              "        background-color: #3B4455;\n",
              "        fill: #D2E3FC;\n",
              "      }\n",
              "\n",
              "      [theme=dark] .colab-df-generate:hover {\n",
              "        background-color: #434B5C;\n",
              "        box-shadow: 0px 1px 3px 1px rgba(0, 0, 0, 0.15);\n",
              "        filter: drop-shadow(0px 1px 2px rgba(0, 0, 0, 0.3));\n",
              "        fill: #FFFFFF;\n",
              "      }\n",
              "    </style>\n",
              "    <button class=\"colab-df-generate\" onclick=\"generateWithVariable('compare_results')\"\n",
              "            title=\"Generate code using this dataframe.\"\n",
              "            style=\"display:none;\">\n",
              "\n",
              "  <svg xmlns=\"http://www.w3.org/2000/svg\" height=\"24px\"viewBox=\"0 0 24 24\"\n",
              "       width=\"24px\">\n",
              "    <path d=\"M7,19H8.4L18.45,9,17,7.55,7,17.6ZM5,21V16.75L18.45,3.32a2,2,0,0,1,2.83,0l1.4,1.43a1.91,1.91,0,0,1,.58,1.4,1.91,1.91,0,0,1-.58,1.4L9.25,21ZM18.45,9,17,7.55Zm-12,3A5.31,5.31,0,0,0,4.9,8.1,5.31,5.31,0,0,0,1,6.5,5.31,5.31,0,0,0,4.9,4.9,5.31,5.31,0,0,0,6.5,1,5.31,5.31,0,0,0,8.1,4.9,5.31,5.31,0,0,0,12,6.5,5.46,5.46,0,0,0,6.5,12Z\"/>\n",
              "  </svg>\n",
              "    </button>\n",
              "    <script>\n",
              "      (() => {\n",
              "      const buttonEl =\n",
              "        document.querySelector('#id_95b537c7-2105-49f7-90ee-7723acf8dcb8 button.colab-df-generate');\n",
              "      buttonEl.style.display =\n",
              "        google.colab.kernel.accessAllowed ? 'block' : 'none';\n",
              "\n",
              "      buttonEl.onclick = () => {\n",
              "        google.colab.notebook.generateWithVariable('compare_results');\n",
              "      }\n",
              "      })();\n",
              "    </script>\n",
              "  </div>\n",
              "\n",
              "    </div>\n",
              "  </div>\n"
            ],
            "application/vnd.google.colaboratory.intrinsic+json": {
              "type": "dataframe",
              "variable_name": "compare_results",
              "summary": "{\n  \"name\": \"compare_results\",\n  \"rows\": 3,\n  \"fields\": [\n    {\n      \"column\": \"model_name\",\n      \"properties\": {\n        \"dtype\": \"string\",\n        \"num_unique_values\": 3,\n        \"samples\": [\n          \"FashionMNISTModelV0\",\n          \"FashionMNISTModelV1\",\n          \"FashionMNISTModelV2\"\n        ],\n        \"semantic_type\": \"\",\n        \"description\": \"\"\n      }\n    },\n    {\n      \"column\": \"model_loss\",\n      \"properties\": {\n        \"dtype\": \"number\",\n        \"std\": 0.18125584487287588,\n        \"min\": 0.3239152431488037,\n        \"max\": 0.6850008964538574,\n        \"num_unique_values\": 3,\n        \"samples\": [\n          0.47663888335227966,\n          0.6850008964538574,\n          0.3239152431488037\n        ],\n        \"semantic_type\": \"\",\n        \"description\": \"\"\n      }\n    },\n    {\n      \"column\": \"model_acc\",\n      \"properties\": {\n        \"dtype\": \"number\",\n        \"std\": 6.676924863272839,\n        \"min\": 75.01996805111821,\n        \"max\": 88.20886581469648,\n        \"num_unique_values\": 3,\n        \"samples\": [\n          83.42651757188499,\n          75.01996805111821,\n          88.20886581469648\n        ],\n        \"semantic_type\": \"\",\n        \"description\": \"\"\n      }\n    }\n  ]\n}"
            }
          },
          "metadata": {},
          "execution_count": 48
        }
      ]
    },
    {
      "cell_type": "code",
      "source": [
        "# Add training times to results comparison\n",
        "compare_results[\"training_time\"] = [total_train_time_model_0,\n",
        "                                    total_train_time_model_1,\n",
        "                                    total_train_time_model_2]\n",
        "compare_results"
      ],
      "metadata": {
        "id": "NHA1b9kbEdUg",
        "colab": {
          "base_uri": "https://localhost:8080/",
          "height": 143
        },
        "outputId": "945567b5-a940-44d7-84f5-947d04d353af"
      },
      "execution_count": 49,
      "outputs": [
        {
          "output_type": "execute_result",
          "data": {
            "text/plain": [
              "            model_name  model_loss  model_acc  training_time\n",
              "0  FashionMNISTModelV0    0.476639  83.426518      24.996054\n",
              "1  FashionMNISTModelV1    0.685001  75.019968      27.885000\n",
              "2  FashionMNISTModelV2    0.323915  88.208866      34.744159"
            ],
            "text/html": [
              "\n",
              "  <div id=\"df-b53aafaf-99bd-4a53-9ef4-3ade44d9a160\" class=\"colab-df-container\">\n",
              "    <div>\n",
              "<style scoped>\n",
              "    .dataframe tbody tr th:only-of-type {\n",
              "        vertical-align: middle;\n",
              "    }\n",
              "\n",
              "    .dataframe tbody tr th {\n",
              "        vertical-align: top;\n",
              "    }\n",
              "\n",
              "    .dataframe thead th {\n",
              "        text-align: right;\n",
              "    }\n",
              "</style>\n",
              "<table border=\"1\" class=\"dataframe\">\n",
              "  <thead>\n",
              "    <tr style=\"text-align: right;\">\n",
              "      <th></th>\n",
              "      <th>model_name</th>\n",
              "      <th>model_loss</th>\n",
              "      <th>model_acc</th>\n",
              "      <th>training_time</th>\n",
              "    </tr>\n",
              "  </thead>\n",
              "  <tbody>\n",
              "    <tr>\n",
              "      <th>0</th>\n",
              "      <td>FashionMNISTModelV0</td>\n",
              "      <td>0.476639</td>\n",
              "      <td>83.426518</td>\n",
              "      <td>24.996054</td>\n",
              "    </tr>\n",
              "    <tr>\n",
              "      <th>1</th>\n",
              "      <td>FashionMNISTModelV1</td>\n",
              "      <td>0.685001</td>\n",
              "      <td>75.019968</td>\n",
              "      <td>27.885000</td>\n",
              "    </tr>\n",
              "    <tr>\n",
              "      <th>2</th>\n",
              "      <td>FashionMNISTModelV2</td>\n",
              "      <td>0.323915</td>\n",
              "      <td>88.208866</td>\n",
              "      <td>34.744159</td>\n",
              "    </tr>\n",
              "  </tbody>\n",
              "</table>\n",
              "</div>\n",
              "    <div class=\"colab-df-buttons\">\n",
              "\n",
              "  <div class=\"colab-df-container\">\n",
              "    <button class=\"colab-df-convert\" onclick=\"convertToInteractive('df-b53aafaf-99bd-4a53-9ef4-3ade44d9a160')\"\n",
              "            title=\"Convert this dataframe to an interactive table.\"\n",
              "            style=\"display:none;\">\n",
              "\n",
              "  <svg xmlns=\"http://www.w3.org/2000/svg\" height=\"24px\" viewBox=\"0 -960 960 960\">\n",
              "    <path d=\"M120-120v-720h720v720H120Zm60-500h600v-160H180v160Zm220 220h160v-160H400v160Zm0 220h160v-160H400v160ZM180-400h160v-160H180v160Zm440 0h160v-160H620v160ZM180-180h160v-160H180v160Zm440 0h160v-160H620v160Z\"/>\n",
              "  </svg>\n",
              "    </button>\n",
              "\n",
              "  <style>\n",
              "    .colab-df-container {\n",
              "      display:flex;\n",
              "      gap: 12px;\n",
              "    }\n",
              "\n",
              "    .colab-df-convert {\n",
              "      background-color: #E8F0FE;\n",
              "      border: none;\n",
              "      border-radius: 50%;\n",
              "      cursor: pointer;\n",
              "      display: none;\n",
              "      fill: #1967D2;\n",
              "      height: 32px;\n",
              "      padding: 0 0 0 0;\n",
              "      width: 32px;\n",
              "    }\n",
              "\n",
              "    .colab-df-convert:hover {\n",
              "      background-color: #E2EBFA;\n",
              "      box-shadow: 0px 1px 2px rgba(60, 64, 67, 0.3), 0px 1px 3px 1px rgba(60, 64, 67, 0.15);\n",
              "      fill: #174EA6;\n",
              "    }\n",
              "\n",
              "    .colab-df-buttons div {\n",
              "      margin-bottom: 4px;\n",
              "    }\n",
              "\n",
              "    [theme=dark] .colab-df-convert {\n",
              "      background-color: #3B4455;\n",
              "      fill: #D2E3FC;\n",
              "    }\n",
              "\n",
              "    [theme=dark] .colab-df-convert:hover {\n",
              "      background-color: #434B5C;\n",
              "      box-shadow: 0px 1px 3px 1px rgba(0, 0, 0, 0.15);\n",
              "      filter: drop-shadow(0px 1px 2px rgba(0, 0, 0, 0.3));\n",
              "      fill: #FFFFFF;\n",
              "    }\n",
              "  </style>\n",
              "\n",
              "    <script>\n",
              "      const buttonEl =\n",
              "        document.querySelector('#df-b53aafaf-99bd-4a53-9ef4-3ade44d9a160 button.colab-df-convert');\n",
              "      buttonEl.style.display =\n",
              "        google.colab.kernel.accessAllowed ? 'block' : 'none';\n",
              "\n",
              "      async function convertToInteractive(key) {\n",
              "        const element = document.querySelector('#df-b53aafaf-99bd-4a53-9ef4-3ade44d9a160');\n",
              "        const dataTable =\n",
              "          await google.colab.kernel.invokeFunction('convertToInteractive',\n",
              "                                                    [key], {});\n",
              "        if (!dataTable) return;\n",
              "\n",
              "        const docLinkHtml = 'Like what you see? Visit the ' +\n",
              "          '<a target=\"_blank\" href=https://colab.research.google.com/notebooks/data_table.ipynb>data table notebook</a>'\n",
              "          + ' to learn more about interactive tables.';\n",
              "        element.innerHTML = '';\n",
              "        dataTable['output_type'] = 'display_data';\n",
              "        await google.colab.output.renderOutput(dataTable, element);\n",
              "        const docLink = document.createElement('div');\n",
              "        docLink.innerHTML = docLinkHtml;\n",
              "        element.appendChild(docLink);\n",
              "      }\n",
              "    </script>\n",
              "  </div>\n",
              "\n",
              "\n",
              "<div id=\"df-69eb23ce-d039-40fb-b2d0-9cac802f47c1\">\n",
              "  <button class=\"colab-df-quickchart\" onclick=\"quickchart('df-69eb23ce-d039-40fb-b2d0-9cac802f47c1')\"\n",
              "            title=\"Suggest charts\"\n",
              "            style=\"display:none;\">\n",
              "\n",
              "<svg xmlns=\"http://www.w3.org/2000/svg\" height=\"24px\"viewBox=\"0 0 24 24\"\n",
              "     width=\"24px\">\n",
              "    <g>\n",
              "        <path d=\"M19 3H5c-1.1 0-2 .9-2 2v14c0 1.1.9 2 2 2h14c1.1 0 2-.9 2-2V5c0-1.1-.9-2-2-2zM9 17H7v-7h2v7zm4 0h-2V7h2v10zm4 0h-2v-4h2v4z\"/>\n",
              "    </g>\n",
              "</svg>\n",
              "  </button>\n",
              "\n",
              "<style>\n",
              "  .colab-df-quickchart {\n",
              "      --bg-color: #E8F0FE;\n",
              "      --fill-color: #1967D2;\n",
              "      --hover-bg-color: #E2EBFA;\n",
              "      --hover-fill-color: #174EA6;\n",
              "      --disabled-fill-color: #AAA;\n",
              "      --disabled-bg-color: #DDD;\n",
              "  }\n",
              "\n",
              "  [theme=dark] .colab-df-quickchart {\n",
              "      --bg-color: #3B4455;\n",
              "      --fill-color: #D2E3FC;\n",
              "      --hover-bg-color: #434B5C;\n",
              "      --hover-fill-color: #FFFFFF;\n",
              "      --disabled-bg-color: #3B4455;\n",
              "      --disabled-fill-color: #666;\n",
              "  }\n",
              "\n",
              "  .colab-df-quickchart {\n",
              "    background-color: var(--bg-color);\n",
              "    border: none;\n",
              "    border-radius: 50%;\n",
              "    cursor: pointer;\n",
              "    display: none;\n",
              "    fill: var(--fill-color);\n",
              "    height: 32px;\n",
              "    padding: 0;\n",
              "    width: 32px;\n",
              "  }\n",
              "\n",
              "  .colab-df-quickchart:hover {\n",
              "    background-color: var(--hover-bg-color);\n",
              "    box-shadow: 0 1px 2px rgba(60, 64, 67, 0.3), 0 1px 3px 1px rgba(60, 64, 67, 0.15);\n",
              "    fill: var(--button-hover-fill-color);\n",
              "  }\n",
              "\n",
              "  .colab-df-quickchart-complete:disabled,\n",
              "  .colab-df-quickchart-complete:disabled:hover {\n",
              "    background-color: var(--disabled-bg-color);\n",
              "    fill: var(--disabled-fill-color);\n",
              "    box-shadow: none;\n",
              "  }\n",
              "\n",
              "  .colab-df-spinner {\n",
              "    border: 2px solid var(--fill-color);\n",
              "    border-color: transparent;\n",
              "    border-bottom-color: var(--fill-color);\n",
              "    animation:\n",
              "      spin 1s steps(1) infinite;\n",
              "  }\n",
              "\n",
              "  @keyframes spin {\n",
              "    0% {\n",
              "      border-color: transparent;\n",
              "      border-bottom-color: var(--fill-color);\n",
              "      border-left-color: var(--fill-color);\n",
              "    }\n",
              "    20% {\n",
              "      border-color: transparent;\n",
              "      border-left-color: var(--fill-color);\n",
              "      border-top-color: var(--fill-color);\n",
              "    }\n",
              "    30% {\n",
              "      border-color: transparent;\n",
              "      border-left-color: var(--fill-color);\n",
              "      border-top-color: var(--fill-color);\n",
              "      border-right-color: var(--fill-color);\n",
              "    }\n",
              "    40% {\n",
              "      border-color: transparent;\n",
              "      border-right-color: var(--fill-color);\n",
              "      border-top-color: var(--fill-color);\n",
              "    }\n",
              "    60% {\n",
              "      border-color: transparent;\n",
              "      border-right-color: var(--fill-color);\n",
              "    }\n",
              "    80% {\n",
              "      border-color: transparent;\n",
              "      border-right-color: var(--fill-color);\n",
              "      border-bottom-color: var(--fill-color);\n",
              "    }\n",
              "    90% {\n",
              "      border-color: transparent;\n",
              "      border-bottom-color: var(--fill-color);\n",
              "    }\n",
              "  }\n",
              "</style>\n",
              "\n",
              "  <script>\n",
              "    async function quickchart(key) {\n",
              "      const quickchartButtonEl =\n",
              "        document.querySelector('#' + key + ' button');\n",
              "      quickchartButtonEl.disabled = true;  // To prevent multiple clicks.\n",
              "      quickchartButtonEl.classList.add('colab-df-spinner');\n",
              "      try {\n",
              "        const charts = await google.colab.kernel.invokeFunction(\n",
              "            'suggestCharts', [key], {});\n",
              "      } catch (error) {\n",
              "        console.error('Error during call to suggestCharts:', error);\n",
              "      }\n",
              "      quickchartButtonEl.classList.remove('colab-df-spinner');\n",
              "      quickchartButtonEl.classList.add('colab-df-quickchart-complete');\n",
              "    }\n",
              "    (() => {\n",
              "      let quickchartButtonEl =\n",
              "        document.querySelector('#df-69eb23ce-d039-40fb-b2d0-9cac802f47c1 button');\n",
              "      quickchartButtonEl.style.display =\n",
              "        google.colab.kernel.accessAllowed ? 'block' : 'none';\n",
              "    })();\n",
              "  </script>\n",
              "</div>\n",
              "\n",
              "  <div id=\"id_be6a7d46-4ad7-45ad-8e84-62810bab8adc\">\n",
              "    <style>\n",
              "      .colab-df-generate {\n",
              "        background-color: #E8F0FE;\n",
              "        border: none;\n",
              "        border-radius: 50%;\n",
              "        cursor: pointer;\n",
              "        display: none;\n",
              "        fill: #1967D2;\n",
              "        height: 32px;\n",
              "        padding: 0 0 0 0;\n",
              "        width: 32px;\n",
              "      }\n",
              "\n",
              "      .colab-df-generate:hover {\n",
              "        background-color: #E2EBFA;\n",
              "        box-shadow: 0px 1px 2px rgba(60, 64, 67, 0.3), 0px 1px 3px 1px rgba(60, 64, 67, 0.15);\n",
              "        fill: #174EA6;\n",
              "      }\n",
              "\n",
              "      [theme=dark] .colab-df-generate {\n",
              "        background-color: #3B4455;\n",
              "        fill: #D2E3FC;\n",
              "      }\n",
              "\n",
              "      [theme=dark] .colab-df-generate:hover {\n",
              "        background-color: #434B5C;\n",
              "        box-shadow: 0px 1px 3px 1px rgba(0, 0, 0, 0.15);\n",
              "        filter: drop-shadow(0px 1px 2px rgba(0, 0, 0, 0.3));\n",
              "        fill: #FFFFFF;\n",
              "      }\n",
              "    </style>\n",
              "    <button class=\"colab-df-generate\" onclick=\"generateWithVariable('compare_results')\"\n",
              "            title=\"Generate code using this dataframe.\"\n",
              "            style=\"display:none;\">\n",
              "\n",
              "  <svg xmlns=\"http://www.w3.org/2000/svg\" height=\"24px\"viewBox=\"0 0 24 24\"\n",
              "       width=\"24px\">\n",
              "    <path d=\"M7,19H8.4L18.45,9,17,7.55,7,17.6ZM5,21V16.75L18.45,3.32a2,2,0,0,1,2.83,0l1.4,1.43a1.91,1.91,0,0,1,.58,1.4,1.91,1.91,0,0,1-.58,1.4L9.25,21ZM18.45,9,17,7.55Zm-12,3A5.31,5.31,0,0,0,4.9,8.1,5.31,5.31,0,0,0,1,6.5,5.31,5.31,0,0,0,4.9,4.9,5.31,5.31,0,0,0,6.5,1,5.31,5.31,0,0,0,8.1,4.9,5.31,5.31,0,0,0,12,6.5,5.46,5.46,0,0,0,6.5,12Z\"/>\n",
              "  </svg>\n",
              "    </button>\n",
              "    <script>\n",
              "      (() => {\n",
              "      const buttonEl =\n",
              "        document.querySelector('#id_be6a7d46-4ad7-45ad-8e84-62810bab8adc button.colab-df-generate');\n",
              "      buttonEl.style.display =\n",
              "        google.colab.kernel.accessAllowed ? 'block' : 'none';\n",
              "\n",
              "      buttonEl.onclick = () => {\n",
              "        google.colab.notebook.generateWithVariable('compare_results');\n",
              "      }\n",
              "      })();\n",
              "    </script>\n",
              "  </div>\n",
              "\n",
              "    </div>\n",
              "  </div>\n"
            ],
            "application/vnd.google.colaboratory.intrinsic+json": {
              "type": "dataframe",
              "variable_name": "compare_results",
              "summary": "{\n  \"name\": \"compare_results\",\n  \"rows\": 3,\n  \"fields\": [\n    {\n      \"column\": \"model_name\",\n      \"properties\": {\n        \"dtype\": \"string\",\n        \"num_unique_values\": 3,\n        \"samples\": [\n          \"FashionMNISTModelV0\",\n          \"FashionMNISTModelV1\",\n          \"FashionMNISTModelV2\"\n        ],\n        \"semantic_type\": \"\",\n        \"description\": \"\"\n      }\n    },\n    {\n      \"column\": \"model_loss\",\n      \"properties\": {\n        \"dtype\": \"number\",\n        \"std\": 0.18125584487287588,\n        \"min\": 0.3239152431488037,\n        \"max\": 0.6850008964538574,\n        \"num_unique_values\": 3,\n        \"samples\": [\n          0.47663888335227966,\n          0.6850008964538574,\n          0.3239152431488037\n        ],\n        \"semantic_type\": \"\",\n        \"description\": \"\"\n      }\n    },\n    {\n      \"column\": \"model_acc\",\n      \"properties\": {\n        \"dtype\": \"number\",\n        \"std\": 6.676924863272839,\n        \"min\": 75.01996805111821,\n        \"max\": 88.20886581469648,\n        \"num_unique_values\": 3,\n        \"samples\": [\n          83.42651757188499,\n          75.01996805111821,\n          88.20886581469648\n        ],\n        \"semantic_type\": \"\",\n        \"description\": \"\"\n      }\n    },\n    {\n      \"column\": \"training_time\",\n      \"properties\": {\n        \"dtype\": \"number\",\n        \"std\": 5.006989076892,\n        \"min\": 24.996053566,\n        \"max\": 34.74415919399999,\n        \"num_unique_values\": 3,\n        \"samples\": [\n          24.996053566,\n          27.88500024999999,\n          34.74415919399999\n        ],\n        \"semantic_type\": \"\",\n        \"description\": \"\"\n      }\n    }\n  ]\n}"
            }
          },
          "metadata": {},
          "execution_count": 49
        }
      ]
    },
    {
      "cell_type": "code",
      "source": [
        "# Visualize our model results\n",
        "compare_results.set_index(\"model_name\")[\"model_acc\"].plot(kind=\"barh\")\n",
        "plt.xlabel(\"accuracy (%)\")\n",
        "plt.ylabel(\"model\");"
      ],
      "metadata": {
        "colab": {
          "base_uri": "https://localhost:8080/",
          "height": 449
        },
        "id": "pOXGhCX_gCJd",
        "outputId": "1400c20b-6952-4394-c4d2-783c647865b5"
      },
      "execution_count": 50,
      "outputs": [
        {
          "output_type": "display_data",
          "data": {
            "text/plain": [
              "<Figure size 640x480 with 1 Axes>"
            ],
            "image/png": "[encoded data removed]"
          },
          "metadata": {}
        }
      ]
    },
    {
      "cell_type": "code",
      "source": [
        "def make_predictions(model:torch.nn.Module,\n",
        "              data:list,\n",
        "              device: torch.device=device):\n",
        "  pred_probs=[]\n",
        "  model.eval()\n",
        "  model.to(device)\n",
        "  with torch.inference_mode():\n",
        "    for sample in data:\n",
        "      sample=torch.unsqueeze(sample, dim=0).to(device)\n",
        "      pred_logit=model(sample)\n",
        "      pred_prob=torch.softmax(pred_logit.squeeze(), dim=0)\n",
        "      pred_probs.append(pred_prob.cpu())\n",
        "  return torch.stack(pred_probs)"
      ],
      "metadata": {
        "id": "GIZRDdun_p0v"
      },
      "execution_count": 51,
      "outputs": []
    },
    {
      "cell_type": "code",
      "source": [
        "import random\n",
        "random.seed(42)\n",
        "test_samples=[]\n",
        "test_labels=[]\n",
        "for sample, label in random.sample(list(test_data), k=9):\n",
        "  test_samples.append(sample)\n",
        "  test_labels.append(label)\n",
        "\n",
        "test_samples[0].shape"
      ],
      "metadata": {
        "colab": {
          "base_uri": "https://localhost:8080/"
        },
        "id": "iEifYiRDCUqk",
        "outputId": "1a2d5f3f-2787-4bc2-de59-69dae9bb7d2e"
      },
      "execution_count": 52,
      "outputs": [
        {
          "output_type": "execute_result",
          "data": {
            "text/plain": [
              "torch.Size([1, 28, 28])"
            ]
          },
          "metadata": {},
          "execution_count": 52
        }
      ]
    },
    {
      "cell_type": "code",
      "source": [
        "plt.imshow(test_samples[0].squeeze(), cmap=\"gray\")\n",
        "plt.title(class_names[test_labels[0]])"
      ],
      "metadata": {
        "colab": {
          "base_uri": "https://localhost:8080/",
          "height": 469
        },
        "id": "qwt6hE9pD-6I",
        "outputId": "f7028147-5314-4d52-cd57-a74379e52f9c"
      },
      "execution_count": 53,
      "outputs": [
        {
          "output_type": "execute_result",
          "data": {
            "text/plain": [
              "Text(0.5, 1.0, 'Sandal')"
            ]
          },
          "metadata": {},
          "execution_count": 53
        },
        {
          "output_type": "display_data",
          "data": {
            "text/plain": [
              "<Figure size 640x480 with 1 Axes>"
            ],
            "image/png": "[encoded data removed]"
          },
          "metadata": {}
        }
      ]
    },
    {
      "cell_type": "code",
      "source": [
        "pred_probs=make_predictions(model=model_2,\n",
        "                            data=test_samples)\n",
        "pred_probs[:2]"
      ],
      "metadata": {
        "colab": {
          "base_uri": "https://localhost:8080/"
        },
        "id": "Yp4qdg-LENWJ",
        "outputId": "3cf14dbe-9e03-4633-b223-c659d79c5495"
      },
      "execution_count": 54,
      "outputs": [
        {
          "output_type": "execute_result",
          "data": {
            "text/plain": [
              "tensor([[1.6248e-07, 1.2720e-07, 1.4449e-07, 1.8172e-06, 1.0128e-07, 9.9971e-01,\n",
              "         1.1827e-06, 1.0785e-04, 4.2223e-05, 1.4047e-04],\n",
              "        [3.3025e-02, 7.4614e-01, 3.2063e-04, 6.8177e-02, 1.1455e-01, 3.5647e-05,\n",
              "         3.6681e-02, 3.1636e-04, 6.7996e-04, 7.6504e-05]])"
            ]
          },
          "metadata": {},
          "execution_count": 54
        }
      ]
    },
    {
      "cell_type": "code",
      "source": [
        "pred_classes=pred_probs.argmax(dim=1)\n",
        "pred_classes"
      ],
      "metadata": {
        "colab": {
          "base_uri": "https://localhost:8080/"
        },
        "id": "oEQ_b4jMEuAY",
        "outputId": "5ec0f070-0848-4106-e100-ba2715ea31eb"
      },
      "execution_count": 55,
      "outputs": [
        {
          "output_type": "execute_result",
          "data": {
            "text/plain": [
              "tensor([5, 1, 7, 4, 3, 0, 4, 7, 1])"
            ]
          },
          "metadata": {},
          "execution_count": 55
        }
      ]
    },
    {
      "cell_type": "code",
      "source": [
        "plt.figure(figsize=(9,9))\n",
        "nrows=3\n",
        "ncols=3\n",
        "for i, sample in enumerate(test_samples):\n",
        "  plt.subplot(nrows, ncols, i+1)\n",
        "  plt.imshow(sample.squeeze(), cmap=\"gray\")\n",
        "  pred_label=class_names[pred_classes[i]]\n",
        "  truth_label=class_names[test_labels[i]]\n",
        "  title_text=f\"Pred: {pred_label} | Truth: {truth_label}\"\n",
        "  if pred_label == truth_label:\n",
        "    plt.title(title_text, fontsize=10, c=\"g\")\n",
        "  else:\n",
        "    plt.title(title_text, fontsize=10, c=\"r\")\n",
        "    plt.axis(False);\n"
      ],
      "metadata": {
        "colab": {
          "base_uri": "https://localhost:8080/",
          "height": 773
        },
        "id": "XO5V7qL3Fi4L",
        "outputId": "6e6597f4-172f-4f3f-ee7b-46d1b635428d"
      },
      "execution_count": 56,
      "outputs": [
        {
          "output_type": "display_data",
          "data": {
            "text/plain": [
              "<Figure size 900x900 with 9 Axes>"
            ],
            "image/png": "[encoded data removed]"
          },
          "metadata": {}
        }
      ]
    },
    {
      "cell_type": "code",
      "source": [
        "!nvidia-smi"
      ],
      "metadata": {
        "colab": {
          "base_uri": "https://localhost:8080/"
        },
        "id": "-k3FMhITHat6",
        "outputId": "ea17de1e-5cde-483f-8651-12b6de0f59a4"
      },
      "execution_count": 57,
      "outputs": [
        {
          "output_type": "stream",
          "name": "stdout",
          "text": [
            "Sun Mar 16 11:35:57 2025       \n",
            "+-----------------------------------------------------------------------------------------+\n",
            "| NVIDIA-SMI 550.54.15              Driver Version: 550.54.15      CUDA Version: 12.4     |\n",
            "|-----------------------------------------+------------------------+----------------------+\n",
            "| GPU  Name                 Persistence-M | Bus-Id          Disp.A | Volatile Uncorr. ECC |\n",
            "| Fan  Temp   Perf          Pwr:Usage/Cap |           Memory-Usage | GPU-Util  Compute M. |\n",
            "|                                         |                        |               MIG M. |\n",
            "|=========================================+========================+======================|\n",
            "|   0  Tesla T4                       Off |   00000000:00:04.0 Off |                    0 |\n",
            "| N/A   58C    P0             30W /   70W |     166MiB /  15360MiB |      0%      Default |\n",
            "|                                         |                        |                  N/A |\n",
            "+-----------------------------------------+------------------------+----------------------+\n",
            "                                                                                         \n",
            "+-----------------------------------------------------------------------------------------+\n",
            "| Processes:                                                                              |\n",
            "|  GPU   GI   CI        PID   Type   Process name                              GPU Memory |\n",
            "|        ID   ID                                                               Usage      |\n",
            "|=========================================================================================|\n",
            "+-----------------------------------------------------------------------------------------+\n"
          ]
        }
      ]
    },
    {
      "cell_type": "code",
      "source": [
        "import mlxtend\n",
        "mlxtend.__version__"
      ],
      "metadata": {
        "colab": {
          "base_uri": "https://localhost:8080/",
          "height": 35
        },
        "id": "f-OCZeivYE36",
        "outputId": "5c600be2-0194-4e9b-b1d9-41b08b683858"
      },
      "execution_count": 58,
      "outputs": [
        {
          "output_type": "execute_result",
          "data": {
            "text/plain": [
              "'0.23.4'"
            ],
            "application/vnd.google.colaboratory.intrinsic+json": {
              "type": "string"
            }
          },
          "metadata": {},
          "execution_count": 58
        }
      ]
    },
    {
      "cell_type": "code",
      "source": [
        "from tqdm.auto import tqdm\n",
        "y_preds=[]\n",
        "model_2.eval()\n",
        "with torch.inference_mode():\n",
        "  for x, y in tqdm(test_dataloader,\n",
        "                   desc=\"making predictions...\"):\n",
        "    x, y=x.to(device), y.to(device)\n",
        "    y_logit= model_2(x)\n",
        "    y_pred=torch.softmax(y_logit.squeeze(), dim=0).argmax(dim=1)\n",
        "    y_preds.append(y_pred.cpu())\n",
        "print(y_preds)\n",
        "y_pred_tensor=torch.cat(y_preds)\n",
        "y_pred_tensor[:10]\n"
      ],
      "metadata": {
        "colab": {
          "base_uri": "https://localhost:8080/",
          "height": 1000,
          "referenced_widgets": [
            "1deef6de81054e108e31b966c3fec378",
            "8457f3f1e86942748a9b2fadd914bc4c",
            "e9df11d38b9e4dceafcaf5132f590bd3",
            "1d953aae3b9840e3b4bf38e43f613cec",
            "d29ecf6e5c4d4d519018602ba4f6e758",
            "c231617fbd45454dad735e3c0c56e60f",
            "1f319325bfbd47caa21bd1fd1c0dd703",
            "92175a788af34c8f91744dbdb48f8714",
            "7c88ffc692894ff2b7c06865437bac03",
            "55a952d5cc144b428183dadc572b0b4e",
            "0139c450dc654469a5dbee70465c3aa3"
          ]
        },
        "id": "0ZtrhptCbLg7",
        "outputId": "5da5c0a5-5e22-49dd-a1b2-c85332d6685e"
      },
      "execution_count": 59,
      "outputs": [
        {
          "output_type": "display_data",
          "data": {
            "text/plain": [
              "making predictions...:   0%|          | 0/313 [00:00<?, ?it/s]"
            ],
            "application/vnd.jupyter.widget-view+json": {
              "version_major": 2,
              "version_minor": 0,
              "model_id": "1deef6de81054e108e31b966c3fec378"
            }
          },
          "metadata": {}
        },
        {
          "output_type": "stream",
          "name": "stdout",
          "text": [
            "[tensor([9, 2, 1, 1, 6, 1, 4, 6, 5, 7, 4, 5, 5, 3, 4, 1, 2, 4, 8, 0, 2, 5, 7, 5,\n",
            "        1, 2, 6, 0, 9, 4, 8, 8]), tensor([3, 3, 8, 0, 7, 5, 7, 9, 6, 1, 3, 9, 6, 7, 2, 1, 4, 6, 4, 2, 5, 6, 2, 2,\n",
            "        8, 4, 8, 0, 7, 7, 8, 5]), tensor([1, 3, 3, 3, 7, 8, 7, 0, 2, 6, 2, 3, 1, 2, 8, 4, 4, 8, 5, 9, 5, 0, 3, 2,\n",
            "        0, 2, 5, 3, 6, 7, 1, 6]), tensor([6, 1, 6, 2, 3, 6, 7, 6, 7, 8, 5, 9, 9, 4, 2, 5, 7, 6, 5, 2, 8, 6, 7, 6,\n",
            "        0, 0, 9, 9, 3, 0, 8, 4]), tensor([1, 5, 4, 1, 9, 4, 8, 6, 6, 1, 2, 5, 1, 6, 0, 0, 1, 6, 1, 3, 2, 6, 4, 4,\n",
            "        1, 4, 5, 6, 4, 7, 9, 3]), tensor([8, 2, 3, 8, 0, 9, 4, 8, 4, 2, 6, 5, 4, 1, 2, 1, 3, 6, 8, 1, 0, 9, 3, 6,\n",
            "        7, 9, 8, 4, 4, 7, 1, 2]), tensor([3, 6, 3, 2, 8, 3, 6, 1, 1, 6, 2, 9, 2, 4, 0, 7, 9, 8, 4, 1, 8, 4, 1, 3,\n",
            "        3, 6, 7, 2, 8, 5, 6, 0]), tensor([7, 7, 6, 6, 7, 0, 7, 8, 9, 2, 9, 0, 5, 1, 3, 2, 5, 4, 9, 2, 2, 8, 6, 4,\n",
            "        2, 4, 9, 7, 3, 5, 5, 4]), tensor([8, 5, 2, 3, 0, 4, 8, 6, 0, 6, 3, 8, 9, 6, 1, 3, 0, 2, 3, 0, 8, 3, 7, 4,\n",
            "        0, 1, 6, 4, 6, 6, 6, 7]), tensor([5, 4, 2, 9, 5, 6, 5, 5, 1, 9, 8, 3, 3, 3, 6, 8, 0, 0, 2, 9, 7, 7, 1, 3,\n",
            "        6, 6, 2, 4, 7, 1, 6, 4]), tensor([8, 2, 6, 5, 4, 2, 8, 7, 7, 3, 3, 7, 4, 7, 1, 3, 7, 2, 2, 8, 4, 0, 8, 1,\n",
            "        0, 1, 9, 4, 9, 9, 1, 7]), tensor([8, 3, 6, 0, 2, 4, 8, 6, 1, 2, 2, 4, 4, 7, 3, 2, 2, 8, 0, 7, 9, 4, 0, 9,\n",
            "        3, 9, 8, 2, 5, 6, 2, 3]), tensor([5, 8, 1, 6, 2, 2, 6, 4, 9, 5, 2, 0, 6, 6, 1, 2, 0, 9, 7, 0, 3, 4, 3, 3,\n",
            "        2, 3, 3, 6, 7, 3, 9, 4]), tensor([2, 1, 5, 4, 5, 3, 6, 5, 8, 4, 4, 8, 9, 8, 6, 2, 4, 4, 2, 4, 1, 6, 1, 3,\n",
            "        0, 7, 8, 8, 4, 5, 3, 1]), tensor([9, 5, 3, 3, 6, 1, 6, 2, 9, 4, 6, 6, 6, 4, 2, 0, 0, 3, 3, 8, 2, 8, 9, 4,\n",
            "        0, 7, 6, 4, 6, 9, 2, 9]), tensor([7, 9, 3, 7, 5, 7, 8, 1, 6, 0, 6, 4, 8, 9, 7, 9, 1, 2, 7, 3, 2, 0, 5, 7,\n",
            "        1, 8, 2, 2, 2, 2, 4, 4]), tensor([6, 1, 9, 0, 7, 1, 9, 0, 2, 8, 3, 0, 7, 2, 6, 6, 8, 0, 2, 0, 5, 0, 7, 5,\n",
            "        0, 9, 4, 3, 4, 2, 7, 1]), tensor([3, 1, 2, 6, 2, 9, 6, 1, 5, 1, 3, 1, 9, 3, 4, 5, 3, 6, 2, 6, 4, 6, 0, 5,\n",
            "        8, 3, 3, 4, 6, 7, 7, 8]), tensor([9, 3, 3, 8, 7, 6, 7, 9, 3, 2, 6, 3, 5, 0, 1, 1, 5, 9, 4, 2, 5, 7, 8, 1,\n",
            "        2, 9, 7, 7, 1, 0, 9, 3]), tensor([4, 9, 0, 5, 1, 8, 2, 7, 1, 2, 3, 8, 2, 4, 6, 9, 3, 0, 5, 8, 8, 2, 9, 1,\n",
            "        1, 6, 4, 1, 0, 1, 4, 1]), tensor([7, 5, 8, 4, 9, 1, 6, 5, 4, 4, 4, 6, 0, 4, 5, 6, 0, 3, 5, 2, 1, 3, 1, 6,\n",
            "        6, 2, 3, 8, 2, 8, 6, 7]), tensor([0, 4, 1, 8, 5, 0, 8, 2, 7, 2, 8, 9, 6, 4, 2, 9, 6, 4, 5, 0, 9, 5, 3, 6,\n",
            "        6, 2, 1, 1, 8, 1, 4, 0]), tensor([9, 7, 9, 4, 8, 9, 1, 3, 7, 3, 0, 4, 4, 7, 1, 0, 6, 8, 7, 2, 4, 4, 4, 4,\n",
            "        1, 5, 9, 3, 0, 3, 6, 5]), tensor([0, 3, 4, 3, 3, 8, 1, 1, 8, 5, 7, 9, 8, 7, 2, 0, 7, 0, 8, 0, 9, 7, 6, 1,\n",
            "        6, 2, 4, 8, 6, 6, 3, 6]), tensor([8, 6, 0, 8, 9, 2, 4, 5, 9, 1, 4, 4, 9, 2, 3, 7, 9, 7, 8, 3, 7, 7, 1, 1,\n",
            "        1, 6, 9, 5, 3, 8, 4, 2]), tensor([9, 0, 8, 3, 2, 4, 4, 7, 1, 0, 9, 0, 5, 8, 5, 4, 7, 2, 8, 5, 9, 0, 3, 6,\n",
            "        7, 1, 7, 0, 7, 4, 6, 5]), tensor([8, 3, 7, 1, 2, 6, 1, 9, 8, 2, 7, 1, 3, 7, 5, 9, 9, 1, 8, 4, 5, 7, 1, 5,\n",
            "        8, 1, 3, 0, 2, 1, 7, 1]), tensor([1, 8, 7, 1, 5, 2, 2, 3, 3, 1, 1, 4, 9, 4, 3, 7, 7, 0, 8, 9, 9, 6, 1, 3,\n",
            "        4, 0, 3, 5, 9, 2, 0, 5]), tensor([5, 1, 5, 7, 8, 7, 9, 3, 6, 4, 0, 4, 0, 2, 0, 2, 5, 5, 1, 2, 0, 9, 3, 7,\n",
            "        8, 4, 8, 3, 4, 7, 0, 7]), tensor([4, 8, 6, 3, 4, 2, 3, 4, 9, 6, 2, 4, 9, 1, 8, 1, 7, 5, 5, 6, 6, 2, 1, 6,\n",
            "        5, 4, 0, 0, 2, 7, 5, 6]), tensor([2, 5, 9, 4, 8, 2, 6, 4, 6, 2, 9, 0, 7, 7, 1, 4, 4, 0, 5, 0, 9, 9, 8, 8,\n",
            "        4, 0, 2, 4, 6, 6, 3, 2]), tensor([3, 7, 2, 9, 3, 4, 7, 7, 0, 4, 9, 5, 2, 4, 5, 9, 6, 0, 7, 5, 1, 9, 8, 2,\n",
            "        9, 9, 2, 9, 2, 2, 3, 8]), tensor([7, 4, 4, 5, 4, 8, 6, 1, 4, 9, 3, 1, 6, 8, 0, 5, 7, 8, 2, 3, 3, 9, 6, 3,\n",
            "        6, 0, 4, 8, 0, 4, 9, 2]), tensor([6, 3, 4, 7, 0, 2, 1, 1, 3, 4, 6, 5, 9, 0, 1, 6, 5, 1, 4, 4, 8, 4, 7, 7,\n",
            "        3, 8, 3, 1, 9, 8, 1, 3]), tensor([3, 7, 5, 0, 5, 7, 8, 9, 2, 3, 5, 8, 4, 6, 3, 8, 6, 0, 5, 2, 7, 1, 0, 0,\n",
            "        5, 4, 8, 6, 2, 1, 1, 7]), tensor([9, 1, 2, 7, 1, 1, 8, 2, 2, 0, 1, 4, 4, 9, 6, 8, 4, 5, 9, 0, 3, 9, 1, 9,\n",
            "        8, 7, 4, 2, 2, 5, 1, 7]), tensor([0, 7, 2, 9, 3, 7, 0, 9, 3, 8, 4, 4, 7, 2, 3, 6, 2, 0, 7, 8, 4, 2, 4, 5,\n",
            "        5, 6, 4, 5, 5, 8, 1, 3]), tensor([7, 4, 3, 9, 6, 8, 7, 2, 2, 1, 2, 7, 7, 4, 9, 8, 5, 1, 3, 3, 2, 3, 9, 3,\n",
            "        1, 9, 3, 5, 5, 3, 0, 7]), tensor([0, 2, 3, 1, 3, 1, 3, 6, 7, 2, 4, 9, 5, 2, 9, 3, 3, 4, 4, 6, 6, 8, 2, 2,\n",
            "        8, 6, 1, 4, 2, 7, 4, 4]), tensor([8, 3, 2, 4, 0, 6, 3, 6, 8, 3, 8, 2, 0, 4, 4, 8, 8, 4, 5, 2, 2, 3, 0, 1,\n",
            "        7, 0, 9, 1, 7, 3, 5, 2]), tensor([2, 7, 3, 8, 9, 6, 8, 6, 7, 5, 8, 9, 5, 0, 6, 0, 3, 2, 4, 4, 2, 7, 1, 3,\n",
            "        4, 6, 2, 5, 1, 6, 7, 3]), tensor([4, 8, 3, 2, 8, 7, 4, 1, 6, 5, 2, 7, 0, 5, 3, 8, 5, 2, 2, 8, 9, 8, 4, 3,\n",
            "        3, 8, 8, 3, 0, 9, 4, 4]), tensor([8, 1, 3, 6, 1, 9, 2, 1, 6, 2, 7, 9, 2, 6, 0, 4, 4, 2, 4, 5, 6, 2, 8, 3,\n",
            "        7, 4, 4, 0, 0, 5, 4, 8]), tensor([2, 2, 4, 0, 2, 1, 7, 9, 5, 4, 7, 2, 2, 9, 3, 3, 1, 3, 4, 6, 6, 1, 9, 6,\n",
            "        4, 7, 1, 0, 6, 5, 8, 4]), tensor([2, 7, 9, 5, 0, 7, 9, 5, 1, 2, 9, 8, 8, 3, 9, 9, 1, 2, 7, 8, 0, 1, 7, 2,\n",
            "        7, 1, 1, 5, 5, 6, 4, 5]), tensor([9, 5, 5, 2, 3, 9, 3, 8, 5, 4, 6, 6, 6, 5, 7, 6, 8, 2, 6, 4, 4, 7, 6, 0,\n",
            "        5, 1, 7, 2, 3, 6, 8, 9]), tensor([8, 7, 1, 2, 3, 2, 9, 7, 5, 6, 0, 0, 7, 1, 2, 4, 9, 3, 6, 4, 4, 8, 0, 0,\n",
            "        6, 3, 6, 1, 3, 5, 4, 5]), tensor([3, 9, 1, 1, 8, 2, 9, 5, 0, 5, 4, 6, 7, 1, 1, 5, 3, 8, 7, 8, 3, 8, 9, 6,\n",
            "        2, 1, 1, 3, 5, 6, 7, 1]), tensor([9, 9, 2, 4, 7, 0, 1, 3, 9, 6, 3, 7, 2, 8, 1, 8, 0, 7, 9, 8, 5, 8, 2, 6,\n",
            "        4, 6, 6, 5, 8, 3, 8, 5]), tensor([8, 7, 3, 7, 6, 7, 0, 2, 2, 5, 3, 5, 1, 1, 7, 7, 6, 6, 6, 4, 2, 8, 6, 3,\n",
            "        1, 4, 9, 9, 4, 5, 2, 2]), tensor([7, 8, 6, 7, 9, 1, 2, 9, 4, 9, 3, 6, 3, 3, 1, 8, 8, 5, 3, 8, 6, 6, 6, 3,\n",
            "        2, 0, 2, 7, 3, 6, 8, 3]), tensor([9, 7, 3, 1, 7, 5, 8, 8, 6, 3, 0, 4, 4, 8, 5, 7, 0, 6, 2, 7, 7, 3, 9, 2,\n",
            "        5, 9, 7, 3, 7, 2, 4, 5]), tensor([1, 4, 7, 4, 5, 0, 2, 2, 1, 4, 4, 8, 4, 7, 9, 4, 1, 1, 7, 2, 3, 8, 6, 3,\n",
            "        9, 7, 5, 3, 8, 8, 8, 7]), tensor([1, 1, 6, 4, 1, 4, 3, 4, 9, 5, 6, 0, 6, 9, 4, 9, 6, 6, 4, 8, 9, 2, 9, 4,\n",
            "        8, 0, 7, 2, 3, 6, 4, 5]), tensor([6, 1, 9, 6, 2, 2, 5, 9, 0, 8, 3, 6, 6, 6, 0, 4, 2, 6, 6, 5, 0, 2, 7, 8,\n",
            "        7, 4, 3, 6, 0, 5, 2, 4]), tensor([2, 9, 5, 2, 6, 7, 0, 1, 9, 5, 5, 0, 7, 7, 5, 0, 5, 3, 3, 4, 7, 9, 8, 2,\n",
            "        4, 7, 3, 3, 7, 7, 7, 8]), tensor([4, 9, 8, 7, 6, 8, 8, 5, 1, 3, 0, 4, 9, 9, 8, 3, 7, 0, 4, 4, 9, 3, 3, 1,\n",
            "        8, 8, 1, 5, 7, 2, 8, 6]), tensor([5, 7, 6, 7, 5, 5, 4, 0, 7, 6, 3, 2, 6, 2, 9, 9, 0, 6, 6, 8, 3, 8, 6, 4,\n",
            "        4, 1, 8, 2, 4, 5, 0, 4]), tensor([4, 3, 0, 6, 1, 6, 8, 4, 9, 0, 7, 6, 7, 7, 1, 5, 8, 7, 2, 9, 9, 1, 2, 6,\n",
            "        1, 1, 1, 8, 8, 1, 4, 7]), tensor([5, 2, 0, 8, 4, 8, 9, 4, 1, 3, 1, 9, 8, 1, 3, 1, 8, 6, 9, 5, 7, 6, 0, 4,\n",
            "        4, 3, 1, 7, 9, 2, 2, 0]), tensor([3, 6, 4, 8, 1, 9, 2, 4, 2, 2, 3, 8, 7, 1, 8, 9, 5, 9, 9, 6, 6, 4, 9, 0,\n",
            "        4, 3, 5, 5, 0, 6, 1, 0]), tensor([3, 5, 7, 3, 7, 4, 5, 7, 9, 8, 9, 1, 4, 8, 3, 2, 3, 6, 6, 4, 3, 8, 3, 8,\n",
            "        6, 0, 8, 8, 4, 2, 9, 3]), tensor([2, 0, 8, 5, 9, 6, 3, 1, 1, 9, 5, 1, 3, 3, 6, 0, 8, 4, 1, 3, 8, 8, 6, 7,\n",
            "        5, 6, 6, 7, 3, 3, 2, 4]), tensor([6, 5, 5, 6, 2, 3, 9, 1, 1, 7, 3, 8, 7, 2, 2, 9, 3, 9, 9, 0, 1, 8, 1, 4,\n",
            "        8, 1, 6, 9, 3, 4, 0, 6]), tensor([5, 6, 9, 9, 5, 5, 7, 6, 9, 3, 3, 6, 9, 8, 4, 2, 6, 3, 9, 2, 3, 6, 7, 4,\n",
            "        0, 6, 8, 1, 8, 7, 4, 4]), tensor([5, 2, 2, 9, 1, 9, 4, 9, 1, 3, 2, 8, 2, 7, 7, 7, 7, 2, 6, 0, 7, 5, 8, 5,\n",
            "        3, 0, 2, 4, 9, 2, 4, 3]), tensor([1, 9, 3, 1, 2, 2, 2, 3, 7, 5, 7, 4, 4, 8, 1, 2, 8, 5, 4, 2, 8, 1, 5, 9,\n",
            "        3, 6, 6, 8, 0, 1, 8, 7]), tensor([4, 6, 7, 7, 6, 6, 4, 3, 4, 7, 8, 7, 2, 8, 0, 8, 7, 4, 4, 2, 7, 0, 9, 9,\n",
            "        3, 1, 5, 9, 3, 1, 6, 3]), tensor([3, 8, 9, 7, 9, 8, 3, 8, 9, 3, 7, 9, 3, 2, 0, 6, 5, 7, 7, 2, 4, 8, 3, 1,\n",
            "        1, 9, 4, 3, 9, 5, 8, 7]), tensor([2, 4, 9, 0, 2, 1, 9, 7, 1, 5, 0, 5, 5, 0, 3, 0, 0, 4, 3, 7, 4, 2, 6, 8,\n",
            "        5, 9, 2, 1, 3, 5, 5, 8]), tensor([5, 3, 7, 4, 4, 3, 9, 6, 0, 3, 9, 1, 4, 3, 1, 5, 3, 8, 5, 1, 1, 2, 9, 4,\n",
            "        0, 5, 2, 8, 6, 2, 9, 8]), tensor([2, 4, 8, 3, 8, 3, 4, 3, 6, 4, 8, 5, 2, 9, 3, 9, 5, 8, 0, 9, 1, 2, 7, 2,\n",
            "        1, 2, 3, 3, 4, 5, 2, 4]), tensor([8, 7, 5, 2, 6, 6, 8, 3, 6, 1, 9, 2, 7, 7, 2, 6, 2, 8, 3, 4, 8, 5, 6, 8,\n",
            "        3, 3, 1, 4, 2, 0, 4, 9]), tensor([6, 2, 1, 9, 9, 8, 1, 6, 8, 3, 3, 3, 6, 5, 9, 2, 4, 2, 7, 6, 3, 6, 4, 4,\n",
            "        5, 7, 5, 0, 7, 9, 1, 2]), tensor([4, 8, 9, 3, 5, 2, 6, 4, 6, 7, 8, 9, 1, 8, 2, 5, 5, 3, 1, 1, 8, 8, 3, 6,\n",
            "        7, 0, 1, 8, 2, 6, 2, 9]), tensor([8, 9, 8, 8, 6, 9, 1, 8, 2, 2, 7, 7, 0, 5, 1, 1, 0, 6, 4, 3, 0, 4, 3, 5,\n",
            "        1, 2, 3, 3, 4, 2, 5, 6]), tensor([9, 8, 3, 3, 1, 0, 2, 1, 2, 4, 2, 8, 2, 9, 0, 2, 7, 5, 3, 6, 0, 7, 3, 3,\n",
            "        9, 7, 3, 2, 1, 9, 4, 1]), tensor([0, 4, 5, 4, 1, 2, 8, 5, 7, 4, 5, 3, 3, 8, 3, 6, 6, 8, 9, 0, 7, 3, 2, 6,\n",
            "        7, 3, 2, 2, 8, 7, 7, 2]), tensor([3, 1, 6, 3, 6, 2, 7, 4, 1, 2, 6, 4, 3, 4, 8, 5, 6, 8, 5, 2, 7, 8, 1, 5,\n",
            "        9, 8, 6, 9, 0, 9, 3, 7]), tensor([5, 7, 9, 6, 0, 7, 1, 5, 5, 9, 5, 4, 4, 2, 4, 5, 9, 7, 8, 2, 6, 9, 9, 3,\n",
            "        2, 1, 3, 7, 1, 8, 7, 9]), tensor([1, 8, 9, 3, 7, 7, 7, 1, 7, 4, 4, 2, 2, 4, 5, 2, 8, 9, 6, 8, 0, 0, 7, 7,\n",
            "        5, 0, 1, 9, 3, 6, 4, 9]), tensor([2, 2, 6, 9, 1, 0, 5, 8, 9, 2, 8, 2, 3, 6, 0, 7, 4, 8, 7, 4, 1, 7, 8, 0,\n",
            "        4, 6, 4, 4, 1, 0, 6, 9]), tensor([2, 9, 6, 5, 2, 3, 3, 8, 8, 2, 0, 7, 2, 4, 0, 4, 1, 3, 8, 1, 7, 7, 2, 6,\n",
            "        3, 1, 2, 7, 2, 6, 6, 6]), tensor([4, 7, 2, 2, 3, 2, 3, 0, 9, 7, 3, 5, 4, 9, 6, 4, 5, 0, 6, 8, 4, 0, 4, 4,\n",
            "        6, 6, 1, 6, 4, 6, 7, 1]), tensor([0, 4, 4, 1, 1, 5, 6, 3, 8, 3, 4, 1, 7, 2, 9, 8, 8, 4, 5, 5, 6, 7, 2, 9,\n",
            "        1, 0, 5, 3, 7, 2, 1, 1]), tensor([8, 6, 2, 0, 5, 9, 6, 3, 8, 1, 6, 4, 6, 4, 2, 8, 3, 4, 2, 3, 9, 2, 7, 9,\n",
            "        5, 7, 6, 1, 5, 8, 8, 2]), tensor([2, 2, 2, 3, 1, 6, 4, 0, 3, 9, 8, 4, 0, 3, 4, 3, 9, 7, 1, 1, 7, 5, 1, 9,\n",
            "        2, 4, 2, 3, 8, 6, 7, 1]), tensor([3, 0, 7, 3, 5, 8, 1, 4, 2, 3, 4, 8, 8, 8, 4, 6, 1, 8, 9, 3, 0, 6, 6, 2,\n",
            "        9, 7, 3, 7, 0, 1, 4, 5]), tensor([9, 4, 0, 5, 0, 5, 8, 7, 4, 6, 2, 8, 6, 0, 9, 3, 3, 5, 4, 1, 1, 2, 6, 6,\n",
            "        6, 7, 6, 2, 3, 3, 9, 7]), tensor([4, 3, 3, 1, 8, 1, 5, 4, 0, 6, 7, 9, 3, 2, 7, 3, 7, 4, 1, 6, 2, 8, 2, 7,\n",
            "        6, 4, 9, 3, 2, 5, 2, 8]), tensor([6, 2, 6, 7, 2, 4, 1, 1, 0, 3, 5, 5, 2, 6, 4, 1, 8, 8, 3, 4, 4, 4, 2, 9,\n",
            "        2, 1, 9, 6, 2, 6, 6, 4]), tensor([5, 4, 9, 8, 1, 6, 3, 6, 2, 9, 4, 3, 5, 1, 4, 6, 0, 1, 1, 0, 2, 6, 5, 7,\n",
            "        0, 1, 2, 4, 3, 7, 2, 1]), tensor([1, 7, 7, 8, 7, 6, 5, 3, 7, 2, 0, 9, 6, 1, 4, 2, 2, 5, 8, 5, 2, 7, 8, 4,\n",
            "        6, 9, 0, 8, 1, 3, 8, 2]), tensor([8, 2, 0, 2, 3, 8, 7, 8, 2, 2, 6, 6, 6, 4, 5, 4, 4, 3, 1, 9, 7, 3, 6, 6,\n",
            "        1, 4, 2, 7, 7, 1, 8, 3]), tensor([3, 7, 9, 8, 7, 2, 7, 9, 7, 2, 2, 6, 6, 3, 3, 9, 1, 1, 4, 8, 0, 9, 5, 5,\n",
            "        4, 8, 6, 3, 6, 3, 2, 4]), tensor([2, 2, 9, 9, 2, 4, 8, 4, 2, 2, 3, 3, 2, 1, 3, 0, 1, 8, 4, 1, 5, 4, 1, 5,\n",
            "        8, 6, 7, 7, 7, 5, 6, 9]), tensor([5, 3, 6, 7, 8, 4, 5, 1, 6, 2, 2, 4, 3, 7, 7, 9, 9, 2, 5, 8, 5, 8, 5, 3,\n",
            "        0, 9, 7, 2, 0, 6, 8, 1]), tensor([6, 5, 4, 7, 6, 5, 4, 9, 0, 6, 4, 0, 2, 9, 8, 1, 3, 8, 1, 5, 3, 6, 1, 1,\n",
            "        6, 6, 9, 8, 4, 8, 2, 7]), tensor([7, 1, 3, 6, 3, 0, 5, 8, 7, 6, 5, 2, 6, 7, 5, 5, 8, 9, 7, 3, 2, 4, 8, 3,\n",
            "        9, 5, 7, 6, 2, 6, 7, 3]), tensor([8, 5, 1, 8, 9, 2, 2, 1, 3, 2, 7, 4, 0, 4, 4, 2, 5, 7, 9, 2, 2, 8, 2, 6,\n",
            "        0, 6, 3, 3, 1, 5, 2, 7]), tensor([5, 3, 7, 6, 2, 3, 5, 1, 1, 2, 7, 3, 8, 8, 7, 5, 6, 9, 5, 5, 4, 0, 7, 1,\n",
            "        4, 6, 0, 9, 9, 6, 6, 8]), tensor([6, 5, 7, 8, 2, 2, 9, 6, 6, 4, 8, 1, 6, 4, 2, 0, 7, 5, 8, 9, 9, 7, 5, 6,\n",
            "        7, 6, 3, 2, 6, 3, 4, 2]), tensor([0, 8, 9, 4, 5, 4, 4, 1, 2, 8, 9, 0, 5, 3, 2, 5, 6, 3, 8, 6, 8, 7, 2, 7,\n",
            "        2, 3, 4, 5, 1, 2, 3, 4]), tensor([2, 4, 3, 9, 9, 6, 8, 0, 4, 0, 6, 1, 9, 3, 9, 6, 8, 6, 9, 4, 7, 9, 1, 5,\n",
            "        8, 1, 3, 6, 2, 4, 8, 6]), tensor([3, 3, 0, 0, 4, 3, 3, 1, 4, 8, 4, 9, 3, 0, 6, 5, 8, 8, 8, 6, 1, 4, 8, 9,\n",
            "        8, 5, 8, 7, 6, 7, 2, 7]), tensor([1, 5, 5, 8, 3, 4, 8, 5, 9, 9, 4, 0, 4, 7, 1, 8, 8, 8, 7, 2, 0, 9, 7, 9,\n",
            "        6, 9, 4, 1, 4, 7, 2, 5]), tensor([2, 6, 2, 9, 0, 7, 1, 9, 7, 2, 5, 3, 8, 4, 9, 3, 7, 5, 7, 5, 1, 3, 3, 6,\n",
            "        0, 7, 5, 3, 5, 5, 8, 7]), tensor([9, 4, 6, 5, 5, 3, 4, 8, 3, 0, 9, 2, 3, 2, 2, 9, 4, 6, 9, 1, 3, 8, 1, 4,\n",
            "        9, 8, 2, 6, 7, 2, 0, 2]), tensor([2, 3, 6, 3, 0, 5, 2, 3, 2, 2, 5, 0, 7, 4, 6, 4, 8, 3, 5, 1, 3, 9, 1, 2,\n",
            "        9, 3, 7, 4, 2, 0, 2, 5]), tensor([6, 3, 6, 6, 5, 1, 7, 9, 4, 6, 7, 4, 0, 2, 8, 1, 0, 9, 9, 7, 8, 4, 6, 9,\n",
            "        7, 7, 5, 8, 6, 7, 5, 3]), tensor([5, 5, 3, 8, 9, 7, 2, 1, 4, 7, 1, 3, 6, 3, 2, 2, 9, 4, 7, 7, 6, 5, 0, 8,\n",
            "        8, 2, 8, 5, 6, 3, 7, 3]), tensor([6, 6, 4, 5, 2, 0, 7, 7, 7, 1, 8, 2, 1, 8, 5, 4, 4, 8, 7, 7, 6, 7, 1, 6,\n",
            "        9, 5, 3, 9, 3, 8, 0, 7]), tensor([4, 2, 6, 1, 2, 5, 9, 3, 2, 8, 5, 7, 3, 1, 4, 0, 8, 1, 8, 5, 6, 9, 3, 3,\n",
            "        6, 6, 4, 2, 0, 6, 4, 2]), tensor([3, 4, 5, 9, 1, 1, 9, 4, 7, 0, 3, 1, 6, 0, 7, 7, 0, 7, 8, 0, 5, 6, 4, 3,\n",
            "        8, 9, 7, 2, 9, 5, 3, 7]), tensor([2, 4, 1, 9, 7, 8, 1, 3, 9, 3, 6, 7, 8, 6, 5, 6, 7, 9, 9, 7, 0, 4, 2, 3,\n",
            "        4, 6, 7, 5, 3, 9, 2, 8]), tensor([8, 6, 0, 4, 1, 9, 3, 3, 5, 1, 5, 5, 9, 2, 8, 5, 5, 9, 5, 6, 0, 7, 3, 5,\n",
            "        4, 2, 0, 9, 6, 8, 1, 9]), tensor([2, 6, 2, 4, 6, 8, 7, 7, 3, 9, 3, 9, 6, 8, 2, 6, 9, 0, 3, 2, 5, 5, 6, 4,\n",
            "        6, 4, 1, 3, 1, 2, 7, 8]), tensor([8, 9, 7, 6, 5, 9, 3, 6, 0, 4, 6, 3, 6, 8, 8, 8, 0, 2, 3, 2, 8, 2, 1, 4,\n",
            "        1, 1, 6, 3, 2, 2, 8, 0]), tensor([0, 4, 1, 3, 2, 5, 0, 6, 7, 9, 9, 2, 5, 3, 9, 9, 8, 4, 8, 3, 2, 0, 9, 6,\n",
            "        2, 4, 3, 8, 3, 6, 6, 5]), tensor([6, 2, 7, 3, 7, 8, 8, 2, 4, 8, 8, 0, 1, 5, 8, 9, 8, 7, 2, 0, 3, 0, 3, 0,\n",
            "        7, 3, 9, 9, 1, 5, 9, 4]), tensor([1, 7, 6, 1, 0, 5, 3, 8, 2, 4, 1, 7, 0, 5, 0, 4, 1, 7, 1, 7, 9, 4, 3, 9,\n",
            "        2, 2, 9, 3, 7, 2, 8, 4]), tensor([4, 7, 7, 4, 2, 0, 5, 5, 3, 6, 2, 5, 6, 8, 5, 6, 9, 1, 3, 1, 4, 5, 9, 3,\n",
            "        7, 0, 3, 5, 6, 1, 5, 8]), tensor([5, 6, 6, 9, 1, 9, 1, 7, 1, 8, 2, 3, 4, 0, 2, 0, 3, 3, 4, 8, 0, 3, 4, 8,\n",
            "        1, 1, 3, 3, 2, 2, 1, 8]), tensor([3, 2, 6, 6, 4, 2, 3, 9, 2, 3, 0, 4, 5, 7, 1, 6, 1, 2, 0, 0, 8, 5, 1, 6,\n",
            "        5, 2, 8, 1, 7, 1, 6, 4]), tensor([7, 4, 6, 1, 5, 3, 3, 5, 8, 7, 7, 7, 2, 7, 5, 4, 4, 2, 0, 6, 4, 9, 9, 5,\n",
            "        8, 0, 4, 4, 1, 3, 7, 3]), tensor([6, 0, 9, 8, 5, 3, 6, 7, 1, 9, 7, 8, 2, 6, 9, 9, 1, 2, 2, 3, 2, 4, 5, 1,\n",
            "        6, 4, 8, 3, 4, 8, 3, 4]), tensor([0, 0, 3, 6, 7, 4, 4, 1, 7, 3, 6, 7, 9, 9, 1, 8, 8, 9, 1, 4, 6, 1, 2, 8,\n",
            "        2, 5, 9, 8, 0, 6, 2, 7]), tensor([2, 9, 5, 6, 8, 7, 8, 1, 4, 9, 2, 5, 5, 9, 9, 4, 4, 2, 1, 6, 3, 8, 7, 6,\n",
            "        1, 7, 5, 2, 7, 0, 3, 4]), tensor([4, 8, 4, 0, 2, 7, 3, 7, 3, 6, 3, 8, 3, 3, 2, 3, 2, 3, 5, 8, 0, 7, 0, 8,\n",
            "        9, 0, 2, 1, 2, 5, 1, 3]), tensor([4, 7, 6, 4, 9, 9, 1, 4, 3, 1, 6, 8, 0, 3, 0, 4, 2, 0, 2, 3, 6, 7, 2, 3,\n",
            "        4, 0, 8, 5, 4, 0, 1, 0]), tensor([2, 2, 6, 7, 9, 6, 2, 4, 3, 6, 8, 7, 4, 4, 0, 3, 3, 5, 2, 5, 1, 5, 5, 1,\n",
            "        7, 5, 2, 1, 8, 8, 0, 9]), tensor([0, 0, 0, 3, 2, 1, 8, 3, 4, 2, 1, 2, 0, 3, 0, 8, 5, 1, 7, 0, 2, 6, 3, 9,\n",
            "        8, 2, 8, 1, 0, 2, 6, 2]), tensor([3, 3, 7, 5, 0, 6, 2, 0, 8, 4, 4, 1, 8, 6, 8, 2, 9, 2, 4, 8, 5, 2, 7, 3,\n",
            "        2, 2, 6, 6, 4, 8, 5, 4]), tensor([1, 5, 2, 8, 2, 9, 3, 6, 3, 6, 4, 2, 7, 7, 9, 3, 2, 9, 8, 3, 5, 8, 7, 7,\n",
            "        0, 7, 7, 0, 7, 7, 2, 9]), tensor([5, 4, 2, 2, 4, 8, 0, 1, 9, 8, 6, 2, 2, 4, 3, 8, 0, 7, 6, 4, 3, 8, 1, 3,\n",
            "        8, 7, 3, 6, 3, 4, 8, 8]), tensor([9, 1, 3, 2, 1, 4, 8, 3, 4, 6, 7, 3, 9, 2, 9, 0, 4, 6, 5, 7, 0, 8, 1, 7,\n",
            "        5, 4, 9, 5, 7, 3, 2, 6]), tensor([9, 8, 7, 3, 7, 7, 4, 7, 5, 8, 8, 2, 4, 6, 2, 3, 8, 9, 7, 1, 3, 4, 2, 9,\n",
            "        7, 1, 2, 2, 6, 0, 5, 5]), tensor([4, 5, 2, 0, 9, 2, 9, 9, 0, 4, 0, 1, 5, 5, 5, 6, 8, 1, 5, 7, 7, 7, 9, 0,\n",
            "        0, 1, 1, 4, 6, 0, 9, 3]), tensor([4, 4, 4, 8, 2, 5, 4, 9, 0, 2, 8, 4, 8, 6, 3, 6, 1, 4, 3, 3, 8, 2, 9, 9,\n",
            "        0, 7, 9, 5, 3, 1, 7, 2]), tensor([8, 4, 7, 3, 1, 6, 0, 7, 8, 1, 7, 3, 2, 8, 3, 8, 4, 2, 5, 6, 7, 6, 1, 2,\n",
            "        6, 7, 9, 0, 1, 3, 7, 5]), tensor([1, 2, 1, 1, 4, 8, 3, 9, 5, 4, 6, 3, 7, 7, 7, 2, 3, 9, 1, 9, 2, 6, 0, 5,\n",
            "        6, 6, 7, 5, 6, 3, 4, 9]), tensor([6, 4, 6, 2, 7, 9, 6, 1, 1, 2, 0, 8, 8, 7, 3, 6, 7, 5, 7, 6, 1, 8, 1, 4,\n",
            "        9, 8, 9, 3, 1, 0, 3, 3]), tensor([3, 0, 6, 4, 1, 9, 7, 1, 2, 2, 5, 3, 4, 1, 7, 6, 7, 6, 2, 8, 8, 1, 4, 9,\n",
            "        7, 6, 6, 4, 9, 3, 9, 8]), tensor([5, 3, 8, 4, 7, 1, 4, 1, 9, 6, 8, 3, 2, 4, 8, 1, 1, 5, 8, 6, 1, 6, 2, 9,\n",
            "        0, 9, 5, 3, 5, 0, 6, 5]), tensor([6, 8, 3, 8, 0, 2, 9, 9, 1, 5, 3, 2, 6, 5, 3, 6, 3, 6, 7, 4, 0, 4, 1, 9,\n",
            "        5, 1, 7, 5, 5, 5, 9, 4]), tensor([8, 2, 6, 6, 4, 6, 2, 1, 1, 4, 6, 8, 4, 9, 0, 5, 8, 1, 3, 8, 3, 2, 4, 8,\n",
            "        3, 2, 9, 3, 4, 9, 7, 2]), tensor([2, 6, 6, 8, 9, 6, 6, 4, 7, 7, 9, 7, 3, 6, 9, 6, 7, 3, 0, 2, 0, 9, 2, 3,\n",
            "        3, 1, 9, 5, 8, 2, 3, 5]), tensor([0, 6, 4, 5, 2, 3, 5, 2, 7, 7, 6, 6, 9, 7, 1, 2, 4, 5, 3, 0, 6, 1, 4, 0,\n",
            "        5, 4, 8, 5, 7, 3, 0, 8]), tensor([3, 5, 2, 4, 9, 8, 9, 9, 2, 1, 7, 5, 0, 1, 5, 3, 3, 3, 3, 4, 2, 3, 6, 7,\n",
            "        8, 0, 9, 3, 3, 0, 4, 2]), tensor([9, 3, 5, 7, 3, 9, 8, 6, 6, 2, 2, 3, 1, 0, 7, 5, 6, 6, 4, 1, 1, 4, 7, 2,\n",
            "        3, 5, 5, 0, 4, 4, 3, 8]), tensor([9, 9, 2, 6, 9, 6, 3, 5, 3, 1, 4, 5, 0, 1, 8, 5, 8, 4, 6, 7, 8, 9, 2, 4,\n",
            "        6, 4, 2, 6, 4, 5, 9, 1]), tensor([9, 7, 4, 5, 6, 3, 2, 2, 1, 6, 1, 5, 8, 6, 4, 2, 9, 4, 7, 8, 3, 0, 2, 7,\n",
            "        7, 5, 9, 7, 7, 3, 8, 7]), tensor([5, 9, 7, 8, 2, 1, 3, 8, 6, 2, 6, 7, 9, 2, 4, 5, 2, 3, 4, 1, 1, 7, 0, 5,\n",
            "        5, 4, 7, 8, 9, 3, 5, 4]), tensor([6, 6, 5, 5, 8, 4, 8, 8, 7, 4, 5, 4, 9, 6, 9, 7, 3, 9, 7, 3, 6, 6, 2, 8,\n",
            "        7, 9, 2, 0, 2, 4, 1, 0]), tensor([3, 8, 6, 8, 4, 4, 2, 3, 5, 7, 7, 8, 5, 6, 3, 2, 1, 8, 3, 2, 7, 4, 2, 3,\n",
            "        0, 8, 3, 3, 4, 9, 0, 9]), tensor([7, 0, 1, 6, 3, 6, 3, 8, 6, 8, 5, 1, 3, 4, 1, 9, 3, 7, 0, 4, 2, 3, 1, 5,\n",
            "        3, 4, 8, 5, 7, 6, 6, 4]), tensor([1, 0, 6, 2, 5, 9, 6, 7, 2, 3, 6, 4, 6, 3, 3, 9, 4, 7, 0, 8, 6, 5, 6, 2,\n",
            "        0, 1, 3, 9, 4, 2, 5, 6]), tensor([5, 3, 2, 5, 6, 0, 6, 0, 6, 9, 1, 3, 3, 2, 5, 8, 6, 6, 1, 4, 9, 7, 2, 4,\n",
            "        7, 5, 7, 1, 4, 8, 7, 9]), tensor([1, 7, 0, 2, 9, 2, 5, 6, 7, 6, 4, 5, 2, 7, 4, 1, 4, 5, 9, 1, 5, 7, 7, 3,\n",
            "        8, 1, 9, 4, 1, 3, 0, 7]), tensor([6, 9, 5, 1, 3, 6, 9, 3, 4, 2, 5, 3, 4, 9, 9, 1, 2, 2, 2, 4, 3, 8, 7, 9,\n",
            "        9, 4, 8, 8, 9, 0, 7, 6]), tensor([4, 3, 8, 2, 4, 2, 0, 1, 2, 0, 2, 1, 5, 4, 6, 3, 0, 3, 4, 5, 6, 3, 7, 6,\n",
            "        0, 3, 1, 8, 4, 8, 9, 9]), tensor([5, 5, 8, 2, 5, 4, 4, 2, 5, 6, 9, 2, 7, 1, 0, 3, 4, 6, 7, 8, 3, 4, 9, 1,\n",
            "        9, 2, 7, 3, 5, 4, 3, 4]), tensor([2, 1, 6, 2, 4, 3, 7, 8, 4, 9, 5, 9, 0, 4, 3, 4, 5, 5, 5, 7, 6, 1, 3, 3,\n",
            "        7, 0, 9, 7, 6, 8, 3, 5]), tensor([5, 8, 1, 9, 4, 2, 2, 2, 3, 6, 3, 3, 2, 5, 0, 6, 1, 1, 7, 8, 2, 5, 9, 0,\n",
            "        8, 3, 4, 4, 2, 7, 0, 7]), tensor([3, 3, 2, 3, 7, 1, 2, 2, 3, 4, 0, 6, 2, 4, 8, 5, 0, 3, 6, 4, 7, 3, 3, 6,\n",
            "        0, 2, 4, 4, 1, 8, 1, 9]), tensor([3, 2, 2, 4, 2, 3, 3, 3, 5, 3, 5, 8, 3, 9, 7, 3, 0, 6, 1, 6, 1, 0, 7, 7,\n",
            "        2, 8, 9, 6, 1, 5, 6, 9]), tensor([4, 7, 9, 9, 9, 6, 1, 0, 9, 9, 5, 1, 7, 2, 9, 3, 2, 6, 8, 1, 7, 4, 3, 8,\n",
            "        4, 7, 8, 8, 9, 8, 8, 4]), tensor([5, 6, 4, 5, 9, 1, 0, 5, 4, 1, 7, 4, 4, 7, 1, 5, 8, 3, 7, 2, 7, 1, 8, 8,\n",
            "        8, 7, 8, 6, 0, 5, 7, 9]), tensor([8, 5, 6, 0, 6, 2, 6, 2, 8, 9, 9, 1, 9, 5, 8, 4, 4, 2, 4, 2, 7, 2, 8, 3,\n",
            "        0, 7, 8, 8, 3, 9, 9, 5]), tensor([9, 2, 6, 9, 7, 8, 7, 4, 7, 9, 2, 3, 9, 5, 3, 5, 3, 1, 2, 9, 1, 4, 8, 5,\n",
            "        1, 7, 9, 0, 3, 3, 6, 9]), tensor([3, 4, 3, 0, 0, 2, 9, 7, 1, 9, 6, 5, 6, 8, 5, 9, 5, 2, 4, 2, 5, 2, 2, 5,\n",
            "        4, 2, 7, 1, 6, 6, 3, 4]), tensor([5, 6, 4, 6, 7, 8, 5, 1, 8, 2, 3, 4, 2, 4, 1, 9, 0, 7, 2, 7, 3, 2, 9, 7,\n",
            "        4, 4, 6, 1, 7, 1, 4, 7]), tensor([6, 1, 7, 3, 0, 3, 6, 6, 8, 0, 4, 1, 7, 9, 6, 2, 9, 2, 6, 7, 1, 7, 5, 2,\n",
            "        9, 8, 4, 4, 0, 3, 3, 2]), tensor([2, 8, 3, 6, 8, 1, 8, 1, 0, 1, 4, 7, 3, 7, 7, 3, 3, 9, 9, 0, 2, 2, 5, 8,\n",
            "        9, 6, 3, 5, 4, 1, 6, 9]), tensor([4, 3, 2, 6, 1, 8, 1, 3, 4, 0, 2, 1, 9, 0, 5, 3, 5, 3, 6, 4, 1, 2, 0, 7,\n",
            "        3, 6, 4, 3, 4, 4, 5, 2]), tensor([9, 6, 8, 0, 4, 6, 0, 1, 7, 8, 2, 3, 3, 2, 0, 3, 8, 2, 6, 2, 5, 1, 4, 2,\n",
            "        2, 1, 9, 3, 2, 6, 9, 7]), tensor([8, 0, 6, 3, 4, 6, 8, 1, 2, 3, 3, 1, 9, 5, 3, 2, 6, 7, 1, 9, 2, 9, 0, 4,\n",
            "        2, 4, 8, 6, 9, 4, 7, 0]), tensor([3, 2, 3, 8, 3, 4, 1, 2, 6, 0, 6, 7, 7, 8, 3, 2, 9, 5, 4, 6, 9, 5, 2, 3,\n",
            "        8, 5, 3, 8, 3, 7, 9, 0]), tensor([2, 5, 1, 0, 5, 6, 3, 9, 7, 9, 6, 6, 7, 1, 2, 0, 8, 6, 2, 2, 7, 8, 6, 6,\n",
            "        4, 6, 9, 7, 3, 2, 5, 4]), tensor([5, 1, 9, 5, 0, 5, 6, 4, 1, 7, 9, 3, 3, 3, 4, 9, 1, 3, 3, 9, 5, 6, 8, 2,\n",
            "        4, 1, 4, 0, 6, 7, 8, 0]), tensor([6, 0, 2, 0, 0, 9, 8, 1, 3, 7, 6, 7, 9, 7, 4, 2, 3, 6, 8, 7, 5, 5, 1, 8,\n",
            "        8, 5, 7, 9, 7, 3, 4, 4]), tensor([2, 8, 9, 4, 6, 7, 5, 4, 7, 6, 1, 4, 2, 2, 0, 9, 6, 3, 5, 1, 1, 7, 8, 3,\n",
            "        2, 6, 2, 0, 6, 4, 5, 5]), tensor([2, 4, 2, 4, 6, 1, 5, 2, 7, 8, 6, 7, 7, 0, 8, 4, 0, 6, 9, 1, 2, 1, 7, 4,\n",
            "        3, 4, 9, 9, 2, 6, 4, 3]), tensor([3, 3, 7, 5, 2, 7, 8, 9, 9, 2, 7, 2, 7, 7, 5, 4, 7, 4, 6, 9, 0, 1, 8, 7,\n",
            "        5, 4, 5, 3, 7, 4, 6, 5]), tensor([5, 6, 7, 9, 0, 9, 5, 9, 4, 4, 1, 7, 8, 3, 5, 1, 0, 6, 5, 0, 2, 3, 7, 1,\n",
            "        1, 1, 0, 7, 7, 4, 3, 4]), tensor([7, 0, 0, 5, 1, 4, 8, 1, 5, 4, 7, 3, 2, 3, 4, 7, 8, 6, 7, 6, 9, 5, 8, 6,\n",
            "        7, 3, 5, 0, 9, 7, 1, 0]), tensor([6, 5, 7, 8, 4, 3, 1, 9, 0, 2, 9, 1, 3, 4, 4, 3, 3, 6, 2, 3, 8, 6, 4, 9,\n",
            "        5, 0, 1, 8, 2, 2, 3, 4]), tensor([2, 9, 4, 3, 7, 9, 6, 3, 5, 4, 8, 9, 8, 8, 3, 0, 1, 2, 2, 4, 1, 9, 6, 4,\n",
            "        6, 5, 5, 4, 6, 2, 6, 1]), tensor([4, 9, 9, 7, 6, 1, 2, 6, 0, 2, 6, 2, 5, 9, 4, 8, 4, 6, 1, 5, 9, 2, 1, 8,\n",
            "        9, 3, 1, 7, 1, 1, 1, 9]), tensor([1, 3, 6, 9, 9, 1, 9, 6, 0, 5, 8, 5, 5, 5, 3, 8, 9, 4, 7, 6, 4, 9, 2, 6,\n",
            "        1, 5, 0, 7, 3, 6, 0, 7]), tensor([1, 1, 8, 2, 8, 9, 2, 0, 8, 2, 0, 0, 5, 1, 6, 8, 2, 3, 7, 6, 3, 9, 7, 6,\n",
            "        1, 3, 9, 2, 4, 0, 3, 7]), tensor([8, 1, 1, 9, 5, 3, 5, 4, 6, 6, 1, 8, 2, 8, 6, 2, 5, 9, 9, 4, 3, 4, 1, 7,\n",
            "        9, 0, 8, 7, 3, 3, 8, 4]), tensor([1, 8, 2, 7, 4, 6, 8, 9, 2, 9, 3, 2, 6, 1, 1, 0, 4, 1, 6, 7, 6, 5, 9, 1,\n",
            "        5, 0, 9, 4, 2, 1, 7, 2]), tensor([9, 8, 8, 9, 5, 5, 3, 8, 2, 0, 3, 6, 1, 1, 9, 0, 9, 7, 5, 3, 2, 9, 5, 5,\n",
            "        4, 6, 9, 9, 3, 0, 6, 4]), tensor([1, 7, 4, 7, 2, 8, 5, 8, 6, 0, 1, 3, 2, 2, 3, 6, 6, 6, 2, 8, 3, 2, 8, 6,\n",
            "        1, 8, 4, 5, 4, 2, 3, 9]), tensor([6, 4, 3, 4, 5, 4, 2, 7, 3, 7, 3, 3, 6, 9, 4, 8, 5, 6, 0, 3, 6, 7, 2, 5,\n",
            "        3, 1, 1, 9, 9, 5, 4, 2]), tensor([1, 6, 4, 8, 9, 2, 5, 5, 8, 3, 0, 9, 6, 8, 6, 3, 2, 4, 7, 2, 8, 6, 6, 2,\n",
            "        6, 4, 1, 3, 7, 2, 6, 2]), tensor([2, 3, 2, 4, 0, 8, 4, 5, 1, 4, 3, 8, 2, 1, 2, 1, 1, 9, 6, 5, 9, 6, 8, 0,\n",
            "        3, 4, 3, 8, 4, 7, 5, 4]), tensor([1, 1, 2, 6, 8, 8, 0, 1, 6, 5, 2, 8, 9, 7, 9, 1, 1, 3, 3, 8, 6, 7, 2, 9,\n",
            "        4, 9, 3, 3, 6, 2, 8, 8]), tensor([2, 5, 9, 8, 3, 8, 1, 3, 3, 4, 5, 2, 5, 4, 4, 9, 2, 7, 1, 4, 2, 3, 7, 7,\n",
            "        6, 7, 9, 2, 7, 7, 0, 1]), tensor([6, 1, 2, 8, 2, 4, 7, 2, 7, 1, 8, 7, 5, 1, 3, 1, 0, 3, 6, 5, 3, 8, 6, 3,\n",
            "        4, 9, 3, 1, 5, 3, 0, 7]), tensor([0, 6, 4, 5, 1, 6, 6, 2, 8, 3, 9, 8, 6, 7, 2, 4, 2, 5, 1, 9, 4, 3, 8, 7,\n",
            "        1, 8, 1, 2, 0, 9, 2, 4]), tensor([3, 4, 6, 1, 3, 5, 2, 9, 7, 5, 3, 9, 9, 5, 6, 4, 8, 0, 7, 6, 8, 6, 2, 1,\n",
            "        9, 7, 7, 3, 8, 0, 3, 6]), tensor([9, 8, 5, 6, 4, 8, 1, 5, 5, 9, 0, 1, 6, 1, 3, 4, 4, 2, 2, 1, 7, 4, 2, 2,\n",
            "        6, 1, 8, 2, 2, 6, 3, 0]), tensor([8, 8, 4, 6, 2, 0, 7, 0, 8, 9, 1, 4, 6, 7, 6, 8, 1, 8, 2, 6, 6, 7, 5, 7,\n",
            "        9, 9, 3, 9, 4, 4, 2, 6]), tensor([1, 4, 8, 4, 4, 5, 2, 2, 2, 9, 1, 8, 0, 6, 2, 2, 0, 3, 6, 6, 1, 3, 6, 3,\n",
            "        4, 1, 5, 8, 1, 0, 7, 2]), tensor([5, 0, 3, 2, 8, 9, 8, 7, 8, 4, 5, 9, 5, 5, 1, 2, 4, 7, 2, 9, 7, 8, 6, 7,\n",
            "        4, 6, 3, 8, 8, 4, 5, 1]), tensor([8, 2, 4, 2, 2, 7, 8, 9, 0, 2, 7, 9, 1, 5, 7, 8, 4, 3, 9, 5, 9, 1, 0, 8,\n",
            "        6, 1, 6, 1, 5, 8, 6, 0]), tensor([1, 8, 2, 9, 0, 6, 7, 6, 6, 2, 7, 4, 8, 8, 2, 6, 3, 6, 7, 1, 4, 7, 4, 6,\n",
            "        7, 1, 6, 5, 2, 6, 7, 9]), tensor([6, 6, 8, 2, 1, 1, 8, 8, 3, 5, 7, 5, 6, 9, 4, 3, 7, 3, 8, 9, 0, 2, 2, 4,\n",
            "        5, 7, 0, 2, 3, 9, 5, 7]), tensor([2, 6, 5, 8, 3, 1, 3, 7, 4, 9, 4, 3, 9, 7, 2, 0, 8, 6, 9, 1, 9, 9, 6, 7,\n",
            "        1, 4, 7, 0, 3, 8, 7, 2]), tensor([8, 5, 9, 4, 2, 0, 6, 9, 6, 5, 6, 1, 3, 7, 9, 1, 8, 9, 4, 0, 9, 7, 4, 8,\n",
            "        2, 1, 2, 7, 5, 4, 6, 8]), tensor([3, 4, 7, 2, 4, 6, 8, 5, 7, 9, 5, 7, 4, 2, 3, 9, 3, 4, 1, 5, 2, 9, 7, 4,\n",
            "        0, 2, 5, 8, 0, 7, 7, 2]), tensor([2, 6, 4, 8, 4, 0, 6, 9, 8, 9, 6, 5, 0, 6, 0, 2, 6, 3, 1, 8, 7, 4, 1, 9,\n",
            "        1, 2, 6, 5, 2, 3, 2, 0]), tensor([2, 6, 0, 7, 2, 1, 8, 2, 8, 7, 9, 2, 1, 4, 5, 7, 7, 4, 2, 5, 9, 4, 6, 7,\n",
            "        3, 2, 0, 9, 6, 7, 3, 9]), tensor([1, 2, 1, 9, 7, 2, 3, 4, 8, 1, 8, 3, 5, 0, 5, 3, 8, 2, 7, 2, 9, 0, 6, 8,\n",
            "        4, 2, 4, 4, 4, 3, 7, 8]), tensor([7, 1, 3, 7, 8, 9, 5, 5, 2, 4, 4, 5, 0, 8, 6, 3, 4, 6, 8, 8, 9, 6, 9, 1,\n",
            "        5, 1, 2, 1, 3, 2, 2, 2]), tensor([4, 5, 7, 5, 9, 2, 0, 5, 7, 0, 5, 6, 5, 3, 3, 4, 3, 7, 1, 8, 2, 9, 8, 1,\n",
            "        7, 3, 4, 4, 3, 7, 1, 8]), tensor([5, 7, 8, 5, 5, 1, 8, 3, 7, 7, 7, 6, 5, 2, 2, 1, 2, 3, 4, 1, 0, 3, 9, 1,\n",
            "        8, 2, 3, 7, 4, 9, 5, 9]), tensor([4, 3, 9, 8, 6, 8, 2, 7, 3, 9, 3, 0, 8, 9, 0, 9, 4, 6, 4, 5, 7, 1, 4, 8,\n",
            "        2, 0, 2, 3, 1, 1, 1, 7]), tensor([6, 2, 6, 5, 9, 8, 9, 5, 3, 4, 7, 9, 2, 0, 1, 1, 1, 4, 8, 6, 8, 0, 9, 5,\n",
            "        6, 7, 6, 8, 2, 4, 6, 2]), tensor([6, 2, 5, 7, 2, 9, 7, 6, 2, 2, 0, 7, 4, 5, 6, 3, 3, 1, 9, 8, 1, 8, 6, 6,\n",
            "        3, 9, 1, 9, 7, 6, 9, 6]), tensor([9, 3, 0, 2, 2, 3, 4, 6, 6, 9, 2, 1, 1, 0, 5, 6, 7, 0, 4, 1, 1, 7, 0, 6,\n",
            "        1, 9, 8, 7, 3, 5, 2, 8]), tensor([2, 6, 4, 6, 4, 6, 2, 3, 5, 9, 5, 8, 9, 3, 1, 7, 8, 9, 4, 1, 1, 9, 0, 7,\n",
            "        0, 0, 9, 6, 0, 2, 9, 2]), tensor([8, 5, 5, 9, 3, 3, 5, 7, 1, 2, 3, 3, 5, 6, 6, 4, 1, 1, 9, 1, 4, 6, 6, 2,\n",
            "        2, 6, 6, 0, 3, 5, 0, 3]), tensor([0, 5, 1, 1, 8, 2, 5, 3, 5, 1, 6, 6, 3, 1, 6, 7, 9, 6, 3, 8, 5, 6, 6, 9,\n",
            "        1, 9, 7, 7, 6, 4, 2, 7]), tensor([5, 6, 1, 5, 7, 7, 8, 2, 8, 3, 7, 6, 6, 2, 9, 9, 0, 2, 7, 3, 1, 0, 8, 2,\n",
            "        4, 4, 4, 7, 1, 8, 2, 6]), tensor([3, 4, 4, 3, 9, 8, 0, 3, 8, 3, 9, 2, 1, 5, 4, 5, 6, 8, 4, 2, 5, 9, 3, 6,\n",
            "        4, 7, 8, 5, 9, 5, 0, 0]), tensor([6, 9, 7, 2, 9, 2, 2, 6, 4, 6, 1, 6, 3, 9, 4, 0, 3, 4, 2, 6, 9, 4, 7, 2,\n",
            "        5, 4, 3, 6, 8, 7, 6, 2]), tensor([1, 1, 8, 7, 3, 2, 0, 5, 4, 3, 8, 8, 6, 9, 6, 6, 9, 4, 3, 3, 6, 4, 2, 8,\n",
            "        8, 5, 9, 2, 7, 1, 9, 0]), tensor([3, 3, 6, 2, 3, 9, 9, 7, 3, 0, 4, 2, 4, 6, 4, 5, 0, 4, 7, 8, 5, 8, 3, 4,\n",
            "        1, 4, 8, 7, 2, 6, 2, 3]), tensor([7, 6, 3, 5, 2, 5, 3, 7, 1, 2, 9, 8, 9, 4, 8, 8, 5, 5, 8, 4, 4, 6, 8, 3,\n",
            "        6, 4, 9, 6, 1, 0, 5, 1]), tensor([4, 0, 9, 2, 6, 3, 6, 7, 4, 4, 4, 3, 8, 5, 1, 8, 3, 4, 4, 5, 0, 0, 7, 8,\n",
            "        7, 4, 2, 2, 2, 9, 3, 5]), tensor([0, 9, 9, 0, 1, 3, 7, 1, 9, 4, 5, 2, 6, 9, 5, 7, 7, 4, 2, 8, 3, 1, 7, 8,\n",
            "        4, 4, 8, 0, 5, 5, 7, 1]), tensor([7, 6, 2, 1, 5, 1, 9, 0, 1, 0, 3, 2, 7, 3, 9, 3, 5, 4, 0, 6, 9, 5, 4, 2,\n",
            "        3, 8, 5, 8, 3, 6, 4, 1]), tensor([2, 9, 5, 8, 9, 0, 0, 2, 9, 5, 9, 3, 1, 0, 0, 4, 1, 4, 6, 9, 9, 8, 9, 7,\n",
            "        2, 4, 1, 9, 9, 3, 9, 3]), tensor([2, 3, 7, 3, 1, 4, 6, 8, 3, 4, 3, 3, 8, 3, 7, 1, 6, 3, 8, 4, 7, 9, 8, 6,\n",
            "        3, 0, 4, 5, 7, 6, 7, 2]), tensor([5, 0, 2, 6, 3, 3, 0, 3, 4, 4, 4, 4, 6, 9, 9, 6, 7, 4, 3, 2, 6, 1, 9, 5,\n",
            "        9, 9, 0, 5, 8, 2, 7, 3]), tensor([9, 5, 2, 8, 9, 5, 8, 6, 0, 3, 0, 6, 3, 7, 8, 0, 1, 2, 2, 6, 1, 1, 3, 2,\n",
            "        2, 5, 4, 3, 9, 3, 3, 4]), tensor([3, 7, 2, 9, 2, 1, 4, 7, 5, 5, 9, 4, 6, 9, 7, 9, 7, 4, 1, 8, 3, 3, 8, 0,\n",
            "        8, 7, 6, 7, 7, 9, 6, 4]), tensor([6, 3, 7, 2, 1, 5, 2, 0, 5, 8, 6, 7, 0, 1, 6, 5, 6, 2, 1, 4, 1, 8, 7, 9,\n",
            "        9, 7, 3, 2, 2, 4, 7, 4]), tensor([3, 9, 6, 3, 9, 5, 1, 0, 9, 2, 7, 4, 3, 5, 7, 2, 7, 2, 8, 7, 5, 4, 5, 9,\n",
            "        4, 3, 5, 0, 2, 7, 5, 3]), tensor([1, 9, 3, 7, 1, 6, 3, 4, 4, 2, 5, 9, 2, 1, 1, 9, 7, 9, 0, 1, 6, 8, 5, 2,\n",
            "        5, 3, 7, 8, 7, 7, 0, 8]), tensor([5, 6, 6, 3, 5, 2, 7, 7, 9, 7, 1, 0, 0, 8, 6, 4, 0, 2, 4, 5, 5, 6, 5, 3,\n",
            "        2, 4, 5, 6, 7, 1, 8, 7]), tensor([1, 2, 2, 0, 6, 8, 3, 7, 4, 6, 6, 3, 8, 4, 6, 6, 6, 8, 7, 3, 3, 6, 5, 6,\n",
            "        1, 5, 0, 9, 9, 1, 3, 0]), tensor([6, 1, 6, 6, 5, 5, 2, 4, 0, 9, 2, 6, 8, 2, 8, 3, 7, 7, 3, 3, 9, 5, 7, 3,\n",
            "        6, 9, 4, 5, 6, 7, 2, 9]), tensor([5, 5, 8, 7, 4, 9, 6, 2, 3, 6, 3, 0, 2, 7, 2, 4, 2, 2, 4, 1, 5, 7, 9, 7,\n",
            "        3, 9, 8, 8, 5, 1, 9, 3]), tensor([1, 6, 4, 8, 0, 5, 6, 9, 8, 5, 4, 4, 4, 1, 7, 5, 1, 2, 6, 7, 0, 3, 2, 8,\n",
            "        7, 8, 5, 5, 1, 1, 3, 5]), tensor([9, 9, 9, 1, 3, 6, 3, 4, 4, 4, 7, 1, 3, 0, 1, 5, 3, 4, 9, 2, 4, 2, 2, 6,\n",
            "        7, 9, 6, 7, 1, 4, 0, 8]), tensor([3, 3, 5, 2, 0, 8, 3, 3, 4, 0, 1, 8, 2, 3, 2, 9, 5, 4, 4, 5, 4, 1, 6, 4,\n",
            "        4, 5, 8, 6, 7, 3, 2, 6]), tensor([7, 4, 2, 3, 4, 4, 4, 6, 3, 4, 8, 1, 7, 8, 4, 8, 7, 8, 9, 9, 9, 2, 6, 9,\n",
            "        4, 0, 8, 8, 8, 0, 5, 6]), tensor([6, 6, 6, 6, 9, 9, 2, 3, 5, 2, 0, 1, 0, 8, 9, 5, 7, 3, 3, 2, 4, 1, 2, 8,\n",
            "        1, 8, 2, 6, 6, 9, 8, 5]), tensor([1, 2, 4, 0, 9, 6, 5, 8, 0, 7, 1, 6, 5, 8, 9, 9, 4, 9, 6, 3, 1, 2, 5, 0,\n",
            "        8, 6, 4, 6, 3, 6, 0, 0]), tensor([3, 3, 5, 9, 4, 7, 1, 5, 0, 1, 6, 1, 7, 9, 4, 0, 4, 5, 2, 9, 4, 9, 8, 8,\n",
            "        7, 6, 2, 3, 9, 3, 6, 7]), tensor([6, 2, 7, 6, 6, 1, 0, 5, 7, 3, 5, 9, 2, 3, 4, 2, 5, 8, 1, 9, 6, 7, 6, 7,\n",
            "        3, 6, 2, 5, 6, 8, 2, 6]), tensor([7, 4, 0, 5, 1, 5, 9, 6, 0, 9, 5, 8, 5, 7, 3, 9, 8, 3, 2, 6, 5, 7, 5, 1,\n",
            "        1, 5, 4, 1, 4, 5, 8, 2]), tensor([9, 6, 3, 3, 4, 6, 2, 4, 1, 1, 4, 7, 2, 5, 0, 2, 8, 8, 8, 8, 7, 7, 1, 2,\n",
            "        6, 4, 1, 4, 6, 2, 5, 8]), tensor([2, 4, 8, 3, 1, 8, 8, 4, 4, 0, 8, 4, 8, 6, 3, 2, 5, 8, 7, 5, 7, 0, 1, 1,\n",
            "        9, 7, 8, 6, 1, 9, 6, 3]), tensor([6, 9, 4, 0, 4, 9, 7, 2, 2, 2, 0, 9, 6, 6, 3, 7, 8, 6, 2, 6, 1, 1, 9, 9,\n",
            "        4, 5, 3, 6, 8, 9, 0, 6]), tensor([6, 1, 2, 3, 7, 6, 9, 0, 4, 8, 2, 3, 4, 9, 5, 5, 9, 4, 0, 4, 1, 1, 8, 9,\n",
            "        6, 4, 2, 3, 3, 0, 7, 1]), tensor([8, 8, 5, 3, 3, 7, 7, 1, 0, 1, 4, 1, 9, 0, 2, 1, 1, 0, 7, 3, 7, 3, 3, 0,\n",
            "        1, 8, 9, 2, 6, 6, 0, 9]), tensor([3, 6, 1, 2, 7, 6, 0, 5, 6, 8, 2, 5, 5, 3, 5, 9, 1, 8, 5, 3, 1, 2, 4, 3,\n",
            "        7, 3, 5, 4, 8, 6, 7, 1]), tensor([2, 3, 9, 8, 3, 8, 7, 7, 9, 7, 0, 9, 4, 0, 9, 6, 1, 9, 8, 6, 4, 7, 6, 9,\n",
            "        5, 4, 7, 1, 2, 1, 2, 6]), tensor([9, 2, 0, 5, 2, 0, 5, 5, 4, 6, 9, 9, 1, 6, 7, 7, 7, 2, 5, 1, 2, 0, 6, 3,\n",
            "        8, 9, 8, 4, 1, 0, 6, 3]), tensor([9, 8, 8, 7, 8, 3, 2, 0, 7, 4, 8, 6, 9, 9, 4, 7, 7, 2, 2, 1, 5, 4, 4, 3,\n",
            "        5, 5, 0, 8, 4, 7, 8, 9]), tensor([4, 2, 1, 7, 4, 4, 4, 9, 4, 3, 6, 0, 7, 7, 8, 0, 9, 1, 2, 6, 2, 9, 7, 1,\n",
            "        9, 7, 3, 3, 1, 4, 3, 5]), tensor([3, 3, 9, 4, 1, 4, 4, 2, 7, 5, 4, 6, 9, 9, 8, 3, 8, 1, 2, 2, 7, 5, 3, 1,\n",
            "        4, 6, 0, 1, 2, 0, 7, 6]), tensor([8, 8, 2, 8, 4, 5, 0, 6, 1, 7, 9, 7, 3, 9, 4, 6, 2, 8, 7, 1, 6, 8, 7, 6,\n",
            "        2, 4, 8, 2, 8, 0, 1, 5]), tensor([3, 8, 1, 7, 4, 9, 3, 7, 9, 3, 1, 8, 3, 0, 9, 3, 6, 2, 4, 2, 7, 6, 0, 9,\n",
            "        8, 8, 1, 5, 7, 7, 1, 7]), tensor([5, 4, 4, 0, 9, 8, 7, 3, 7, 3, 2, 5, 5, 1, 6, 9, 2, 6, 3, 2, 0, 4, 7, 8,\n",
            "        6, 6, 6, 1, 9, 3, 8, 3]), tensor([9, 7, 1, 7, 1, 3, 4, 6, 5, 6, 0, 6, 4, 1, 1, 2, 9, 6, 3, 2, 1, 3, 2, 7,\n",
            "        6, 1, 8, 5, 7, 4, 0, 5]), tensor([0, 4, 6, 2, 2, 5, 2, 1, 8, 2, 1, 7, 3, 8, 8, 9, 5, 0, 1, 2, 1, 4, 9, 0,\n",
            "        3, 1, 1, 4, 7, 8, 3, 6]), tensor([9, 3, 2, 8, 3, 8, 4, 9, 4, 7, 7, 3, 3, 6, 4, 5, 7, 3, 7, 6, 6, 6, 9, 3,\n",
            "        0, 5, 4, 1, 2, 1, 8, 1]), tensor([9, 4, 8, 9, 9, 3, 3, 7, 0, 6, 6, 1, 6, 4, 6, 4, 2, 2, 9, 3, 6, 3, 4, 0,\n",
            "        0, 1, 3, 6, 6, 5, 7, 9]), tensor([6, 6, 3, 7, 5, 1, 2, 7, 7, 5, 8, 0, 9, 1, 6, 1, 4, 9, 1, 6, 5, 2, 3, 6,\n",
            "        7, 1, 2, 7, 9, 3, 7, 4]), tensor([4, 2, 6, 7, 2, 7, 3, 1, 9, 8, 8, 7, 0, 1, 6, 0, 9, 7, 9, 9, 1, 2, 3, 4,\n",
            "        7, 4, 3, 4, 1, 7, 5, 7]), tensor([2, 5, 2, 0, 3, 1, 4, 7, 5, 3, 2, 5, 8, 4, 7, 4, 6, 8, 3, 0, 1, 7, 9, 2,\n",
            "        9, 1, 2, 6, 5, 1, 0, 2]), tensor([3, 8, 3, 1, 8, 2, 5, 9, 8, 8, 1, 0, 9, 6, 6, 6, 1, 1, 4, 7, 3, 0, 7, 9,\n",
            "        8, 9, 5, 2, 6, 4, 7, 2]), tensor([3, 8, 3, 8, 1, 1, 2, 4, 8, 1, 0, 8, 1, 8, 5, 3, 2, 7, 0, 2, 4, 9, 6, 2,\n",
            "        4, 5, 5, 6, 9, 9, 6, 7]), tensor([3, 2, 3, 3, 9, 6, 7, 7, 8, 1, 1, 2, 6, 5, 7, 9, 4, 7, 4, 7, 0, 2, 2, 9,\n",
            "        9, 7, 7, 5, 0, 1, 2, 3]), tensor([4, 6, 2, 0, 5, 2, 7, 8, 4, 2, 8, 7, 7, 1, 6, 7, 9, 9, 0, 1, 5, 1, 1, 3,\n",
            "        6, 7, 9, 8, 3, 3, 8, 5]), tensor([2, 4, 3, 6, 8, 0, 9, 2, 6, 9, 0, 1, 2, 5, 1, 8, 2, 1, 8, 1, 7, 1, 9, 1,\n",
            "        8, 3, 5, 4, 1, 0, 6, 4]), tensor([6, 6, 8, 2, 2, 5, 5, 0, 2, 4, 9, 8, 6, 1, 0, 6, 4, 8, 3, 4, 7, 7, 5, 9,\n",
            "        2, 5, 3, 4, 9, 9, 4, 8]), tensor([5, 6, 9, 3, 4, 0, 2, 8, 3, 1, 9, 2, 1, 6, 7, 3, 8, 5, 0, 4, 6, 4, 1, 1,\n",
            "        9, 8, 3, 9, 2, 2, 6, 0]), tensor([5, 2, 7, 6, 8, 3, 2, 4, 8, 4, 1, 5, 0, 3, 3, 1, 9, 2, 3, 7, 8, 2, 3, 6,\n",
            "        2, 5, 4, 9, 6, 7, 1, 1]), tensor([7, 9, 6, 1, 6, 7, 7, 4, 6, 3, 3, 2, 1, 0, 0, 9, 9, 8, 2, 9, 6, 4, 5, 4,\n",
            "        7, 2, 6, 5, 2, 6, 9, 3]), tensor([7, 0, 6, 3, 5, 3, 4, 3, 4, 6, 9, 8, 8, 6, 2, 0, 6, 3, 9, 4, 2, 8, 1, 7,\n",
            "        2, 4, 9, 3, 6, 2, 0, 6]), tensor([7, 3, 5, 0, 4, 3, 1, 3, 0, 9, 5, 4, 3, 7, 6, 2, 2, 9, 0, 7, 6, 5, 6, 8,\n",
            "        2, 1, 3, 6, 6, 5, 9, 4]), tensor([5, 0, 2, 0, 7, 4, 6, 2, 3, 3, 2, 2, 3, 8, 9, 4, 0, 2, 8, 3, 8, 2, 5, 7,\n",
            "        0, 3, 6, 8, 1, 5, 9, 2]), tensor([2, 8, 9, 4, 1, 0, 5, 8, 2, 2, 8, 2, 2, 6, 7, 4, 7, 3, 7, 4, 5, 8, 8, 3,\n",
            "        9, 8, 0, 6, 4, 0, 3, 6]), tensor([4, 9, 2, 5, 6, 5, 6, 3, 1, 7, 8, 6, 4, 7, 3, 3, 8, 0, 0, 9, 2, 8, 5, 4,\n",
            "        9, 6, 3, 2, 2, 0, 1, 1]), tensor([7, 3, 8, 2, 1, 9, 7, 8, 2, 8, 2, 3, 7, 3, 6, 4, 9, 2, 6, 2, 9, 8, 0, 5,\n",
            "        7, 2, 4, 5, 2, 1, 3, 7]), tensor([2, 4, 2, 7, 3, 6, 3, 3, 1, 5, 4, 0, 1, 9, 7, 5, 6, 5, 2, 7, 2, 6, 3, 5,\n",
            "        4, 8, 9, 0, 9, 7, 5, 7]), tensor([7, 9, 3, 4, 8, 4, 3, 9, 3, 1, 0, 2, 5, 2, 8, 7, 9, 7, 7, 7, 9, 2, 6, 0,\n",
            "        6, 7, 6, 1, 8, 0, 3, 8]), tensor([5, 0, 5, 6, 9, 1, 1, 2, 2, 8, 9, 7, 7, 5, 8, 6, 1, 4, 0, 1, 8, 4, 3, 4,\n",
            "        7, 9, 3, 7, 5, 5, 3, 9]), tensor([1, 2, 1, 2, 7, 4, 6, 9, 3, 4, 4, 1, 7, 8, 1, 6, 5, 9, 0, 2, 9, 5, 3, 8,\n",
            "        8, 2, 8, 5, 7, 0, 7, 0]), tensor([9, 6, 3, 2, 9, 4, 8, 5, 4, 0, 3, 2, 2, 4, 7, 3, 1, 7, 7, 8, 5, 7, 0, 6,\n",
            "        4, 2, 1, 3, 8, 3, 3, 2]), tensor([7, 5, 9, 1, 0, 4, 3, 7, 6, 6, 3, 1, 8, 4, 7, 2, 5, 9, 3, 1, 8, 1, 9, 2,\n",
            "        9, 6, 2, 6, 1, 8, 6, 9]), tensor([8, 4, 0, 3, 8, 4, 5, 1, 2, 4, 6, 4, 4, 8, 5, 7, 7, 7, 6, 5, 5, 7, 9, 9,\n",
            "        6, 2, 8, 2, 1, 3, 3, 4]), tensor([8, 9, 4, 0, 7, 3, 6, 8, 1, 2, 6, 1, 6, 5, 2, 9, 7, 2, 8, 7, 3, 7, 2, 1,\n",
            "        2, 1, 7, 4, 2, 7, 5, 0]), tensor([2, 3, 0, 1, 6, 6, 5, 0, 1, 5, 5, 4, 7, 1, 7, 8, 7, 1, 2, 7, 0, 9, 3, 1,\n",
            "        9, 0, 4, 6, 6, 5, 9, 9]), tensor([2, 2, 7, 1, 8, 1, 4, 2, 3, 7, 8, 4, 0, 4, 5, 4, 2, 9, 3, 5, 8, 0, 1, 9,\n",
            "        6, 7, 3, 7, 4, 4, 6, 6]), tensor([2, 1, 3, 4, 6, 7, 0, 5, 9, 8, 9, 3, 7, 9, 9, 2, 8, 3, 3, 1, 4, 4, 0, 2,\n",
            "        8, 1, 4, 1, 3, 3, 2, 7]), tensor([8, 7, 0, 4, 3, 4, 4, 8, 7, 9, 2, 8, 2, 4, 5, 6, 1, 7, 6, 7, 6, 6, 0, 3,\n",
            "        5, 1, 1, 2, 4, 6, 9, 8]), tensor([1, 0, 1, 6, 8, 5, 4, 0, 2, 0, 4, 9, 3, 7, 5, 4, 8, 6, 2, 8, 6, 4, 6, 0,\n",
            "        6, 7, 5, 2, 8, 7, 2, 9]), tensor([5, 9, 2, 1, 6, 4, 1, 9, 7, 1, 7, 3, 5, 8, 7, 2, 5, 1, 5, 2, 0, 6, 0, 1,\n",
            "        6, 4, 4, 8, 0, 3, 2, 2]), tensor([3, 5, 1, 6, 3, 6, 5, 4, 8, 3, 1, 6, 7, 8, 4, 2, 0, 6, 7, 8, 1, 4, 9, 6,\n",
            "        2, 8, 1, 4, 6, 8, 3, 0]), tensor([8, 7, 7, 5, 4, 7, 7, 6, 1, 8, 1, 7, 7, 0, 3, 1, 6, 5, 5, 3, 8, 9, 4, 0,\n",
            "        9, 5, 1, 7, 2, 1, 2, 2]), tensor([8, 3, 2, 0, 7, 1, 3, 4, 4, 5, 7, 0, 6, 7, 3, 3, 7, 8, 8, 2, 5, 6, 9, 7,\n",
            "        1, 2, 9, 3, 0, 5, 5, 0]), tensor([9, 1, 4, 8, 5, 6, 4, 1, 4, 6, 3, 3, 6, 3, 0, 8, 4, 7, 5, 5, 7, 0, 7, 9,\n",
            "        4, 3, 2, 9, 4, 8, 1, 8]), tensor([8, 8, 5, 8, 3, 8, 9, 3, 2, 0, 2, 1, 8, 4, 4, 6, 0, 9, 7, 3, 1, 9, 1, 3,\n",
            "        5, 6, 6, 2, 1, 7, 3, 6]), tensor([8, 2, 9, 3, 9, 6, 0, 4, 1, 2, 6, 2, 9, 1, 4, 9, 7, 3, 2, 6, 3, 9, 7, 8,\n",
            "        5, 6, 9, 6, 0, 3, 8, 1]), tensor([3, 2, 7, 5, 6, 4, 0, 6, 8, 9, 1, 9, 1, 8, 1, 2])]\n"
          ]
        },
        {
          "output_type": "execute_result",
          "data": {
            "text/plain": [
              "tensor([9, 2, 1, 1, 6, 1, 4, 6, 5, 7])"
            ]
          },
          "metadata": {},
          "execution_count": 59
        }
      ]
    },
    {
      "cell_type": "code",
      "source": [
        "len(y_pred_tensor)"
      ],
      "metadata": {
        "colab": {
          "base_uri": "https://localhost:8080/"
        },
        "id": "DxFauJqwg051",
        "outputId": "0e9e50ac-65d9-43c1-cf3a-2b7def0ab9b9"
      },
      "execution_count": 60,
      "outputs": [
        {
          "output_type": "execute_result",
          "data": {
            "text/plain": [
              "10000"
            ]
          },
          "metadata": {},
          "execution_count": 60
        }
      ]
    },
    {
      "cell_type": "code",
      "source": [
        "try:\n",
        "  import torchmetrics, mlxtend\n",
        "  print(f\"torchmetrics version: {torchmetrics.__version__}\")\n",
        "  assert int(mlxtend.__version__.split(\".\")[1]) >=19, \"higher\"\n",
        "except:\n",
        "  !pip install torchmetrics -U mlxtend\n",
        "  import torchmetrics, mlxtend\n",
        "  print(f\"mlxtend version: {mlxtend.__version__}\")"
      ],
      "metadata": {
        "colab": {
          "base_uri": "https://localhost:8080/"
        },
        "id": "UG9xE43oiLZK",
        "outputId": "a94e3df5-f0b5-4262-d6e2-a6e156943cab"
      },
      "execution_count": 61,
      "outputs": [
        {
          "output_type": "stream",
          "name": "stdout",
          "text": [
            "Collecting torchmetrics\n",
            "  Downloading torchmetrics-1.6.3-py3-none-any.whl.metadata (20 kB)\n",
            "Requirement already satisfied: mlxtend in /usr/local/lib/python3.11/dist-packages (0.23.4)\n",
            "Requirement already satisfied: numpy>1.20.0 in /usr/local/lib/python3.11/dist-packages (from torchmetrics) (1.26.4)\n",
            "Requirement already satisfied: packaging>17.1 in /usr/local/lib/python3.11/dist-packages (from torchmetrics) (24.2)\n",
            "Requirement already satisfied: torch>=2.0.0 in /usr/local/lib/python3.11/dist-packages (from torchmetrics) (2.6.0+cu124)\n",
            "Collecting lightning-utilities>=0.8.0 (from torchmetrics)\n",
            "  Downloading lightning_utilities-0.14.0-py3-none-any.whl.metadata (5.6 kB)\n",
            "Requirement already satisfied: scipy>=1.2.1 in /usr/local/lib/python3.11/dist-packages (from mlxtend) (1.14.1)\n",
            "Requirement already satisfied: pandas>=0.24.2 in /usr/local/lib/python3.11/dist-packages (from mlxtend) (2.2.2)\n",
            "Requirement already satisfied: scikit-learn>=1.3.1 in /usr/local/lib/python3.11/dist-packages (from mlxtend) (1.6.1)\n",
            "Requirement already satisfied: matplotlib>=3.0.0 in /usr/local/lib/python3.11/dist-packages (from mlxtend) (3.10.0)\n",
            "Requirement already satisfied: joblib>=0.13.2 in /usr/local/lib/python3.11/dist-packages (from mlxtend) (1.4.2)\n",
            "Requirement already satisfied: setuptools in /usr/local/lib/python3.11/dist-packages (from lightning-utilities>=0.8.0->torchmetrics) (75.1.0)\n",
            "Requirement already satisfied: typing_extensions in /usr/local/lib/python3.11/dist-packages (from lightning-utilities>=0.8.0->torchmetrics) (4.12.2)\n",
            "Requirement already satisfied: contourpy>=1.0.1 in /usr/local/lib/python3.11/dist-packages (from matplotlib>=3.0.0->mlxtend) (1.3.1)\n",
            "Requirement already satisfied: cycler>=0.10 in /usr/local/lib/python3.11/dist-packages (from matplotlib>=3.0.0->mlxtend) (0.12.1)\n",
            "Requirement already satisfied: fonttools>=4.22.0 in /usr/local/lib/python3.11/dist-packages (from matplotlib>=3.0.0->mlxtend) (4.56.0)\n",
            "Requirement already satisfied: kiwisolver>=1.3.1 in /usr/local/lib/python3.11/dist-packages (from matplotlib>=3.0.0->mlxtend) (1.4.8)\n",
            "Requirement already satisfied: pillow>=8 in /usr/local/lib/python3.11/dist-packages (from matplotlib>=3.0.0->mlxtend) (11.1.0)\n",
            "Requirement already satisfied: pyparsing>=2.3.1 in /usr/local/lib/python3.11/dist-packages (from matplotlib>=3.0.0->mlxtend) (3.2.1)\n",
            "Requirement already satisfied: python-dateutil>=2.7 in /usr/local/lib/python3.11/dist-packages (from matplotlib>=3.0.0->mlxtend) (2.8.2)\n",
            "Requirement already satisfied: pytz>=2020.1 in /usr/local/lib/python3.11/dist-packages (from pandas>=0.24.2->mlxtend) (2025.1)\n",
            "Requirement already satisfied: tzdata>=2022.7 in /usr/local/lib/python3.11/dist-packages (from pandas>=0.24.2->mlxtend) (2025.1)\n",
            "Requirement already satisfied: threadpoolctl>=3.1.0 in /usr/local/lib/python3.11/dist-packages (from scikit-learn>=1.3.1->mlxtend) (3.5.0)\n",
            "Requirement already satisfied: filelock in /usr/local/lib/python3.11/dist-packages (from torch>=2.0.0->torchmetrics) (3.17.0)\n",
            "Requirement already satisfied: networkx in /usr/local/lib/python3.11/dist-packages (from torch>=2.0.0->torchmetrics) (3.4.2)\n",
            "Requirement already satisfied: jinja2 in /usr/local/lib/python3.11/dist-packages (from torch>=2.0.0->torchmetrics) (3.1.6)\n",
            "Requirement already satisfied: fsspec in /usr/local/lib/python3.11/dist-packages (from torch>=2.0.0->torchmetrics) (2024.10.0)\n",
            "Collecting nvidia-cuda-nvrtc-cu12==12.4.127 (from torch>=2.0.0->torchmetrics)\n",
            "  Downloading nvidia_cuda_nvrtc_cu12-12.4.127-py3-none-manylinux2014_x86_64.whl.metadata (1.5 kB)\n",
            "Collecting nvidia-cuda-runtime-cu12==12.4.127 (from torch>=2.0.0->torchmetrics)\n",
            "  Downloading nvidia_cuda_runtime_cu12-12.4.127-py3-none-manylinux2014_x86_64.whl.metadata (1.5 kB)\n",
            "Collecting nvidia-cuda-cupti-cu12==12.4.127 (from torch>=2.0.0->torchmetrics)\n",
            "  Downloading nvidia_cuda_cupti_cu12-12.4.127-py3-none-manylinux2014_x86_64.whl.metadata (1.6 kB)\n",
            "Collecting nvidia-cudnn-cu12==9.1.0.70 (from torch>=2.0.0->torchmetrics)\n",
            "  Downloading nvidia_cudnn_cu12-9.1.0.70-py3-none-manylinux2014_x86_64.whl.metadata (1.6 kB)\n",
            "Collecting nvidia-cublas-cu12==12.4.5.8 (from torch>=2.0.0->torchmetrics)\n",
            "  Downloading nvidia_cublas_cu12-12.4.5.8-py3-none-manylinux2014_x86_64.whl.metadata (1.5 kB)\n",
            "Collecting nvidia-cufft-cu12==11.2.1.3 (from torch>=2.0.0->torchmetrics)\n",
            "  Downloading nvidia_cufft_cu12-11.2.1.3-py3-none-manylinux2014_x86_64.whl.metadata (1.5 kB)\n",
            "Collecting nvidia-curand-cu12==10.3.5.147 (from torch>=2.0.0->torchmetrics)\n",
            "  Downloading nvidia_curand_cu12-10.3.5.147-py3-none-manylinux2014_x86_64.whl.metadata (1.5 kB)\n",
            "Collecting nvidia-cusolver-cu12==11.6.1.9 (from torch>=2.0.0->torchmetrics)\n",
            "  Downloading nvidia_cusolver_cu12-11.6.1.9-py3-none-manylinux2014_x86_64.whl.metadata (1.6 kB)\n",
            "Collecting nvidia-cusparse-cu12==12.3.1.170 (from torch>=2.0.0->torchmetrics)\n",
            "  Downloading nvidia_cusparse_cu12-12.3.1.170-py3-none-manylinux2014_x86_64.whl.metadata (1.6 kB)\n",
            "Requirement already satisfied: nvidia-cusparselt-cu12==0.6.2 in /usr/local/lib/python3.11/dist-packages (from torch>=2.0.0->torchmetrics) (0.6.2)\n",
            "Requirement already satisfied: nvidia-nccl-cu12==2.21.5 in /usr/local/lib/python3.11/dist-packages (from torch>=2.0.0->torchmetrics) (2.21.5)\n",
            "Requirement already satisfied: nvidia-nvtx-cu12==12.4.127 in /usr/local/lib/python3.11/dist-packages (from torch>=2.0.0->torchmetrics) (12.4.127)\n",
            "Collecting nvidia-nvjitlink-cu12==12.4.127 (from torch>=2.0.0->torchmetrics)\n",
            "  Downloading nvidia_nvjitlink_cu12-12.4.127-py3-none-manylinux2014_x86_64.whl.metadata (1.5 kB)\n",
            "Requirement already satisfied: triton==3.2.0 in /usr/local/lib/python3.11/dist-packages (from torch>=2.0.0->torchmetrics) (3.2.0)\n",
            "Requirement already satisfied: sympy==1.13.1 in /usr/local/lib/python3.11/dist-packages (from torch>=2.0.0->torchmetrics) (1.13.1)\n",
            "Requirement already satisfied: mpmath<1.4,>=1.1.0 in /usr/local/lib/python3.11/dist-packages (from sympy==1.13.1->torch>=2.0.0->torchmetrics) (1.3.0)\n",
            "Requirement already satisfied: six>=1.5 in /usr/local/lib/python3.11/dist-packages (from python-dateutil>=2.7->matplotlib>=3.0.0->mlxtend) (1.17.0)\n",
            "Requirement already satisfied: MarkupSafe>=2.0 in /usr/local/lib/python3.11/dist-packages (from jinja2->torch>=2.0.0->torchmetrics) (3.0.2)\n",
            "Downloading torchmetrics-1.6.3-py3-none-any.whl (931 kB)\n",
            "\u001b[2K   \u001b[90m━━━━━━━━━━━━━━━━━━━━━━━━━━━━━━━━━━━━━━━━\u001b[0m \u001b[32m931.7/931.7 kB\u001b[0m \u001b[31m46.3 MB/s\u001b[0m eta \u001b[36m0:00:00\u001b[0m\n",
            "\u001b[?25hDownloading lightning_utilities-0.14.0-py3-none-any.whl (28 kB)\n",
            "Downloading nvidia_cublas_cu12-12.4.5.8-py3-none-manylinux2014_x86_64.whl (363.4 MB)\n",
            "\u001b[2K   \u001b[90m━━━━━━━━━━━━━━━━━━━━━━━━━━━━━━━━━━━━━━━━\u001b[0m \u001b[32m363.4/363.4 MB\u001b[0m \u001b[31m3.8 MB/s\u001b[0m eta \u001b[36m0:00:00\u001b[0m\n",
            "\u001b[?25hDownloading nvidia_cuda_cupti_cu12-12.4.127-py3-none-manylinux2014_x86_64.whl (13.8 MB)\n",
            "\u001b[2K   \u001b[90m━━━━━━━━━━━━━━━━━━━━━━━━━━━━━━━━━━━━━━━━\u001b[0m \u001b[32m13.8/13.8 MB\u001b[0m \u001b[31m98.2 MB/s\u001b[0m eta \u001b[36m0:00:00\u001b[0m\n",
            "\u001b[?25hDownloading nvidia_cuda_nvrtc_cu12-12.4.127-py3-none-manylinux2014_x86_64.whl (24.6 MB)\n",
            "\u001b[2K   \u001b[90m━━━━━━━━━━━━━━━━━━━━━━━━━━━━━━━━━━━━━━━━\u001b[0m \u001b[32m24.6/24.6 MB\u001b[0m \u001b[31m85.5 MB/s\u001b[0m eta \u001b[36m0:00:00\u001b[0m\n",
            "\u001b[?25hDownloading nvidia_cuda_runtime_cu12-12.4.127-py3-none-manylinux2014_x86_64.whl (883 kB)\n",
            "\u001b[2K   \u001b[90m━━━━━━━━━━━━━━━━━━━━━━━━━━━━━━━━━━━━━━━━\u001b[0m \u001b[32m883.7/883.7 kB\u001b[0m \u001b[31m58.2 MB/s\u001b[0m eta \u001b[36m0:00:00\u001b[0m\n",
            "\u001b[?25hDownloading nvidia_cudnn_cu12-9.1.0.70-py3-none-manylinux2014_x86_64.whl (664.8 MB)\n",
            "\u001b[2K   \u001b[90m━━━━━━━━━━━━━━━━━━━━━━━━━━━━━━━━━━━━━━━━\u001b[0m \u001b[32m664.8/664.8 MB\u001b[0m \u001b[31m2.4 MB/s\u001b[0m eta \u001b[36m0:00:00\u001b[0m\n",
            "\u001b[?25hDownloading nvidia_cufft_cu12-11.2.1.3-py3-none-manylinux2014_x86_64.whl (211.5 MB)\n",
            "\u001b[2K   \u001b[90m━━━━━━━━━━━━━━━━━━━━━━━━━━━━━━━━━━━━━━━━\u001b[0m \u001b[32m211.5/211.5 MB\u001b[0m \u001b[31m9.0 MB/s\u001b[0m eta \u001b[36m0:00:00\u001b[0m\n",
            "\u001b[?25hDownloading nvidia_curand_cu12-10.3.5.147-py3-none-manylinux2014_x86_64.whl (56.3 MB)\n",
            "\u001b[2K   \u001b[90m━━━━━━━━━━━━━━━━━━━━━━━━━━━━━━━━━━━━━━━━\u001b[0m \u001b[32m56.3/56.3 MB\u001b[0m \u001b[31m14.9 MB/s\u001b[0m eta \u001b[36m0:00:00\u001b[0m\n",
            "\u001b[?25hDownloading nvidia_cusolver_cu12-11.6.1.9-py3-none-manylinux2014_x86_64.whl (127.9 MB)\n",
            "\u001b[2K   \u001b[90m━━━━━━━━━━━━━━━━━━━━━━━━━━━━━━━━━━━━━━━━\u001b[0m \u001b[32m127.9/127.9 MB\u001b[0m \u001b[31m7.8 MB/s\u001b[0m eta \u001b[36m0:00:00\u001b[0m\n",
            "\u001b[?25hDownloading nvidia_cusparse_cu12-12.3.1.170-py3-none-manylinux2014_x86_64.whl (207.5 MB)\n",
            "\u001b[2K   \u001b[90m━━━━━━━━━━━━━━━━━━━━━━━━━━━━━━━━━━━━━━━━\u001b[0m \u001b[32m207.5/207.5 MB\u001b[0m \u001b[31m5.6 MB/s\u001b[0m eta \u001b[36m0:00:00\u001b[0m\n",
            "\u001b[?25hDownloading nvidia_nvjitlink_cu12-12.4.127-py3-none-manylinux2014_x86_64.whl (21.1 MB)\n",
            "\u001b[2K   \u001b[90m━━━━━━━━━━━━━━━━━━━━━━━━━━━━━━━━━━━━━━━━\u001b[0m \u001b[32m21.1/21.1 MB\u001b[0m \u001b[31m64.0 MB/s\u001b[0m eta \u001b[36m0:00:00\u001b[0m\n",
            "\u001b[?25hInstalling collected packages: nvidia-nvjitlink-cu12, nvidia-curand-cu12, nvidia-cufft-cu12, nvidia-cuda-runtime-cu12, nvidia-cuda-nvrtc-cu12, nvidia-cuda-cupti-cu12, nvidia-cublas-cu12, lightning-utilities, nvidia-cusparse-cu12, nvidia-cudnn-cu12, nvidia-cusolver-cu12, torchmetrics\n",
            "  Attempting uninstall: nvidia-nvjitlink-cu12\n",
            "    Found existing installation: nvidia-nvjitlink-cu12 12.5.82\n",
            "    Uninstalling nvidia-nvjitlink-cu12-12.5.82:\n",
            "      Successfully uninstalled nvidia-nvjitlink-cu12-12.5.82\n",
            "  Attempting uninstall: nvidia-curand-cu12\n",
            "    Found existing installation: nvidia-curand-cu12 10.3.6.82\n",
            "    Uninstalling nvidia-curand-cu12-10.3.6.82:\n",
            "      Successfully uninstalled nvidia-curand-cu12-10.3.6.82\n",
            "  Attempting uninstall: nvidia-cufft-cu12\n",
            "    Found existing installation: nvidia-cufft-cu12 11.2.3.61\n",
            "    Uninstalling nvidia-cufft-cu12-11.2.3.61:\n",
            "      Successfully uninstalled nvidia-cufft-cu12-11.2.3.61\n",
            "  Attempting uninstall: nvidia-cuda-runtime-cu12\n",
            "    Found existing installation: nvidia-cuda-runtime-cu12 12.5.82\n",
            "    Uninstalling nvidia-cuda-runtime-cu12-12.5.82:\n",
            "      Successfully uninstalled nvidia-cuda-runtime-cu12-12.5.82\n",
            "  Attempting uninstall: nvidia-cuda-nvrtc-cu12\n",
            "    Found existing installation: nvidia-cuda-nvrtc-cu12 12.5.82\n",
            "    Uninstalling nvidia-cuda-nvrtc-cu12-12.5.82:\n",
            "      Successfully uninstalled nvidia-cuda-nvrtc-cu12-12.5.82\n",
            "  Attempting uninstall: nvidia-cuda-cupti-cu12\n",
            "    Found existing installation: nvidia-cuda-cupti-cu12 12.5.82\n",
            "    Uninstalling nvidia-cuda-cupti-cu12-12.5.82:\n",
            "      Successfully uninstalled nvidia-cuda-cupti-cu12-12.5.82\n",
            "  Attempting uninstall: nvidia-cublas-cu12\n",
            "    Found existing installation: nvidia-cublas-cu12 12.5.3.2\n",
            "    Uninstalling nvidia-cublas-cu12-12.5.3.2:\n",
            "      Successfully uninstalled nvidia-cublas-cu12-12.5.3.2\n",
            "  Attempting uninstall: nvidia-cusparse-cu12\n",
            "    Found existing installation: nvidia-cusparse-cu12 12.5.1.3\n",
            "    Uninstalling nvidia-cusparse-cu12-12.5.1.3:\n",
            "      Successfully uninstalled nvidia-cusparse-cu12-12.5.1.3\n",
            "  Attempting uninstall: nvidia-cudnn-cu12\n",
            "    Found existing installation: nvidia-cudnn-cu12 9.3.0.75\n",
            "    Uninstalling nvidia-cudnn-cu12-9.3.0.75:\n",
            "      Successfully uninstalled nvidia-cudnn-cu12-9.3.0.75\n",
            "  Attempting uninstall: nvidia-cusolver-cu12\n",
            "    Found existing installation: nvidia-cusolver-cu12 11.6.3.83\n",
            "    Uninstalling nvidia-cusolver-cu12-11.6.3.83:\n",
            "      Successfully uninstalled nvidia-cusolver-cu12-11.6.3.83\n",
            "Successfully installed lightning-utilities-0.14.0 nvidia-cublas-cu12-12.4.5.8 nvidia-cuda-cupti-cu12-12.4.127 nvidia-cuda-nvrtc-cu12-12.4.127 nvidia-cuda-runtime-cu12-12.4.127 nvidia-cudnn-cu12-9.1.0.70 nvidia-cufft-cu12-11.2.1.3 nvidia-curand-cu12-10.3.5.147 nvidia-cusolver-cu12-11.6.1.9 nvidia-cusparse-cu12-12.3.1.170 nvidia-nvjitlink-cu12-12.4.127 torchmetrics-1.6.3\n",
            "mlxtend version: 0.23.4\n"
          ]
        }
      ]
    },
    {
      "cell_type": "code",
      "source": [
        "assert int(mlxtend.__version__.split(\".\")[1]) >=19, \"higher\""
      ],
      "metadata": {
        "id": "dMXCG3l2i_wg"
      },
      "execution_count": 62,
      "outputs": []
    },
    {
      "cell_type": "code",
      "source": [
        "import mlxtend\n",
        "mlxtend.__version__"
      ],
      "metadata": {
        "id": "On0u0VFpkDut",
        "colab": {
          "base_uri": "https://localhost:8080/",
          "height": 35
        },
        "outputId": "17e47791-6fcd-4577-df57-ac21cc421563"
      },
      "execution_count": 63,
      "outputs": [
        {
          "output_type": "execute_result",
          "data": {
            "text/plain": [
              "'0.23.4'"
            ],
            "application/vnd.google.colaboratory.intrinsic+json": {
              "type": "string"
            }
          },
          "metadata": {},
          "execution_count": 63
        }
      ]
    },
    {
      "cell_type": "code",
      "source": [],
      "metadata": {
        "id": "R8G8yPfTSojz"
      },
      "execution_count": 63,
      "outputs": []
    },
    {
      "cell_type": "code",
      "source": [
        "from torchmetrics import ConfusionMatrix\n",
        "from mlxtend.plotting import plot_confusion_matrix\n",
        "num_classes=len(class_names)\n",
        "task=\"multiclass\" if num_classes >2  else \"binary\"\n",
        "confmat= ConfusionMatrix(num_classes=num_classes, task=task)\n",
        "confmat_tensor=confmat(preds=y_pred_tensor,\n",
        "                       target=test_data.targets)\n",
        "fig, ax=plot_confusion_matrix(\n",
        "    conf_mat=confmat_tensor.numpy(),\n",
        "    class_names=class_names,\n",
        "    figsize=(10,7)\n",
        ")\n"
      ],
      "metadata": {
        "colab": {
          "base_uri": "https://localhost:8080/",
          "height": 667
        },
        "id": "GXiax-mcUOCW",
        "outputId": "d00eca2d-f88f-44b6-b930-5bf9c72dade4"
      },
      "execution_count": 64,
      "outputs": [
        {
          "output_type": "display_data",
          "data": {
            "text/plain": [
              "<Figure size 1000x700 with 1 Axes>"
            ],
            "image/png": "[encoded data removed]"
          },
          "metadata": {}
        }
      ]
    },
    {
      "cell_type": "code",
      "source": [
        "confmat_tensor"
      ],
      "metadata": {
        "colab": {
          "base_uri": "https://localhost:8080/"
        },
        "id": "C0d5RRaCV_ye",
        "outputId": "6c573375-65aa-4f71-e593-2d198b7e6d35"
      },
      "execution_count": 65,
      "outputs": [
        {
          "output_type": "execute_result",
          "data": {
            "text/plain": [
              "tensor([[587,   6,  37,  87,  14,   1, 264,   0,   4,   0],\n",
              "        [  8, 916,   7,  44,  16,   0,   5,   0,   4,   0],\n",
              "        [  7,   2, 808,  13, 105,   0,  61,   0,   4,   0],\n",
              "        [ 20,  12,  16, 845,  61,   0,  36,   0,   8,   2],\n",
              "        [  3,   8, 114,  38, 763,   0,  70,   0,   4,   0],\n",
              "        [  4,   3,   7,   6,   0, 829,   3,  56,  67,  25],\n",
              "        [ 61,   7, 122,  66, 108,   0, 630,   0,   6,   0],\n",
              "        [  1,   1,   0,   0,   0,  26,   0, 896,  15,  61],\n",
              "        [ 12,   3,  32,  16,  12,   7,  36,   8, 873,   1],\n",
              "        [  0,   0,   1,   3,   0,  23,   2,  77,   9, 885]])"
            ]
          },
          "metadata": {},
          "execution_count": 65
        }
      ]
    },
    {
      "cell_type": "code",
      "source": [
        "from pathlib import Path\n",
        "MODEL_PATH= Path(\"models\")\n",
        "MODEL_PATH.mkdir(parents=True,\n",
        "                 exist_ok=True)\n",
        "MODEL_NAME= \"03_pytorch_computer_vision_model_2.pth\"\n",
        "MODEL_SAVE_PATH= MODEL_PATH/MODEL_NAME\n",
        "print(f\"SAVING MODEL TO: {MODEL_SAVE_PATH}\")\n",
        "torch.save(obj=model_2.state_dict(),\n",
        "           f=MODEL_SAVE_PATH)\n"
      ],
      "metadata": {
        "colab": {
          "base_uri": "https://localhost:8080/"
        },
        "id": "l4TUQAy2WBQl",
        "outputId": "7a8d9703-c458-4844-88bb-36ed485e5222"
      },
      "execution_count": 66,
      "outputs": [
        {
          "output_type": "stream",
          "name": "stdout",
          "text": [
            "SAVING MODEL TO: models/03_pytorch_computer_vision_model_2.pth\n"
          ]
        }
      ]
    },
    {
      "cell_type": "code",
      "source": [
        "torch.manual_seed(42)\n",
        "loaded_model_2=FashionMNISTModelV2(input_shape=1,\n",
        "                                   hidden_units=10,\n",
        "                                   output_shape=len(class_names))\n",
        "loaded_model_2.load_state_dict(torch.load(f=MODEL_SAVE_PATH))\n",
        "loaded_model_2.to(device)"
      ],
      "metadata": {
        "colab": {
          "base_uri": "https://localhost:8080/"
        },
        "id": "u23UfOdFZp9L",
        "outputId": "0cbde3d8-f1dc-40dd-ddf0-49d04726b4a9"
      },
      "execution_count": 67,
      "outputs": [
        {
          "output_type": "execute_result",
          "data": {
            "text/plain": [
              "FashionMNISTModelV2(\n",
              "  (block_1): Sequential(\n",
              "    (0): Conv2d(1, 10, kernel_size=(3, 3), stride=(1, 1), padding=(1, 1))\n",
              "    (1): ReLU()\n",
              "    (2): Conv2d(10, 10, kernel_size=(3, 3), stride=(1, 1), padding=(1, 1))\n",
              "    (3): ReLU()\n",
              "    (4): MaxPool2d(kernel_size=2, stride=2, padding=0, dilation=1, ceil_mode=False)\n",
              "  )\n",
              "  (block_2): Sequential(\n",
              "    (0): Conv2d(10, 10, kernel_size=(3, 3), stride=(1, 1), padding=(1, 1))\n",
              "    (1): ReLU()\n",
              "    (2): Conv2d(10, 10, kernel_size=(3, 3), stride=(1, 1), padding=(1, 1))\n",
              "    (3): ReLU()\n",
              "    (4): MaxPool2d(kernel_size=2, stride=2, padding=0, dilation=1, ceil_mode=False)\n",
              "  )\n",
              "  (classifier): Sequential(\n",
              "    (0): Flatten(start_dim=1, end_dim=-1)\n",
              "    (1): Linear(in_features=490, out_features=10, bias=True)\n",
              "  )\n",
              ")"
            ]
          },
          "metadata": {},
          "execution_count": 67
        }
      ]
    },
    {
      "cell_type": "code",
      "source": [
        "model_2_results"
      ],
      "metadata": {
        "colab": {
          "base_uri": "https://localhost:8080/"
        },
        "id": "HKBXcyJnbuMq",
        "outputId": "e2e02e98-7c0e-4b98-bf8e-521bdd8c78ec"
      },
      "execution_count": 68,
      "outputs": [
        {
          "output_type": "execute_result",
          "data": {
            "text/plain": [
              "{'model_name': 'FashionMNISTModelV2',\n",
              " 'model_loss': 0.3239152431488037,\n",
              " 'model_acc': 88.20886581469648}"
            ]
          },
          "metadata": {},
          "execution_count": 68
        }
      ]
    },
    {
      "cell_type": "code",
      "source": [
        "loaded_model_2_results=eval_model(\n",
        "    model=loaded_model_2,\n",
        "    data_loader=test_dataloader,\n",
        "    loss_fn=loss_fn,\n",
        "    accuracy_fn=accuracy_fn\n",
        ")\n",
        "loaded_model_2_results"
      ],
      "metadata": {
        "colab": {
          "base_uri": "https://localhost:8080/"
        },
        "id": "LWTXQjRXb6uP",
        "outputId": "ce33aac6-10f3-4d76-a47c-da2eba056d1f"
      },
      "execution_count": 69,
      "outputs": [
        {
          "output_type": "execute_result",
          "data": {
            "text/plain": [
              "{'model_name': 'FashionMNISTModelV2',\n",
              " 'model_loss': 0.3239152431488037,\n",
              " 'model_acc': 88.20886581469648}"
            ]
          },
          "metadata": {},
          "execution_count": 69
        }
      ]
    },
    {
      "cell_type": "code",
      "source": [
        "torch.isclose(torch.tensor(model_2_results[\"model_loss\"]),\n",
        "              torch.tensor(loaded_model_2_results[\"model_loss\"]),\n",
        "              atol=1e-2)\n",
        "\n"
      ],
      "metadata": {
        "colab": {
          "base_uri": "https://localhost:8080/"
        },
        "id": "88PBrLj0b9D6",
        "outputId": "2a5a97d9-e402-4709-ba01-f6e036fbaedc"
      },
      "execution_count": 70,
      "outputs": [
        {
          "output_type": "execute_result",
          "data": {
            "text/plain": [
              "tensor(True)"
            ]
          },
          "metadata": {},
          "execution_count": 70
        }
      ]
    },
    {
      "cell_type": "code",
      "source": [],
      "metadata": {
        "id": "Wa8TyaTid9Uh"
      },
      "execution_count": 70,
      "outputs": []
    }
  ],
  "metadata": {
    "colab": {
      "provenance": [],
      "gpuType": "T4",
      "authorship_tag": "ABX9TyNCxoVPP5LociGacgS4VAuw",
      "include_colab_link": true
    },
    "kernelspec": {
      "display_name": "Python 3",
      "name": "python3"
    },
    "language_info": {
      "name": "python"
    },
    "accelerator": "GPU",
    "widgets": {
      "application/vnd.jupyter.widget-state+json": {
        "6c928c5661b34c209ca74e4068cff91b": {
          "model_module": "@jupyter-widgets/controls",
          "model_name": "HBoxModel",
          "model_module_version": "1.5.0",
          "state": {
            "_dom_classes": [],
            "_model_module": "@jupyter-widgets/controls",
            "_model_module_version": "1.5.0",
            "_model_name": "HBoxModel",
            "_view_count": null,
            "_view_module": "@jupyter-widgets/controls",
            "_view_module_version": "1.5.0",
            "_view_name": "HBoxView",
            "box_style": "",
            "children": [
              "IPY_MODEL_4399fc022ebf49abb031182c5ca669ab",
              "IPY_MODEL_b53b72e377b24a15b02f4f8606372e5d",
              "IPY_MODEL_7c3fccc60d3540b2b7b2bfc9b613db85"
            ],
            "layout": "IPY_MODEL_a2d00deecf444899944a5b78cc32286f"
          }
        },
        "4399fc022ebf49abb031182c5ca669ab": {
          "model_module": "@jupyter-widgets/controls",
          "model_name": "HTMLModel",
          "model_module_version": "1.5.0",
          "state": {
            "_dom_classes": [],
            "_model_module": "@jupyter-widgets/controls",
            "_model_module_version": "1.5.0",
            "_model_name": "HTMLModel",
            "_view_count": null,
            "_view_module": "@jupyter-widgets/controls",
            "_view_module_version": "1.5.0",
            "_view_name": "HTMLView",
            "description": "",
            "description_tooltip": null,
            "layout": "IPY_MODEL_b4bdce707b2548849c71434e711acb89",
            "placeholder": "​",
            "style": "IPY_MODEL_a05fbe8b516c4faab57a677abb5ff6e6",
            "value": "100%"
          }
        },
        "b53b72e377b24a15b02f4f8606372e5d": {
          "model_module": "@jupyter-widgets/controls",
          "model_name": "FloatProgressModel",
          "model_module_version": "1.5.0",
          "state": {
            "_dom_classes": [],
            "_model_module": "@jupyter-widgets/controls",
            "_model_module_version": "1.5.0",
            "_model_name": "FloatProgressModel",
            "_view_count": null,
            "_view_module": "@jupyter-widgets/controls",
            "_view_module_version": "1.5.0",
            "_view_name": "ProgressView",
            "bar_style": "success",
            "description": "",
            "description_tooltip": null,
            "layout": "IPY_MODEL_85905479de3e442b8587c50b0e8f445e",
            "max": 3,
            "min": 0,
            "orientation": "horizontal",
            "style": "IPY_MODEL_e73426da5231499e84d25d96050e2c65",
            "value": 3
          }
        },
        "7c3fccc60d3540b2b7b2bfc9b613db85": {
          "model_module": "@jupyter-widgets/controls",
          "model_name": "HTMLModel",
          "model_module_version": "1.5.0",
          "state": {
            "_dom_classes": [],
            "_model_module": "@jupyter-widgets/controls",
            "_model_module_version": "1.5.0",
            "_model_name": "HTMLModel",
            "_view_count": null,
            "_view_module": "@jupyter-widgets/controls",
            "_view_module_version": "1.5.0",
            "_view_name": "HTMLView",
            "description": "",
            "description_tooltip": null,
            "layout": "IPY_MODEL_7ef3c74fb0a54d63ad0c77b3552b6b9d",
            "placeholder": "​",
            "style": "IPY_MODEL_87b31e97c7094270a9f062efbc7ac64e",
            "value": " 3/3 [00:24&lt;00:00,  8.29s/it]"
          }
        },
        "a2d00deecf444899944a5b78cc32286f": {
          "model_module": "@jupyter-widgets/base",
          "model_name": "LayoutModel",
          "model_module_version": "1.2.0",
          "state": {
            "_model_module": "@jupyter-widgets/base",
            "_model_module_version": "1.2.0",
            "_model_name": "LayoutModel",
            "_view_count": null,
            "_view_module": "@jupyter-widgets/base",
            "_view_module_version": "1.2.0",
            "_view_name": "LayoutView",
            "align_content": null,
            "align_items": null,
            "align_self": null,
            "border": null,
            "bottom": null,
            "display": null,
            "flex": null,
            "flex_flow": null,
            "grid_area": null,
            "grid_auto_columns": null,
            "grid_auto_flow": null,
            "grid_auto_rows": null,
            "grid_column": null,
            "grid_gap": null,
            "grid_row": null,
            "grid_template_areas": null,
            "grid_template_columns": null,
            "grid_template_rows": null,
            "height": null,
            "justify_content": null,
            "justify_items": null,
            "left": null,
            "margin": null,
            "max_height": null,
            "max_width": null,
            "min_height": null,
            "min_width": null,
            "object_fit": null,
            "object_position": null,
            "order": null,
            "overflow": null,
            "overflow_x": null,
            "overflow_y": null,
            "padding": null,
            "right": null,
            "top": null,
            "visibility": null,
            "width": null
          }
        },
        "b4bdce707b2548849c71434e711acb89": {
          "model_module": "@jupyter-widgets/base",
          "model_name": "LayoutModel",
          "model_module_version": "1.2.0",
          "state": {
            "_model_module": "@jupyter-widgets/base",
            "_model_module_version": "1.2.0",
            "_model_name": "LayoutModel",
            "_view_count": null,
            "_view_module": "@jupyter-widgets/base",
            "_view_module_version": "1.2.0",
            "_view_name": "LayoutView",
            "align_content": null,
            "align_items": null,
            "align_self": null,
            "border": null,
            "bottom": null,
            "display": null,
            "flex": null,
            "flex_flow": null,
            "grid_area": null,
            "grid_auto_columns": null,
            "grid_auto_flow": null,
            "grid_auto_rows": null,
            "grid_column": null,
            "grid_gap": null,
            "grid_row": null,
            "grid_template_areas": null,
            "grid_template_columns": null,
            "grid_template_rows": null,
            "height": null,
            "justify_content": null,
            "justify_items": null,
            "left": null,
            "margin": null,
            "max_height": null,
            "max_width": null,
            "min_height": null,
            "min_width": null,
            "object_fit": null,
            "object_position": null,
            "order": null,
            "overflow": null,
            "overflow_x": null,
            "overflow_y": null,
            "padding": null,
            "right": null,
            "top": null,
            "visibility": null,
            "width": null
          }
        },
        "a05fbe8b516c4faab57a677abb5ff6e6": {
          "model_module": "@jupyter-widgets/controls",
          "model_name": "DescriptionStyleModel",
          "model_module_version": "1.5.0",
          "state": {
            "_model_module": "@jupyter-widgets/controls",
            "_model_module_version": "1.5.0",
            "_model_name": "DescriptionStyleModel",
            "_view_count": null,
            "_view_module": "@jupyter-widgets/base",
            "_view_module_version": "1.2.0",
            "_view_name": "StyleView",
            "description_width": ""
          }
        },
        "85905479de3e442b8587c50b0e8f445e": {
          "model_module": "@jupyter-widgets/base",
          "model_name": "LayoutModel",
          "model_module_version": "1.2.0",
          "state": {
            "_model_module": "@jupyter-widgets/base",
            "_model_module_version": "1.2.0",
            "_model_name": "LayoutModel",
            "_view_count": null,
            "_view_module": "@jupyter-widgets/base",
            "_view_module_version": "1.2.0",
            "_view_name": "LayoutView",
            "align_content": null,
            "align_items": null,
            "align_self": null,
            "border": null,
            "bottom": null,
            "display": null,
            "flex": null,
            "flex_flow": null,
            "grid_area": null,
            "grid_auto_columns": null,
            "grid_auto_flow": null,
            "grid_auto_rows": null,
            "grid_column": null,
            "grid_gap": null,
            "grid_row": null,
            "grid_template_areas": null,
            "grid_template_columns": null,
            "grid_template_rows": null,
            "height": null,
            "justify_content": null,
            "justify_items": null,
            "left": null,
            "margin": null,
            "max_height": null,
            "max_width": null,
            "min_height": null,
            "min_width": null,
            "object_fit": null,
            "object_position": null,
            "order": null,
            "overflow": null,
            "overflow_x": null,
            "overflow_y": null,
            "padding": null,
            "right": null,
            "top": null,
            "visibility": null,
            "width": null
          }
        },
        "e73426da5231499e84d25d96050e2c65": {
          "model_module": "@jupyter-widgets/controls",
          "model_name": "ProgressStyleModel",
          "model_module_version": "1.5.0",
          "state": {
            "_model_module": "@jupyter-widgets/controls",
            "_model_module_version": "1.5.0",
            "_model_name": "ProgressStyleModel",
            "_view_count": null,
            "_view_module": "@jupyter-widgets/base",
            "_view_module_version": "1.2.0",
            "_view_name": "StyleView",
            "bar_color": null,
            "description_width": ""
          }
        },
        "7ef3c74fb0a54d63ad0c77b3552b6b9d": {
          "model_module": "@jupyter-widgets/base",
          "model_name": "LayoutModel",
          "model_module_version": "1.2.0",
          "state": {
            "_model_module": "@jupyter-widgets/base",
            "_model_module_version": "1.2.0",
            "_model_name": "LayoutModel",
            "_view_count": null,
            "_view_module": "@jupyter-widgets/base",
            "_view_module_version": "1.2.0",
            "_view_name": "LayoutView",
            "align_content": null,
            "align_items": null,
            "align_self": null,
            "border": null,
            "bottom": null,
            "display": null,
            "flex": null,
            "flex_flow": null,
            "grid_area": null,
            "grid_auto_columns": null,
            "grid_auto_flow": null,
            "grid_auto_rows": null,
            "grid_column": null,
            "grid_gap": null,
            "grid_row": null,
            "grid_template_areas": null,
            "grid_template_columns": null,
            "grid_template_rows": null,
            "height": null,
            "justify_content": null,
            "justify_items": null,
            "left": null,
            "margin": null,
            "max_height": null,
            "max_width": null,
            "min_height": null,
            "min_width": null,
            "object_fit": null,
            "object_position": null,
            "order": null,
            "overflow": null,
            "overflow_x": null,
            "overflow_y": null,
            "padding": null,
            "right": null,
            "top": null,
            "visibility": null,
            "width": null
          }
        },
        "87b31e97c7094270a9f062efbc7ac64e": {
          "model_module": "@jupyter-widgets/controls",
          "model_name": "DescriptionStyleModel",
          "model_module_version": "1.5.0",
          "state": {
            "_model_module": "@jupyter-widgets/controls",
            "_model_module_version": "1.5.0",
            "_model_name": "DescriptionStyleModel",
            "_view_count": null,
            "_view_module": "@jupyter-widgets/base",
            "_view_module_version": "1.2.0",
            "_view_name": "StyleView",
            "description_width": ""
          }
        },
        "fa62db9663ef4357b346105a0a27613f": {
          "model_module": "@jupyter-widgets/controls",
          "model_name": "HBoxModel",
          "model_module_version": "1.5.0",
          "state": {
            "_dom_classes": [],
            "_model_module": "@jupyter-widgets/controls",
            "_model_module_version": "1.5.0",
            "_model_name": "HBoxModel",
            "_view_count": null,
            "_view_module": "@jupyter-widgets/controls",
            "_view_module_version": "1.5.0",
            "_view_name": "HBoxView",
            "box_style": "",
            "children": [
              "IPY_MODEL_bd7cd54f341841c2877f3d46955152db",
              "IPY_MODEL_371ea289b16c43d3bec9e666516cc23e",
              "IPY_MODEL_4e90a1b4a8ae4825a3f69b0758ffc67f"
            ],
            "layout": "IPY_MODEL_605be519a1e64d2c8f1f42ae09ae4a80"
          }
        },
        "bd7cd54f341841c2877f3d46955152db": {
          "model_module": "@jupyter-widgets/controls",
          "model_name": "HTMLModel",
          "model_module_version": "1.5.0",
          "state": {
            "_dom_classes": [],
            "_model_module": "@jupyter-widgets/controls",
            "_model_module_version": "1.5.0",
            "_model_name": "HTMLModel",
            "_view_count": null,
            "_view_module": "@jupyter-widgets/controls",
            "_view_module_version": "1.5.0",
            "_view_name": "HTMLView",
            "description": "",
            "description_tooltip": null,
            "layout": "IPY_MODEL_63d710a46e1c4d11b6c0f626499640d5",
            "placeholder": "​",
            "style": "IPY_MODEL_258a67ace77842298bc12fdc9b08678a",
            "value": "100%"
          }
        },
        "371ea289b16c43d3bec9e666516cc23e": {
          "model_module": "@jupyter-widgets/controls",
          "model_name": "FloatProgressModel",
          "model_module_version": "1.5.0",
          "state": {
            "_dom_classes": [],
            "_model_module": "@jupyter-widgets/controls",
            "_model_module_version": "1.5.0",
            "_model_name": "FloatProgressModel",
            "_view_count": null,
            "_view_module": "@jupyter-widgets/controls",
            "_view_module_version": "1.5.0",
            "_view_name": "ProgressView",
            "bar_style": "success",
            "description": "",
            "description_tooltip": null,
            "layout": "IPY_MODEL_9596b1ee506b4d33a2b3514730545f0c",
            "max": 3,
            "min": 0,
            "orientation": "horizontal",
            "style": "IPY_MODEL_2a69fe4803374e1aadd61489764535ca",
            "value": 3
          }
        },
        "4e90a1b4a8ae4825a3f69b0758ffc67f": {
          "model_module": "@jupyter-widgets/controls",
          "model_name": "HTMLModel",
          "model_module_version": "1.5.0",
          "state": {
            "_dom_classes": [],
            "_model_module": "@jupyter-widgets/controls",
            "_model_module_version": "1.5.0",
            "_model_name": "HTMLModel",
            "_view_count": null,
            "_view_module": "@jupyter-widgets/controls",
            "_view_module_version": "1.5.0",
            "_view_name": "HTMLView",
            "description": "",
            "description_tooltip": null,
            "layout": "IPY_MODEL_9431c60199af46b3a6ce54bc2c83d4b1",
            "placeholder": "​",
            "style": "IPY_MODEL_e92b641c1f2d46cb9875df4a296a1240",
            "value": " 3/3 [00:27&lt;00:00,  9.17s/it]"
          }
        },
        "605be519a1e64d2c8f1f42ae09ae4a80": {
          "model_module": "@jupyter-widgets/base",
          "model_name": "LayoutModel",
          "model_module_version": "1.2.0",
          "state": {
            "_model_module": "@jupyter-widgets/base",
            "_model_module_version": "1.2.0",
            "_model_name": "LayoutModel",
            "_view_count": null,
            "_view_module": "@jupyter-widgets/base",
            "_view_module_version": "1.2.0",
            "_view_name": "LayoutView",
            "align_content": null,
            "align_items": null,
            "align_self": null,
            "border": null,
            "bottom": null,
            "display": null,
            "flex": null,
            "flex_flow": null,
            "grid_area": null,
            "grid_auto_columns": null,
            "grid_auto_flow": null,
            "grid_auto_rows": null,
            "grid_column": null,
            "grid_gap": null,
            "grid_row": null,
            "grid_template_areas": null,
            "grid_template_columns": null,
            "grid_template_rows": null,
            "height": null,
            "justify_content": null,
            "justify_items": null,
            "left": null,
            "margin": null,
            "max_height": null,
            "max_width": null,
            "min_height": null,
            "min_width": null,
            "object_fit": null,
            "object_position": null,
            "order": null,
            "overflow": null,
            "overflow_x": null,
            "overflow_y": null,
            "padding": null,
            "right": null,
            "top": null,
            "visibility": null,
            "width": null
          }
        },
        "63d710a46e1c4d11b6c0f626499640d5": {
          "model_module": "@jupyter-widgets/base",
          "model_name": "LayoutModel",
          "model_module_version": "1.2.0",
          "state": {
            "_model_module": "@jupyter-widgets/base",
            "_model_module_version": "1.2.0",
            "_model_name": "LayoutModel",
            "_view_count": null,
            "_view_module": "@jupyter-widgets/base",
            "_view_module_version": "1.2.0",
            "_view_name": "LayoutView",
            "align_content": null,
            "align_items": null,
            "align_self": null,
            "border": null,
            "bottom": null,
            "display": null,
            "flex": null,
            "flex_flow": null,
            "grid_area": null,
            "grid_auto_columns": null,
            "grid_auto_flow": null,
            "grid_auto_rows": null,
            "grid_column": null,
            "grid_gap": null,
            "grid_row": null,
            "grid_template_areas": null,
            "grid_template_columns": null,
            "grid_template_rows": null,
            "height": null,
            "justify_content": null,
            "justify_items": null,
            "left": null,
            "margin": null,
            "max_height": null,
            "max_width": null,
            "min_height": null,
            "min_width": null,
            "object_fit": null,
            "object_position": null,
            "order": null,
            "overflow": null,
            "overflow_x": null,
            "overflow_y": null,
            "padding": null,
            "right": null,
            "top": null,
            "visibility": null,
            "width": null
          }
        },
        "258a67ace77842298bc12fdc9b08678a": {
          "model_module": "@jupyter-widgets/controls",
          "model_name": "DescriptionStyleModel",
          "model_module_version": "1.5.0",
          "state": {
            "_model_module": "@jupyter-widgets/controls",
            "_model_module_version": "1.5.0",
            "_model_name": "DescriptionStyleModel",
            "_view_count": null,
            "_view_module": "@jupyter-widgets/base",
            "_view_module_version": "1.2.0",
            "_view_name": "StyleView",
            "description_width": ""
          }
        },
        "9596b1ee506b4d33a2b3514730545f0c": {
          "model_module": "@jupyter-widgets/base",
          "model_name": "LayoutModel",
          "model_module_version": "1.2.0",
          "state": {
            "_model_module": "@jupyter-widgets/base",
            "_model_module_version": "1.2.0",
            "_model_name": "LayoutModel",
            "_view_count": null,
            "_view_module": "@jupyter-widgets/base",
            "_view_module_version": "1.2.0",
            "_view_name": "LayoutView",
            "align_content": null,
            "align_items": null,
            "align_self": null,
            "border": null,
            "bottom": null,
            "display": null,
            "flex": null,
            "flex_flow": null,
            "grid_area": null,
            "grid_auto_columns": null,
            "grid_auto_flow": null,
            "grid_auto_rows": null,
            "grid_column": null,
            "grid_gap": null,
            "grid_row": null,
            "grid_template_areas": null,
            "grid_template_columns": null,
            "grid_template_rows": null,
            "height": null,
            "justify_content": null,
            "justify_items": null,
            "left": null,
            "margin": null,
            "max_height": null,
            "max_width": null,
            "min_height": null,
            "min_width": null,
            "object_fit": null,
            "object_position": null,
            "order": null,
            "overflow": null,
            "overflow_x": null,
            "overflow_y": null,
            "padding": null,
            "right": null,
            "top": null,
            "visibility": null,
            "width": null
          }
        },
        "2a69fe4803374e1aadd61489764535ca": {
          "model_module": "@jupyter-widgets/controls",
          "model_name": "ProgressStyleModel",
          "model_module_version": "1.5.0",
          "state": {
            "_model_module": "@jupyter-widgets/controls",
            "_model_module_version": "1.5.0",
            "_model_name": "ProgressStyleModel",
            "_view_count": null,
            "_view_module": "@jupyter-widgets/base",
            "_view_module_version": "1.2.0",
            "_view_name": "StyleView",
            "bar_color": null,
            "description_width": ""
          }
        },
        "9431c60199af46b3a6ce54bc2c83d4b1": {
          "model_module": "@jupyter-widgets/base",
          "model_name": "LayoutModel",
          "model_module_version": "1.2.0",
          "state": {
            "_model_module": "@jupyter-widgets/base",
            "_model_module_version": "1.2.0",
            "_model_name": "LayoutModel",
            "_view_count": null,
            "_view_module": "@jupyter-widgets/base",
            "_view_module_version": "1.2.0",
            "_view_name": "LayoutView",
            "align_content": null,
            "align_items": null,
            "align_self": null,
            "border": null,
            "bottom": null,
            "display": null,
            "flex": null,
            "flex_flow": null,
            "grid_area": null,
            "grid_auto_columns": null,
            "grid_auto_flow": null,
            "grid_auto_rows": null,
            "grid_column": null,
            "grid_gap": null,
            "grid_row": null,
            "grid_template_areas": null,
            "grid_template_columns": null,
            "grid_template_rows": null,
            "height": null,
            "justify_content": null,
            "justify_items": null,
            "left": null,
            "margin": null,
            "max_height": null,
            "max_width": null,
            "min_height": null,
            "min_width": null,
            "object_fit": null,
            "object_position": null,
            "order": null,
            "overflow": null,
            "overflow_x": null,
            "overflow_y": null,
            "padding": null,
            "right": null,
            "top": null,
            "visibility": null,
            "width": null
          }
        },
        "e92b641c1f2d46cb9875df4a296a1240": {
          "model_module": "@jupyter-widgets/controls",
          "model_name": "DescriptionStyleModel",
          "model_module_version": "1.5.0",
          "state": {
            "_model_module": "@jupyter-widgets/controls",
            "_model_module_version": "1.5.0",
            "_model_name": "DescriptionStyleModel",
            "_view_count": null,
            "_view_module": "@jupyter-widgets/base",
            "_view_module_version": "1.2.0",
            "_view_name": "StyleView",
            "description_width": ""
          }
        },
        "6b70e7bb5f56463dbdd490c70cd4b2df": {
          "model_module": "@jupyter-widgets/controls",
          "model_name": "HBoxModel",
          "model_module_version": "1.5.0",
          "state": {
            "_dom_classes": [],
            "_model_module": "@jupyter-widgets/controls",
            "_model_module_version": "1.5.0",
            "_model_name": "HBoxModel",
            "_view_count": null,
            "_view_module": "@jupyter-widgets/controls",
            "_view_module_version": "1.5.0",
            "_view_name": "HBoxView",
            "box_style": "",
            "children": [
              "IPY_MODEL_96ef9dc2f99a4272be0324c98eb2a029",
              "IPY_MODEL_cdf3a166e7b44951850e32c54bd2599b",
              "IPY_MODEL_f1ceea5141f343799c3bfc9ae75cd465"
            ],
            "layout": "IPY_MODEL_60080b9c11be4c99bb544a1ec4c79cbe"
          }
        },
        "96ef9dc2f99a4272be0324c98eb2a029": {
          "model_module": "@jupyter-widgets/controls",
          "model_name": "HTMLModel",
          "model_module_version": "1.5.0",
          "state": {
            "_dom_classes": [],
            "_model_module": "@jupyter-widgets/controls",
            "_model_module_version": "1.5.0",
            "_model_name": "HTMLModel",
            "_view_count": null,
            "_view_module": "@jupyter-widgets/controls",
            "_view_module_version": "1.5.0",
            "_view_name": "HTMLView",
            "description": "",
            "description_tooltip": null,
            "layout": "IPY_MODEL_7fecc06e59944f7186ac88de53e1d47b",
            "placeholder": "​",
            "style": "IPY_MODEL_8dbbfc628fbf401194e0b63a91a48d82",
            "value": "100%"
          }
        },
        "cdf3a166e7b44951850e32c54bd2599b": {
          "model_module": "@jupyter-widgets/controls",
          "model_name": "FloatProgressModel",
          "model_module_version": "1.5.0",
          "state": {
            "_dom_classes": [],
            "_model_module": "@jupyter-widgets/controls",
            "_model_module_version": "1.5.0",
            "_model_name": "FloatProgressModel",
            "_view_count": null,
            "_view_module": "@jupyter-widgets/controls",
            "_view_module_version": "1.5.0",
            "_view_name": "ProgressView",
            "bar_style": "success",
            "description": "",
            "description_tooltip": null,
            "layout": "IPY_MODEL_529070e7d4074f34bf39d456e30f158b",
            "max": 3,
            "min": 0,
            "orientation": "horizontal",
            "style": "IPY_MODEL_eb31f77ff24d4c7bbac81fb4147d0502",
            "value": 3
          }
        },
        "f1ceea5141f343799c3bfc9ae75cd465": {
          "model_module": "@jupyter-widgets/controls",
          "model_name": "HTMLModel",
          "model_module_version": "1.5.0",
          "state": {
            "_dom_classes": [],
            "_model_module": "@jupyter-widgets/controls",
            "_model_module_version": "1.5.0",
            "_model_name": "HTMLModel",
            "_view_count": null,
            "_view_module": "@jupyter-widgets/controls",
            "_view_module_version": "1.5.0",
            "_view_name": "HTMLView",
            "description": "",
            "description_tooltip": null,
            "layout": "IPY_MODEL_a5bca570fc99431e994937ab1bd292ee",
            "placeholder": "​",
            "style": "IPY_MODEL_cec5b05295eb45b78903a6a75c4ed667",
            "value": " 3/3 [00:34&lt;00:00, 11.65s/it]"
          }
        },
        "60080b9c11be4c99bb544a1ec4c79cbe": {
          "model_module": "@jupyter-widgets/base",
          "model_name": "LayoutModel",
          "model_module_version": "1.2.0",
          "state": {
            "_model_module": "@jupyter-widgets/base",
            "_model_module_version": "1.2.0",
            "_model_name": "LayoutModel",
            "_view_count": null,
            "_view_module": "@jupyter-widgets/base",
            "_view_module_version": "1.2.0",
            "_view_name": "LayoutView",
            "align_content": null,
            "align_items": null,
            "align_self": null,
            "border": null,
            "bottom": null,
            "display": null,
            "flex": null,
            "flex_flow": null,
            "grid_area": null,
            "grid_auto_columns": null,
            "grid_auto_flow": null,
            "grid_auto_rows": null,
            "grid_column": null,
            "grid_gap": null,
            "grid_row": null,
            "grid_template_areas": null,
            "grid_template_columns": null,
            "grid_template_rows": null,
            "height": null,
            "justify_content": null,
            "justify_items": null,
            "left": null,
            "margin": null,
            "max_height": null,
            "max_width": null,
            "min_height": null,
            "min_width": null,
            "object_fit": null,
            "object_position": null,
            "order": null,
            "overflow": null,
            "overflow_x": null,
            "overflow_y": null,
            "padding": null,
            "right": null,
            "top": null,
            "visibility": null,
            "width": null
          }
        },
        "7fecc06e59944f7186ac88de53e1d47b": {
          "model_module": "@jupyter-widgets/base",
          "model_name": "LayoutModel",
          "model_module_version": "1.2.0",
          "state": {
            "_model_module": "@jupyter-widgets/base",
            "_model_module_version": "1.2.0",
            "_model_name": "LayoutModel",
            "_view_count": null,
            "_view_module": "@jupyter-widgets/base",
            "_view_module_version": "1.2.0",
            "_view_name": "LayoutView",
            "align_content": null,
            "align_items": null,
            "align_self": null,
            "border": null,
            "bottom": null,
            "display": null,
            "flex": null,
            "flex_flow": null,
            "grid_area": null,
            "grid_auto_columns": null,
            "grid_auto_flow": null,
            "grid_auto_rows": null,
            "grid_column": null,
            "grid_gap": null,
            "grid_row": null,
            "grid_template_areas": null,
            "grid_template_columns": null,
            "grid_template_rows": null,
            "height": null,
            "justify_content": null,
            "justify_items": null,
            "left": null,
            "margin": null,
            "max_height": null,
            "max_width": null,
            "min_height": null,
            "min_width": null,
            "object_fit": null,
            "object_position": null,
            "order": null,
            "overflow": null,
            "overflow_x": null,
            "overflow_y": null,
            "padding": null,
            "right": null,
            "top": null,
            "visibility": null,
            "width": null
          }
        },
        "8dbbfc628fbf401194e0b63a91a48d82": {
          "model_module": "@jupyter-widgets/controls",
          "model_name": "DescriptionStyleModel",
          "model_module_version": "1.5.0",
          "state": {
            "_model_module": "@jupyter-widgets/controls",
            "_model_module_version": "1.5.0",
            "_model_name": "DescriptionStyleModel",
            "_view_count": null,
            "_view_module": "@jupyter-widgets/base",
            "_view_module_version": "1.2.0",
            "_view_name": "StyleView",
            "description_width": ""
          }
        },
        "529070e7d4074f34bf39d456e30f158b": {
          "model_module": "@jupyter-widgets/base",
          "model_name": "LayoutModel",
          "model_module_version": "1.2.0",
          "state": {
            "_model_module": "@jupyter-widgets/base",
            "_model_module_version": "1.2.0",
            "_model_name": "LayoutModel",
            "_view_count": null,
            "_view_module": "@jupyter-widgets/base",
            "_view_module_version": "1.2.0",
            "_view_name": "LayoutView",
            "align_content": null,
            "align_items": null,
            "align_self": null,
            "border": null,
            "bottom": null,
            "display": null,
            "flex": null,
            "flex_flow": null,
            "grid_area": null,
            "grid_auto_columns": null,
            "grid_auto_flow": null,
            "grid_auto_rows": null,
            "grid_column": null,
            "grid_gap": null,
            "grid_row": null,
            "grid_template_areas": null,
            "grid_template_columns": null,
            "grid_template_rows": null,
            "height": null,
            "justify_content": null,
            "justify_items": null,
            "left": null,
            "margin": null,
            "max_height": null,
            "max_width": null,
            "min_height": null,
            "min_width": null,
            "object_fit": null,
            "object_position": null,
            "order": null,
            "overflow": null,
            "overflow_x": null,
            "overflow_y": null,
            "padding": null,
            "right": null,
            "top": null,
            "visibility": null,
            "width": null
          }
        },
        "eb31f77ff24d4c7bbac81fb4147d0502": {
          "model_module": "@jupyter-widgets/controls",
          "model_name": "ProgressStyleModel",
          "model_module_version": "1.5.0",
          "state": {
            "_model_module": "@jupyter-widgets/controls",
            "_model_module_version": "1.5.0",
            "_model_name": "ProgressStyleModel",
            "_view_count": null,
            "_view_module": "@jupyter-widgets/base",
            "_view_module_version": "1.2.0",
            "_view_name": "StyleView",
            "bar_color": null,
            "description_width": ""
          }
        },
        "a5bca570fc99431e994937ab1bd292ee": {
          "model_module": "@jupyter-widgets/base",
          "model_name": "LayoutModel",
          "model_module_version": "1.2.0",
          "state": {
            "_model_module": "@jupyter-widgets/base",
            "_model_module_version": "1.2.0",
            "_model_name": "LayoutModel",
            "_view_count": null,
            "_view_module": "@jupyter-widgets/base",
            "_view_module_version": "1.2.0",
            "_view_name": "LayoutView",
            "align_content": null,
            "align_items": null,
            "align_self": null,
            "border": null,
            "bottom": null,
            "display": null,
            "flex": null,
            "flex_flow": null,
            "grid_area": null,
            "grid_auto_columns": null,
            "grid_auto_flow": null,
            "grid_auto_rows": null,
            "grid_column": null,
            "grid_gap": null,
            "grid_row": null,
            "grid_template_areas": null,
            "grid_template_columns": null,
            "grid_template_rows": null,
            "height": null,
            "justify_content": null,
            "justify_items": null,
            "left": null,
            "margin": null,
            "max_height": null,
            "max_width": null,
            "min_height": null,
            "min_width": null,
            "object_fit": null,
            "object_position": null,
            "order": null,
            "overflow": null,
            "overflow_x": null,
            "overflow_y": null,
            "padding": null,
            "right": null,
            "top": null,
            "visibility": null,
            "width": null
          }
        },
        "cec5b05295eb45b78903a6a75c4ed667": {
          "model_module": "@jupyter-widgets/controls",
          "model_name": "DescriptionStyleModel",
          "model_module_version": "1.5.0",
          "state": {
            "_model_module": "@jupyter-widgets/controls",
            "_model_module_version": "1.5.0",
            "_model_name": "DescriptionStyleModel",
            "_view_count": null,
            "_view_module": "@jupyter-widgets/base",
            "_view_module_version": "1.2.0",
            "_view_name": "StyleView",
            "description_width": ""
          }
        },
        "1deef6de81054e108e31b966c3fec378": {
          "model_module": "@jupyter-widgets/controls",
          "model_name": "HBoxModel",
          "model_module_version": "1.5.0",
          "state": {
            "_dom_classes": [],
            "_model_module": "@jupyter-widgets/controls",
            "_model_module_version": "1.5.0",
            "_model_name": "HBoxModel",
            "_view_count": null,
            "_view_module": "@jupyter-widgets/controls",
            "_view_module_version": "1.5.0",
            "_view_name": "HBoxView",
            "box_style": "",
            "children": [
              "IPY_MODEL_8457f3f1e86942748a9b2fadd914bc4c",
              "IPY_MODEL_e9df11d38b9e4dceafcaf5132f590bd3",
              "IPY_MODEL_1d953aae3b9840e3b4bf38e43f613cec"
            ],
            "layout": "IPY_MODEL_d29ecf6e5c4d4d519018602ba4f6e758"
          }
        },
        "8457f3f1e86942748a9b2fadd914bc4c": {
          "model_module": "@jupyter-widgets/controls",
          "model_name": "HTMLModel",
          "model_module_version": "1.5.0",
          "state": {
            "_dom_classes": [],
            "_model_module": "@jupyter-widgets/controls",
            "_model_module_version": "1.5.0",
            "_model_name": "HTMLModel",
            "_view_count": null,
            "_view_module": "@jupyter-widgets/controls",
            "_view_module_version": "1.5.0",
            "_view_name": "HTMLView",
            "description": "",
            "description_tooltip": null,
            "layout": "IPY_MODEL_c231617fbd45454dad735e3c0c56e60f",
            "placeholder": "​",
            "style": "IPY_MODEL_1f319325bfbd47caa21bd1fd1c0dd703",
            "value": "making predictions...: 100%"
          }
        },
        "e9df11d38b9e4dceafcaf5132f590bd3": {
          "model_module": "@jupyter-widgets/controls",
          "model_name": "FloatProgressModel",
          "model_module_version": "1.5.0",
          "state": {
            "_dom_classes": [],
            "_model_module": "@jupyter-widgets/controls",
            "_model_module_version": "1.5.0",
            "_model_name": "FloatProgressModel",
            "_view_count": null,
            "_view_module": "@jupyter-widgets/controls",
            "_view_module_version": "1.5.0",
            "_view_name": "ProgressView",
            "bar_style": "success",
            "description": "",
            "description_tooltip": null,
            "layout": "IPY_MODEL_92175a788af34c8f91744dbdb48f8714",
            "max": 313,
            "min": 0,
            "orientation": "horizontal",
            "style": "IPY_MODEL_7c88ffc692894ff2b7c06865437bac03",
            "value": 313
          }
        },
        "1d953aae3b9840e3b4bf38e43f613cec": {
          "model_module": "@jupyter-widgets/controls",
          "model_name": "HTMLModel",
          "model_module_version": "1.5.0",
          "state": {
            "_dom_classes": [],
            "_model_module": "@jupyter-widgets/controls",
            "_model_module_version": "1.5.0",
            "_model_name": "HTMLModel",
            "_view_count": null,
            "_view_module": "@jupyter-widgets/controls",
            "_view_module_version": "1.5.0",
            "_view_name": "HTMLView",
            "description": "",
            "description_tooltip": null,
            "layout": "IPY_MODEL_55a952d5cc144b428183dadc572b0b4e",
            "placeholder": "​",
            "style": "IPY_MODEL_0139c450dc654469a5dbee70465c3aa3",
            "value": " 313/313 [00:01&lt;00:00, 292.10it/s]"
          }
        },
        "d29ecf6e5c4d4d519018602ba4f6e758": {
          "model_module": "@jupyter-widgets/base",
          "model_name": "LayoutModel",
          "model_module_version": "1.2.0",
          "state": {
            "_model_module": "@jupyter-widgets/base",
            "_model_module_version": "1.2.0",
            "_model_name": "LayoutModel",
            "_view_count": null,
            "_view_module": "@jupyter-widgets/base",
            "_view_module_version": "1.2.0",
            "_view_name": "LayoutView",
            "align_content": null,
            "align_items": null,
            "align_self": null,
            "border": null,
            "bottom": null,
            "display": null,
            "flex": null,
            "flex_flow": null,
            "grid_area": null,
            "grid_auto_columns": null,
            "grid_auto_flow": null,
            "grid_auto_rows": null,
            "grid_column": null,
            "grid_gap": null,
            "grid_row": null,
            "grid_template_areas": null,
            "grid_template_columns": null,
            "grid_template_rows": null,
            "height": null,
            "justify_content": null,
            "justify_items": null,
            "left": null,
            "margin": null,
            "max_height": null,
            "max_width": null,
            "min_height": null,
            "min_width": null,
            "object_fit": null,
            "object_position": null,
            "order": null,
            "overflow": null,
            "overflow_x": null,
            "overflow_y": null,
            "padding": null,
            "right": null,
            "top": null,
            "visibility": null,
            "width": null
          }
        },
        "c231617fbd45454dad735e3c0c56e60f": {
          "model_module": "@jupyter-widgets/base",
          "model_name": "LayoutModel",
          "model_module_version": "1.2.0",
          "state": {
            "_model_module": "@jupyter-widgets/base",
            "_model_module_version": "1.2.0",
            "_model_name": "LayoutModel",
            "_view_count": null,
            "_view_module": "@jupyter-widgets/base",
            "_view_module_version": "1.2.0",
            "_view_name": "LayoutView",
            "align_content": null,
            "align_items": null,
            "align_self": null,
            "border": null,
            "bottom": null,
            "display": null,
            "flex": null,
            "flex_flow": null,
            "grid_area": null,
            "grid_auto_columns": null,
            "grid_auto_flow": null,
            "grid_auto_rows": null,
            "grid_column": null,
            "grid_gap": null,
            "grid_row": null,
            "grid_template_areas": null,
            "grid_template_columns": null,
            "grid_template_rows": null,
            "height": null,
            "justify_content": null,
            "justify_items": null,
            "left": null,
            "margin": null,
            "max_height": null,
            "max_width": null,
            "min_height": null,
            "min_width": null,
            "object_fit": null,
            "object_position": null,
            "order": null,
            "overflow": null,
            "overflow_x": null,
            "overflow_y": null,
            "padding": null,
            "right": null,
            "top": null,
            "visibility": null,
            "width": null
          }
        },
        "1f319325bfbd47caa21bd1fd1c0dd703": {
          "model_module": "@jupyter-widgets/controls",
          "model_name": "DescriptionStyleModel",
          "model_module_version": "1.5.0",
          "state": {
            "_model_module": "@jupyter-widgets/controls",
            "_model_module_version": "1.5.0",
            "_model_name": "DescriptionStyleModel",
            "_view_count": null,
            "_view_module": "@jupyter-widgets/base",
            "_view_module_version": "1.2.0",
            "_view_name": "StyleView",
            "description_width": ""
          }
        },
        "92175a788af34c8f91744dbdb48f8714": {
          "model_module": "@jupyter-widgets/base",
          "model_name": "LayoutModel",
          "model_module_version": "1.2.0",
          "state": {
            "_model_module": "@jupyter-widgets/base",
            "_model_module_version": "1.2.0",
            "_model_name": "LayoutModel",
            "_view_count": null,
            "_view_module": "@jupyter-widgets/base",
            "_view_module_version": "1.2.0",
            "_view_name": "LayoutView",
            "align_content": null,
            "align_items": null,
            "align_self": null,
            "border": null,
            "bottom": null,
            "display": null,
            "flex": null,
            "flex_flow": null,
            "grid_area": null,
            "grid_auto_columns": null,
            "grid_auto_flow": null,
            "grid_auto_rows": null,
            "grid_column": null,
            "grid_gap": null,
            "grid_row": null,
            "grid_template_areas": null,
            "grid_template_columns": null,
            "grid_template_rows": null,
            "height": null,
            "justify_content": null,
            "justify_items": null,
            "left": null,
            "margin": null,
            "max_height": null,
            "max_width": null,
            "min_height": null,
            "min_width": null,
            "object_fit": null,
            "object_position": null,
            "order": null,
            "overflow": null,
            "overflow_x": null,
            "overflow_y": null,
            "padding": null,
            "right": null,
            "top": null,
            "visibility": null,
            "width": null
          }
        },
        "7c88ffc692894ff2b7c06865437bac03": {
          "model_module": "@jupyter-widgets/controls",
          "model_name": "ProgressStyleModel",
          "model_module_version": "1.5.0",
          "state": {
            "_model_module": "@jupyter-widgets/controls",
            "_model_module_version": "1.5.0",
            "_model_name": "ProgressStyleModel",
            "_view_count": null,
            "_view_module": "@jupyter-widgets/base",
            "_view_module_version": "1.2.0",
            "_view_name": "StyleView",
            "bar_color": null,
            "description_width": ""
          }
        },
        "55a952d5cc144b428183dadc572b0b4e": {
          "model_module": "@jupyter-widgets/base",
          "model_name": "LayoutModel",
          "model_module_version": "1.2.0",
          "state": {
            "_model_module": "@jupyter-widgets/base",
            "_model_module_version": "1.2.0",
            "_model_name": "LayoutModel",
            "_view_count": null,
            "_view_module": "@jupyter-widgets/base",
            "_view_module_version": "1.2.0",
            "_view_name": "LayoutView",
            "align_content": null,
            "align_items": null,
            "align_self": null,
            "border": null,
            "bottom": null,
            "display": null,
            "flex": null,
            "flex_flow": null,
            "grid_area": null,
            "grid_auto_columns": null,
            "grid_auto_flow": null,
            "grid_auto_rows": null,
            "grid_column": null,
            "grid_gap": null,
            "grid_row": null,
            "grid_template_areas": null,
            "grid_template_columns": null,
            "grid_template_rows": null,
            "height": null,
            "justify_content": null,
            "justify_items": null,
            "left": null,
            "margin": null,
            "max_height": null,
            "max_width": null,
            "min_height": null,
            "min_width": null,
            "object_fit": null,
            "object_position": null,
            "order": null,
            "overflow": null,
            "overflow_x": null,
            "overflow_y": null,
            "padding": null,
            "right": null,
            "top": null,
            "visibility": null,
            "width": null
          }
        },
        "0139c450dc654469a5dbee70465c3aa3": {
          "model_module": "@jupyter-widgets/controls",
          "model_name": "DescriptionStyleModel",
          "model_module_version": "1.5.0",
          "state": {
            "_model_module": "@jupyter-widgets/controls",
            "_model_module_version": "1.5.0",
            "_model_name": "DescriptionStyleModel",
            "_view_count": null,
            "_view_module": "@jupyter-widgets/base",
            "_view_module_version": "1.2.0",
            "_view_name": "StyleView",
            "description_width": ""
          }
        }
      }
    }
  },
  "nbformat": 4,
  "nbformat_minor": 0
}